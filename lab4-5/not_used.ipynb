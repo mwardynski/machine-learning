{
 "cells": [
  {
   "cell_type": "markdown",
   "metadata": {},
   "source": [
    "### Multioutput linear regression with Darts dapter - not working"
   ]
  },
  {
   "cell_type": "code",
   "execution_count": null,
   "metadata": {},
   "outputs": [],
   "source": [
    "!pip install -U darts\n",
    "!pip install -U u8darts>=0.29"
   ]
  },
  {
   "cell_type": "code",
   "execution_count": null,
   "metadata": {},
   "outputs": [],
   "source": [
    "from darts.models import LinearRegressionModel\n",
    "from sktime.forecasting.base.adapters._darts import _DartsRegressionAdapter\n",
    "\n",
    "base_model = LinearRegressionModel(lags=list(range(-60,-1)))  # Example darts model with lags\n",
    "darts_model = _DartsRegressionAdapter()\n",
    "\n",
    "evaluate_linear(model = darts_model, y_train=df_pasta_train[['value_B1']], y_test=df_pasta_test[['value_B1']], lin_reg=True)"
   ]
  },
  {
   "cell_type": "markdown",
   "metadata": {},
   "source": [
    "### Linear regression but for a single value - working but not wanted"
   ]
  },
  {
   "cell_type": "code",
   "execution_count": null,
   "metadata": {},
   "outputs": [],
   "source": [
    "# Code source: Jaques Grobler\n",
    "# License: BSD 3 clause\n",
    "\n",
    "import matplotlib.pyplot as plt\n",
    "import numpy as np\n",
    "\n",
    "from sklearn import datasets, linear_model\n",
    "from sklearn.metrics import mean_squared_error, r2_score\n",
    "\n",
    "X = df_pasta_train['value_B1']\n",
    "y = X.shift(df_pasta_test.shape[0]).dropna()\n",
    "\n",
    "X = X.to_numpy().reshape(-1, 1)[:-df_pasta_test.shape[0]]\n",
    "y = y.to_numpy()\n",
    "\n",
    "# Create linear regression object\n",
    "regr = linear_model.LinearRegression()\n",
    "\n",
    "# Train the model using the training sets\n",
    "regr.fit(X, y)\n",
    "\n",
    "y_test = df_pasta_test['value_B1'].to_numpy().reshape(-1, 1)\n",
    "\n",
    "# Make predictions using the testing set\n",
    "X_test = X[:365]\n",
    "y_pred = regr.predict(X_test)\n",
    "\n",
    "\n",
    "\n",
    "mase = mean_absolute_scaled_error(y_true=df_pasta_test['value_B1'], y_pred=y_pred, y_train=df_pasta_train['value_B1'])\n",
    "print(f\"MASE: {mase:.2f}\")"
   ]
  },
  {
   "cell_type": "markdown",
   "metadata": {},
   "source": [
    "### Multioutput linear regression"
   ]
  },
  {
   "cell_type": "code",
   "execution_count": null,
   "metadata": {},
   "outputs": [],
   "source": [
    "import pandas as pd\n",
    "import numpy as np\n",
    "from sklearn.multioutput import MultiOutputRegressor\n",
    "from sklearn.linear_model import LinearRegression\n",
    "from sklearn.model_selection import train_test_split\n",
    "from sklearn.metrics import mean_absolute_error\n",
    "\n",
    "data = df_pasta_train\n",
    "\n",
    "# Step 1: Create Features and Multioutput Targets\n",
    "def create_multioutput_features(df, df_column, input_window=30, output_horizon=365):\n",
    "    df = df.copy()\n",
    "    features = []\n",
    "    targets = []\n",
    "    for i in range(len(df) - input_window - output_horizon):\n",
    "        features.append(df[df_column].iloc[i : i + input_window].values)\n",
    "        targets.append(df[df_column].iloc[i + input_window : i + input_window + output_horizon].values)\n",
    "    feature_df = pd.DataFrame(features)\n",
    "    target_df = pd.DataFrame(targets)\n",
    "    return feature_df, target_df\n",
    "\n",
    "input_window = 300  # Past 30 days as features\n",
    "output_horizon = 365  # Forecast next 365 days\n",
    "df_column = \"value_B4\"\n",
    "X, y = create_multioutput_features(data, df_column, input_window, output_horizon)\n",
    "\n",
    "base_model = LinearRegression()\n",
    "multioutput_model = MultiOutputRegressor(base_model)\n",
    "multioutput_model.fit(X, y)\n",
    "\n",
    "# Step 4: Forecast the Next Year\n",
    "last_input = data[df_column].iloc[-input_window:].values.reshape(1, -1)  # Last 30 days as input\n",
    "y_pred = multioutput_model.predict(last_input).flatten()\n",
    "\n",
    "\n",
    "# Step 5: Evaluate the Model\n",
    "mase = mean_absolute_scaled_error(df_pasta_test[df_column], y_pred, y_train=df_pasta_train[df_column])\n",
    "print(f\"MASE: {mase:.2f}\")\n",
    "\n",
    "# Step 6: Plot Results\n",
    "import matplotlib.pyplot as plt\n",
    "plt.figure(figsize=(12, 6))\n",
    "plt.plot(data.index, data[df_column], label=\"True Values\")\n",
    "forecast_dates = pd.date_range(start=\"2018-01-01\", periods=output_horizon, freq=\"D\")\n",
    "plt.plot(forecast_dates, y_pred, label=\"Forecast\", color=\"orange\")\n",
    "plt.xlabel(\"Date\")\n",
    "plt.ylabel(\"Value\")\n",
    "plt.legend()\n",
    "plt.grid()\n",
    "plt.title(\"Multioutput Regression Forecast for Next Year\")\n",
    "plt.show()\n"
   ]
  },
  {
   "cell_type": "markdown",
   "metadata": {},
   "source": [
    "### Linear regression from darts without CV"
   ]
  },
  {
   "cell_type": "code",
   "execution_count": null,
   "metadata": {},
   "outputs": [],
   "source": [
    "import numpy as np\n",
    "from darts.models import LinearRegressionModel\n",
    "from sktime.forecasting.base import ForecastingHorizon\n",
    "\n",
    "# Step 2: Initialize the Darts Model\n",
    "# Properly initialize LinearRegressionModel with valid lags\n",
    "base_model = LinearRegressionModel(lags=1, output_chunk_length=366)  # Lags for autoregression\n",
    "\n",
    "adapter = DartsForecaster(model=base_model)\n",
    "fh = ForecastingHorizon(np.arange(1, df_pasta_test.shape[0]+1))\n",
    "\n",
    "# Step 5: Fit the Model\n",
    "# Ensure `y_train` is a pandas Series and matches sktime expectations\n",
    "adapter.fit(df_pasta_train, fh=fh)\n",
    "\n",
    "# Step 6: Make Predictions\n",
    "y_pred = adapter.predict(fh=fh)\n",
    "\n",
    "mase = mean_absolute_scaled_error(y_true=df_pasta_test, y_pred=y_pred, y_train=df_pasta_train)\n",
    "print(f\"MASE: {mase:.2f}\")"
   ]
  }
 ],
 "metadata": {
  "language_info": {
   "name": "python"
  }
 },
 "nbformat": 4,
 "nbformat_minor": 2
}
