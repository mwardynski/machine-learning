{
 "cells": [
  {
   "cell_type": "code",
   "execution_count": 166,
   "metadata": {},
   "outputs": [],
   "source": [
    "import numpy as np\n",
    "import math\n",
    "\n",
    "class GaussianNaiveBayes:\n",
    "      \n",
    "    def __init__(self):\n",
    "        self.mean = None\n",
    "        self.std = None\n",
    "        self.probs = None\n",
    "      \n",
    "    def fit(self, X, y):\n",
    "        values, counts = np.unique(y, return_counts=True)\n",
    "        \n",
    "        self.probs = np.zeros(len(values))\n",
    "        self.mean = np.zeros((len(values), X.shape[1]))\n",
    "        self.std = np.zeros((len(values), X.shape[1]))\n",
    "        \n",
    "        for i, value in enumerate(values):\n",
    "            self.probs[value] = counts[i]/len(y)\n",
    "\n",
    "        for label in range(len(self.probs)):\n",
    "            indices = np.where(y == label)[0]\n",
    "            relevant_samples = X[indices]\n",
    "            for feat in range(relevant_samples.shape[1]):\n",
    "                feat_mean = np.mean(relevant_samples[:, feat])\n",
    "                feat_std = np.std(relevant_samples[:, feat])\n",
    "              \n",
    "                self.mean[label][feat] = feat_mean\n",
    "                self.std[label][feat] = feat_std       \n",
    "        return self\n",
    "      \n",
    "    def predict(self, X):\n",
    "        labels = []\n",
    "        for x in X:\n",
    "            selected_k = -1\n",
    "            max_prob_for_k = 0\n",
    "            for k in range(len(self.probs)):\n",
    "                sum = 0\n",
    "                for i in range(self.mean.shape[1]):\n",
    "                    prob_xi_ck = 1/math.sqrt(2*math.pi*self.std[k][i])*math.exp(-((x[i]-self.mean[k][i])**2)/(2*self.std[k][i]))\n",
    "                    sum += prob_xi_ck\n",
    "                prob_k = math.log(self.probs[k]) + sum\n",
    "                if(max_prob_for_k < prob_k):\n",
    "                    max_prob_for_k = prob_k\n",
    "                    selected_k = k\n",
    "            labels.append(selected_k)\n",
    "\n",
    "        return labels"
   ]
  },
  {
   "cell_type": "code",
   "execution_count": 181,
   "metadata": {},
   "outputs": [
    {
     "name": "stdout",
     "output_type": "stream",
     "text": [
      "avg-values -> precision: 0.9666666666666667, recall: 0.9666666666666667, f1 score: 0.9666666666666667\n",
      "avg-values -> precision: 0.9506159420289855, recall: 0.95, f1 score: 0.9499457994579946\n"
     ]
    }
   ],
   "source": [
    "from sklearn.datasets import load_iris\n",
    "from sklearn.metrics import precision_recall_fscore_support\n",
    "from sklearn.model_selection import train_test_split\n",
    "from sklearn.naive_bayes import GaussianNB\n",
    "import pandas as pd\n",
    "\n",
    "iris = load_iris()\n",
    "X = iris.data\n",
    "y = iris.target\n",
    "\n",
    "X_train, X_test, y_train, y_test = train_test_split(X, y, test_size=0.4)\n",
    "\n",
    "my_gnb = GaussianNaiveBayes()\n",
    "my_gnb.fit(X_train, y_train)\n",
    "y_pred = my_gnb.predict(X_test)\n",
    "precision_avg, recall_avg, f1_score_avg, _ = precision_recall_fscore_support(y_test, y_pred, average='weighted')\n",
    "print(f'avg-values -> precision: {precision_avg}, recall: {recall_avg}, f1 score: {f1_score_avg}')\n",
    "\n",
    "gnb = GaussianNB()\n",
    "\n",
    "gnb.fit(X_train, y_train)\n",
    "y_pred = gnb.predict(X_test)\n",
    "precision_avg, recall_avg, f1_score_avg, _ = precision_recall_fscore_support(y_test, y_pred, average='weighted')\n",
    "print(f'avg-values -> precision: {precision_avg}, recall: {recall_avg}, f1 score: {f1_score_avg}')\n"
   ]
  },
  {
   "cell_type": "code",
   "execution_count": 24,
   "metadata": {},
   "outputs": [],
   "source": [
    "from sklearn.datasets import fetch_20newsgroups\n",
    "\n",
    "# Load the 20 Newsgroups dataset\n",
    "newsgroups = fetch_20newsgroups(subset='all', remove=('headers', 'footers', 'quotes'))\n",
    "\n",
    "# Get the data and target\n",
    "X = newsgroups.data  # List of documents (text data)\n",
    "y = newsgroups.target  # Corresponding labels (newsgroup categories)\n",
    "\n",
    "X_train, X_test, y_train, y_test = train_test_split(X, y, test_size=0.4)"
   ]
  },
  {
   "cell_type": "code",
   "execution_count": 26,
   "metadata": {},
   "outputs": [],
   "source": [
    "from sklearn.datasets import load_breast_cancer\n",
    "import pandas as pd\n",
    "\n",
    "# Load the Breast Cancer Wisconsin dataset\n",
    "cancer = load_breast_cancer()\n",
    "\n",
    "# Get the features and target\n",
    "X = cancer.data  # Feature matrix\n",
    "y = cancer.target  # Target labels (0 = malignant, 1 = benign)\n",
    "\n",
    "X_train, X_test, y_train, y_test = train_test_split(X, y, test_size=0.4)"
   ]
  }
 ],
 "metadata": {
  "kernelspec": {
   "display_name": ".venv",
   "language": "python",
   "name": "python3"
  },
  "language_info": {
   "codemirror_mode": {
    "name": "ipython",
    "version": 3
   },
   "file_extension": ".py",
   "mimetype": "text/x-python",
   "name": "python",
   "nbconvert_exporter": "python",
   "pygments_lexer": "ipython3",
   "version": "3.12.7"
  }
 },
 "nbformat": 4,
 "nbformat_minor": 2
}
