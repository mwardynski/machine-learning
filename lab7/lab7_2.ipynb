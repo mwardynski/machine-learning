{
 "cells": [
  {
   "cell_type": "markdown",
   "metadata": {},
   "source": [
    "Marcin Wardyński  \n",
    "wtorek, 9:45\n",
    "\n",
    "## Laboratorium 7\n",
    "### 7.2 DBN"
   ]
  },
  {
   "cell_type": "code",
   "execution_count": 3,
   "metadata": {},
   "outputs": [],
   "source": [
    "import warnings\n",
    "warnings.filterwarnings(\"ignore\")\n",
    "\n",
    "import importlib\n",
    "import lab7_utils as utils\n",
    "importlib.reload(utils)\n",
    "\n",
    "seed = 42"
   ]
  },
  {
   "cell_type": "code",
   "execution_count": 6,
   "metadata": {},
   "outputs": [],
   "source": [
    "from sklearn.base import TransformerMixin, BaseEstimator\n",
    "\n",
    "class FrozenRBM(TransformerMixin, BaseEstimator):\n",
    "    def __init__(self, rbm):\n",
    "        self.rbm = rbm\n",
    "\n",
    "    def fit(self, X, y=None):\n",
    "        return self\n",
    "\n",
    "    def transform(self, X):\n",
    "        return self.rbm.transform(X)"
   ]
  },
  {
   "cell_type": "code",
   "execution_count": 7,
   "metadata": {},
   "outputs": [],
   "source": [
    "from sklearn.base import clone\n",
    "from sklearn.pipeline import Pipeline\n",
    "\n",
    "def wrap_rbm_snapshots(rbms_snapshots):\n",
    "    rbm_tuples = []\n",
    "    for i in range(len(rbms_snapshots)):\n",
    "        rbm_tuples.append((f\"rbm_L{i+1}\", rbms_snapshots[i]))\n",
    "\n",
    "    return rbm_tuples\n",
    "\n",
    "\n",
    "def create_dbn(hidden_dims, rbm_base, log_reg_base, X_train, y_train):\n",
    "    rbm_snapshots = []\n",
    "    log_regs = []\n",
    "\n",
    "    log_reg = clone(log_reg_base)\n",
    "    pipeline = Pipeline([(\"log_reg\", log_reg)])\n",
    "    pipeline.fit(X_train, y_train)\n",
    "    log_regs.append(log_reg)\n",
    "\n",
    "\n",
    "    for hidden_dim in hidden_dims:\n",
    "        log_reg = clone(log_reg_base)\n",
    "        rbm = clone(rbm_base)\n",
    "        rbm.n_components = hidden_dim\n",
    "\n",
    "\n",
    "        pipeline_def = []\n",
    "        pipeline_def.extend(wrap_rbm_snapshots(rbm_snapshots))\n",
    "        pipeline_def.append((f\"rbm_L{len(rbm_snapshots)+1}\", rbm))\n",
    "        pipeline_def.append((\"log_reg\", log_reg))\n",
    "       \n",
    "        pipeline = Pipeline(pipeline_def)\n",
    "        pipeline.fit(X_train, y_train)\n",
    "\n",
    "        rbm_snapshots.append(FrozenRBM(rbm))\n",
    "        log_regs.append(log_reg)\n",
    "    \n",
    "    return rbm_snapshots, log_regs\n"
   ]
  },
  {
   "cell_type": "code",
   "execution_count": 8,
   "metadata": {},
   "outputs": [],
   "source": [
    "from sklearn.metrics import accuracy_score, classification_report\n",
    "\n",
    "def test_dbn(rbms, log_regs, X_test, y_test, print_report):\n",
    "    accuracies = []\n",
    "    for i in range(len(rbms)+1):\n",
    "        pipeline_def = []\n",
    "        pipeline_def.extend(wrap_rbm_snapshots(rbms[:i]))\n",
    "        pipeline_def.append((\"log_reg\", log_regs[i]))\n",
    "\n",
    "        pipeline = Pipeline(pipeline_def)\n",
    "        y_pred = pipeline.predict(X_test)\n",
    "\n",
    "        accuracy = accuracy_score(y_test, y_pred)\n",
    "        accuracies.append(accuracy)\n",
    "\n",
    "        if print_report:\n",
    "            print(f\"Warstwy modelu: {pipeline.named_steps.keys()}\")\n",
    "            print(classification_report(y_test, y_pred))\n",
    "            \n",
    "    return accuracies"
   ]
  },
  {
   "cell_type": "code",
   "execution_count": 9,
   "metadata": {},
   "outputs": [],
   "source": [
    "from sklearn.linear_model import LogisticRegression\n",
    "from sklearn.neural_network import BernoulliRBM\n",
    "\n",
    "def check_dbn(dataset_name, model_params, l1_h_dim, l2_h_dim, l3_h_dim, print_report):\n",
    "    X_train, X_test, y_train, y_test = utils.get_dataset(dataset_name)\n",
    "\n",
    "    rbm_base = BernoulliRBM(learning_rate=model_params['learning_rate'], batch_size=model_params['batch_size'], random_state=seed)\n",
    "    log_reg_base = LogisticRegression(max_iter=model_params['max_iter'], solver=model_params['solver'], C=model_params['C'])\n",
    "\n",
    "    hidden_dims = [l1_h_dim, l2_h_dim, l3_h_dim]\n",
    "\n",
    "    rbms, log_regs = create_dbn(hidden_dims, rbm_base, log_reg_base, X_train, y_train)\n",
    "\n",
    "    accuracies = test_dbn(rbms, log_regs, X_test, y_test, print_report)\n",
    "\n",
    "    return max(accuracies)"
   ]
  },
  {
   "cell_type": "code",
   "execution_count": 10,
   "metadata": {},
   "outputs": [],
   "source": [
    "import optuna\n",
    "\n",
    "def objective(trial, dataset_name, model_params):\n",
    "\n",
    "    l1_h_dim = trial.suggest_categorical('l1_h_dim', [128, 256, 512])\n",
    "    l2_h_dim = trial.suggest_categorical('l2_h_dim', [64, 128, 192])\n",
    "    l3_h_dim = trial.suggest_categorical('l3_h_dim', [32, 64, 96])\n",
    "    \n",
    "    return check_dbn(dataset_name, model_params, l1_h_dim, l2_h_dim, l3_h_dim, print_report=False)\n",
    "\n",
    "def optimize_dbn(dataset_name, model_params, n_trials):\n",
    "\n",
    "    study = optuna.create_study(direction='maximize')\n",
    "    study.optimize(lambda trial: objective(trial, dataset_name, model_params), n_trials=n_trials, show_progress_bar=True)\n",
    "\n",
    "    print(f\"Best parameters: {study.best_params}\")\n",
    "    print_best_dbn_summary(dataset_name, model_params, study.best_params)\n",
    "\n",
    "def print_best_dbn_summary(dataset_name, model_params, l_h_dims):\n",
    "    check_dbn(dataset_name, model_params, l_h_dims['l1_h_dim'], l_h_dims['l2_h_dim'], l_h_dims['l3_h_dim'], print_report=True)"
   ]
  },
  {
   "cell_type": "code",
   "execution_count": 11,
   "metadata": {},
   "outputs": [],
   "source": [
    "n_trials = 15\n",
    "solver = 'lbfgs'"
   ]
  },
  {
   "cell_type": "code",
   "execution_count": 12,
   "metadata": {},
   "outputs": [
    {
     "name": "stderr",
     "output_type": "stream",
     "text": [
      "[I 2025-01-05 13:39:47,819] A new study created in memory with name: no-name-e94cd863-4a09-45f7-aa21-4a22387e7d59\n",
      "Best trial: 0. Best value: 0.9684:   7%|▋         | 1/15 [03:37<50:44, 217.48s/it]"
     ]
    },
    {
     "name": "stdout",
     "output_type": "stream",
     "text": [
      "[I 2025-01-05 13:43:25,342] Trial 0 finished with value: 0.9684 and parameters: {'l1_h_dim': 512, 'l2_h_dim': 192, 'l3_h_dim': 64}. Best is trial 0 with value: 0.9684.\n"
     ]
    },
    {
     "name": "stderr",
     "output_type": "stream",
     "text": [
      "Best trial: 0. Best value: 0.9684:  13%|█▎        | 2/15 [05:35<34:27, 159.03s/it]"
     ]
    },
    {
     "name": "stdout",
     "output_type": "stream",
     "text": [
      "[I 2025-01-05 13:45:23,459] Trial 1 finished with value: 0.9658 and parameters: {'l1_h_dim': 256, 'l2_h_dim': 192, 'l3_h_dim': 96}. Best is trial 0 with value: 0.9684.\n"
     ]
    },
    {
     "name": "stderr",
     "output_type": "stream",
     "text": [
      "Best trial: 0. Best value: 0.9684:  20%|██        | 3/15 [06:42<23:23, 116.95s/it]"
     ]
    },
    {
     "name": "stdout",
     "output_type": "stream",
     "text": [
      "[I 2025-01-05 13:46:30,340] Trial 2 finished with value: 0.9538 and parameters: {'l1_h_dim': 128, 'l2_h_dim': 128, 'l3_h_dim': 96}. Best is trial 0 with value: 0.9684.\n"
     ]
    },
    {
     "name": "stderr",
     "output_type": "stream",
     "text": [
      "Best trial: 0. Best value: 0.9684:  27%|██▋       | 4/15 [07:50<17:53, 97.59s/it] "
     ]
    },
    {
     "name": "stdout",
     "output_type": "stream",
     "text": [
      "[I 2025-01-05 13:47:38,235] Trial 3 finished with value: 0.9538 and parameters: {'l1_h_dim': 128, 'l2_h_dim': 128, 'l3_h_dim': 96}. Best is trial 0 with value: 0.9684.\n"
     ]
    },
    {
     "name": "stderr",
     "output_type": "stream",
     "text": [
      "Best trial: 0. Best value: 0.9684:  33%|███▎      | 5/15 [11:15<22:44, 136.49s/it]"
     ]
    },
    {
     "name": "stdout",
     "output_type": "stream",
     "text": [
      "[I 2025-01-05 13:51:03,695] Trial 4 finished with value: 0.9684 and parameters: {'l1_h_dim': 512, 'l2_h_dim': 192, 'l3_h_dim': 96}. Best is trial 0 with value: 0.9684.\n"
     ]
    },
    {
     "name": "stderr",
     "output_type": "stream",
     "text": [
      "Best trial: 0. Best value: 0.9684:  40%|████      | 6/15 [13:08<19:14, 128.31s/it]"
     ]
    },
    {
     "name": "stdout",
     "output_type": "stream",
     "text": [
      "[I 2025-01-05 13:52:56,128] Trial 5 finished with value: 0.96 and parameters: {'l1_h_dim': 256, 'l2_h_dim': 128, 'l3_h_dim': 64}. Best is trial 0 with value: 0.9684.\n"
     ]
    },
    {
     "name": "stderr",
     "output_type": "stream",
     "text": [
      "Best trial: 0. Best value: 0.9684:  47%|████▋     | 7/15 [15:11<16:53, 126.68s/it]"
     ]
    },
    {
     "name": "stdout",
     "output_type": "stream",
     "text": [
      "[I 2025-01-05 13:54:59,448] Trial 6 finished with value: 0.9658 and parameters: {'l1_h_dim': 256, 'l2_h_dim': 192, 'l3_h_dim': 32}. Best is trial 0 with value: 0.9684.\n"
     ]
    },
    {
     "name": "stderr",
     "output_type": "stream",
     "text": [
      "Best trial: 0. Best value: 0.9684:  53%|█████▎    | 8/15 [16:22<12:42, 108.90s/it]"
     ]
    },
    {
     "name": "stdout",
     "output_type": "stream",
     "text": [
      "[I 2025-01-05 13:56:10,298] Trial 7 finished with value: 0.9613 and parameters: {'l1_h_dim': 128, 'l2_h_dim': 192, 'l3_h_dim': 64}. Best is trial 0 with value: 0.9684.\n"
     ]
    },
    {
     "name": "stderr",
     "output_type": "stream",
     "text": [
      "Best trial: 0. Best value: 0.9684:  60%|██████    | 9/15 [17:30<09:36, 96.17s/it] "
     ]
    },
    {
     "name": "stdout",
     "output_type": "stream",
     "text": [
      "[I 2025-01-05 13:57:18,453] Trial 8 finished with value: 0.9538 and parameters: {'l1_h_dim': 128, 'l2_h_dim': 128, 'l3_h_dim': 32}. Best is trial 0 with value: 0.9684.\n"
     ]
    },
    {
     "name": "stderr",
     "output_type": "stream",
     "text": [
      "Best trial: 0. Best value: 0.9684:  67%|██████▋   | 10/15 [21:02<10:59, 131.90s/it]"
     ]
    },
    {
     "name": "stdout",
     "output_type": "stream",
     "text": [
      "[I 2025-01-05 14:00:50,372] Trial 9 finished with value: 0.9684 and parameters: {'l1_h_dim': 512, 'l2_h_dim': 128, 'l3_h_dim': 32}. Best is trial 0 with value: 0.9684.\n"
     ]
    },
    {
     "name": "stderr",
     "output_type": "stream",
     "text": [
      "Best trial: 0. Best value: 0.9684:  73%|███████▎  | 11/15 [24:27<10:16, 154.25s/it]"
     ]
    },
    {
     "name": "stdout",
     "output_type": "stream",
     "text": [
      "[I 2025-01-05 14:04:15,293] Trial 10 finished with value: 0.9684 and parameters: {'l1_h_dim': 512, 'l2_h_dim': 64, 'l3_h_dim': 64}. Best is trial 0 with value: 0.9684.\n"
     ]
    },
    {
     "name": "stderr",
     "output_type": "stream",
     "text": [
      "Best trial: 0. Best value: 0.9684:  80%|████████  | 12/15 [27:40<08:18, 166.20s/it]"
     ]
    },
    {
     "name": "stdout",
     "output_type": "stream",
     "text": [
      "[I 2025-01-05 14:07:28,839] Trial 11 finished with value: 0.9684 and parameters: {'l1_h_dim': 512, 'l2_h_dim': 192, 'l3_h_dim': 64}. Best is trial 0 with value: 0.9684.\n"
     ]
    },
    {
     "name": "stderr",
     "output_type": "stream",
     "text": [
      "Best trial: 0. Best value: 0.9684:  87%|████████▋ | 13/15 [31:27<06:08, 184.37s/it]"
     ]
    },
    {
     "name": "stdout",
     "output_type": "stream",
     "text": [
      "[I 2025-01-05 14:11:15,025] Trial 12 finished with value: 0.9684 and parameters: {'l1_h_dim': 512, 'l2_h_dim': 192, 'l3_h_dim': 96}. Best is trial 0 with value: 0.9684.\n"
     ]
    },
    {
     "name": "stderr",
     "output_type": "stream",
     "text": [
      "Best trial: 0. Best value: 0.9684:  93%|█████████▎| 14/15 [34:55<03:11, 191.65s/it]"
     ]
    },
    {
     "name": "stdout",
     "output_type": "stream",
     "text": [
      "[I 2025-01-05 14:14:43,496] Trial 13 finished with value: 0.9684 and parameters: {'l1_h_dim': 512, 'l2_h_dim': 64, 'l3_h_dim': 96}. Best is trial 0 with value: 0.9684.\n"
     ]
    },
    {
     "name": "stderr",
     "output_type": "stream",
     "text": [
      "Best trial: 0. Best value: 0.9684: 100%|██████████| 15/15 [38:38<00:00, 154.56s/it]\n"
     ]
    },
    {
     "name": "stdout",
     "output_type": "stream",
     "text": [
      "[I 2025-01-05 14:18:26,296] Trial 14 finished with value: 0.9684 and parameters: {'l1_h_dim': 512, 'l2_h_dim': 192, 'l3_h_dim': 64}. Best is trial 0 with value: 0.9684.\n",
      "Best parameters: {'l1_h_dim': 512, 'l2_h_dim': 192, 'l3_h_dim': 64}\n",
      "Warstwy modelu: dict_keys(['log_reg'])\n",
      "              precision    recall  f1-score   support\n",
      "\n",
      "           0       0.94      0.97      0.95       980\n",
      "           1       0.96      0.98      0.97      1135\n",
      "           2       0.92      0.89      0.90      1032\n",
      "           3       0.90      0.91      0.90      1010\n",
      "           4       0.92      0.92      0.92       982\n",
      "           5       0.88      0.85      0.87       892\n",
      "           6       0.94      0.94      0.94       958\n",
      "           7       0.92      0.92      0.92      1028\n",
      "           8       0.87      0.87      0.87       974\n",
      "           9       0.90      0.90      0.90      1009\n",
      "\n",
      "    accuracy                           0.92     10000\n",
      "   macro avg       0.92      0.92      0.92     10000\n",
      "weighted avg       0.92      0.92      0.92     10000\n",
      "\n",
      "Warstwy modelu: dict_keys(['rbm_L1', 'log_reg'])\n",
      "              precision    recall  f1-score   support\n",
      "\n",
      "           0       0.98      0.99      0.99       980\n",
      "           1       0.99      0.99      0.99      1135\n",
      "           2       0.97      0.96      0.96      1032\n",
      "           3       0.96      0.95      0.96      1010\n",
      "           4       0.98      0.97      0.97       982\n",
      "           5       0.97      0.96      0.96       892\n",
      "           6       0.98      0.98      0.98       958\n",
      "           7       0.97      0.97      0.97      1028\n",
      "           8       0.94      0.95      0.95       974\n",
      "           9       0.96      0.95      0.96      1009\n",
      "\n",
      "    accuracy                           0.97     10000\n",
      "   macro avg       0.97      0.97      0.97     10000\n",
      "weighted avg       0.97      0.97      0.97     10000\n",
      "\n",
      "Warstwy modelu: dict_keys(['rbm_L1', 'rbm_L2', 'log_reg'])\n",
      "              precision    recall  f1-score   support\n",
      "\n",
      "           0       0.97      0.99      0.98       980\n",
      "           1       0.98      0.99      0.99      1135\n",
      "           2       0.96      0.96      0.96      1032\n",
      "           3       0.95      0.96      0.96      1010\n",
      "           4       0.97      0.97      0.97       982\n",
      "           5       0.95      0.96      0.95       892\n",
      "           6       0.97      0.97      0.97       958\n",
      "           7       0.96      0.95      0.96      1028\n",
      "           8       0.96      0.95      0.96       974\n",
      "           9       0.95      0.94      0.95      1009\n",
      "\n",
      "    accuracy                           0.96     10000\n",
      "   macro avg       0.96      0.96      0.96     10000\n",
      "weighted avg       0.96      0.96      0.96     10000\n",
      "\n",
      "Warstwy modelu: dict_keys(['rbm_L1', 'rbm_L2', 'rbm_L3', 'log_reg'])\n",
      "              precision    recall  f1-score   support\n",
      "\n",
      "           0       0.96      0.99      0.97       980\n",
      "           1       0.99      0.98      0.98      1135\n",
      "           2       0.96      0.95      0.95      1032\n",
      "           3       0.93      0.92      0.92      1010\n",
      "           4       0.96      0.94      0.95       982\n",
      "           5       0.93      0.92      0.93       892\n",
      "           6       0.97      0.97      0.97       958\n",
      "           7       0.96      0.94      0.95      1028\n",
      "           8       0.90      0.93      0.92       974\n",
      "           9       0.91      0.93      0.92      1009\n",
      "\n",
      "    accuracy                           0.95     10000\n",
      "   macro avg       0.95      0.95      0.95     10000\n",
      "weighted avg       0.95      0.95      0.95     10000\n",
      "\n"
     ]
    }
   ],
   "source": [
    "model_params = {\n",
    "    'C': 0.5,\n",
    "    'solver': solver,\n",
    "    'max_iter': 1000,\n",
    "    'batch_size': 20,\n",
    "    'learning_rate': 0.05,\n",
    "}\n",
    "\n",
    "optimize_dbn(utils.Dataset_Select.MNIST.value, model_params, n_trials)"
   ]
  },
  {
   "cell_type": "code",
   "execution_count": 13,
   "metadata": {},
   "outputs": [
    {
     "name": "stderr",
     "output_type": "stream",
     "text": [
      "[I 2025-01-05 14:22:49,458] A new study created in memory with name: no-name-20a7044c-707a-4b3f-b5da-dab23c64e9ad\n",
      "Best trial: 0. Best value: 0.7932:   7%|▋         | 1/15 [01:48<25:21, 108.66s/it]"
     ]
    },
    {
     "name": "stdout",
     "output_type": "stream",
     "text": [
      "[I 2025-01-05 14:24:38,111] Trial 0 finished with value: 0.7932 and parameters: {'l1_h_dim': 128, 'l2_h_dim': 192, 'l3_h_dim': 32}. Best is trial 0 with value: 0.7932.\n"
     ]
    },
    {
     "name": "stderr",
     "output_type": "stream",
     "text": [
      "Best trial: 1. Best value: 0.8135:  13%|█▎        | 2/15 [05:28<37:40, 173.87s/it]"
     ]
    },
    {
     "name": "stdout",
     "output_type": "stream",
     "text": [
      "[I 2025-01-05 14:28:17,639] Trial 1 finished with value: 0.8135 and parameters: {'l1_h_dim': 256, 'l2_h_dim': 128, 'l3_h_dim': 64}. Best is trial 1 with value: 0.8135.\n"
     ]
    },
    {
     "name": "stderr",
     "output_type": "stream",
     "text": [
      "Best trial: 1. Best value: 0.8135:  20%|██        | 3/15 [08:54<37:42, 188.57s/it]"
     ]
    },
    {
     "name": "stdout",
     "output_type": "stream",
     "text": [
      "[I 2025-01-05 14:31:43,691] Trial 2 finished with value: 0.8135 and parameters: {'l1_h_dim': 256, 'l2_h_dim': 64, 'l3_h_dim': 64}. Best is trial 1 with value: 0.8135.\n"
     ]
    },
    {
     "name": "stderr",
     "output_type": "stream",
     "text": [
      "Best trial: 1. Best value: 0.8135:  27%|██▋       | 4/15 [10:57<29:51, 162.88s/it]"
     ]
    },
    {
     "name": "stdout",
     "output_type": "stream",
     "text": [
      "[I 2025-01-05 14:33:47,192] Trial 3 finished with value: 0.7932 and parameters: {'l1_h_dim': 128, 'l2_h_dim': 192, 'l3_h_dim': 32}. Best is trial 1 with value: 0.8135.\n"
     ]
    },
    {
     "name": "stderr",
     "output_type": "stream",
     "text": [
      "Best trial: 4. Best value: 0.8299:  33%|███▎      | 5/15 [18:03<42:55, 257.53s/it]"
     ]
    },
    {
     "name": "stdout",
     "output_type": "stream",
     "text": [
      "[I 2025-01-05 14:40:52,547] Trial 4 finished with value: 0.8299 and parameters: {'l1_h_dim': 512, 'l2_h_dim': 128, 'l3_h_dim': 64}. Best is trial 4 with value: 0.8299.\n"
     ]
    },
    {
     "name": "stderr",
     "output_type": "stream",
     "text": [
      "Best trial: 4. Best value: 0.8299:  40%|████      | 6/15 [20:48<33:56, 226.23s/it]"
     ]
    },
    {
     "name": "stdout",
     "output_type": "stream",
     "text": [
      "[I 2025-01-05 14:43:38,009] Trial 5 finished with value: 0.8135 and parameters: {'l1_h_dim': 256, 'l2_h_dim': 64, 'l3_h_dim': 96}. Best is trial 4 with value: 0.8299.\n"
     ]
    },
    {
     "name": "stderr",
     "output_type": "stream",
     "text": [
      "Best trial: 4. Best value: 0.8299:  47%|████▋     | 7/15 [27:49<38:40, 290.01s/it]"
     ]
    },
    {
     "name": "stdout",
     "output_type": "stream",
     "text": [
      "[I 2025-01-05 14:50:39,316] Trial 6 finished with value: 0.8299 and parameters: {'l1_h_dim': 512, 'l2_h_dim': 192, 'l3_h_dim': 96}. Best is trial 4 with value: 0.8299.\n"
     ]
    },
    {
     "name": "stderr",
     "output_type": "stream",
     "text": [
      "Best trial: 4. Best value: 0.8299:  53%|█████▎    | 8/15 [35:10<39:26, 338.05s/it]"
     ]
    },
    {
     "name": "stdout",
     "output_type": "stream",
     "text": [
      "[I 2025-01-05 14:58:00,236] Trial 7 finished with value: 0.8299 and parameters: {'l1_h_dim': 512, 'l2_h_dim': 64, 'l3_h_dim': 96}. Best is trial 4 with value: 0.8299.\n"
     ]
    },
    {
     "name": "stderr",
     "output_type": "stream",
     "text": [
      "Best trial: 4. Best value: 0.8299:  60%|██████    | 9/15 [41:59<36:00, 360.09s/it]"
     ]
    },
    {
     "name": "stdout",
     "output_type": "stream",
     "text": [
      "[I 2025-01-05 15:04:48,810] Trial 8 finished with value: 0.8299 and parameters: {'l1_h_dim': 512, 'l2_h_dim': 64, 'l3_h_dim': 64}. Best is trial 4 with value: 0.8299.\n"
     ]
    },
    {
     "name": "stderr",
     "output_type": "stream",
     "text": [
      "Best trial: 4. Best value: 0.8299:  67%|██████▋   | 10/15 [44:38<24:50, 298.03s/it]"
     ]
    },
    {
     "name": "stdout",
     "output_type": "stream",
     "text": [
      "[I 2025-01-05 15:07:27,874] Trial 9 finished with value: 0.8135 and parameters: {'l1_h_dim': 256, 'l2_h_dim': 64, 'l3_h_dim': 32}. Best is trial 4 with value: 0.8299.\n"
     ]
    },
    {
     "name": "stderr",
     "output_type": "stream",
     "text": [
      "Best trial: 4. Best value: 0.8299:  73%|███████▎  | 11/15 [49:34<19:49, 297.29s/it]"
     ]
    },
    {
     "name": "stdout",
     "output_type": "stream",
     "text": [
      "[I 2025-01-05 15:12:23,477] Trial 10 finished with value: 0.8299 and parameters: {'l1_h_dim': 512, 'l2_h_dim': 128, 'l3_h_dim': 64}. Best is trial 4 with value: 0.8299.\n"
     ]
    },
    {
     "name": "stderr",
     "output_type": "stream",
     "text": [
      "Best trial: 4. Best value: 0.8299:  80%|████████  | 12/15 [54:26<14:47, 295.73s/it]"
     ]
    },
    {
     "name": "stdout",
     "output_type": "stream",
     "text": [
      "[I 2025-01-05 15:17:15,626] Trial 11 finished with value: 0.8299 and parameters: {'l1_h_dim': 512, 'l2_h_dim': 128, 'l3_h_dim': 96}. Best is trial 4 with value: 0.8299.\n"
     ]
    },
    {
     "name": "stderr",
     "output_type": "stream",
     "text": [
      "Best trial: 4. Best value: 0.8299:  87%|████████▋ | 13/15 [59:31<09:57, 298.62s/it]"
     ]
    },
    {
     "name": "stdout",
     "output_type": "stream",
     "text": [
      "[I 2025-01-05 15:22:20,912] Trial 12 finished with value: 0.8299 and parameters: {'l1_h_dim': 512, 'l2_h_dim': 192, 'l3_h_dim': 96}. Best is trial 4 with value: 0.8299.\n"
     ]
    },
    {
     "name": "stderr",
     "output_type": "stream",
     "text": [
      "Best trial: 4. Best value: 0.8299:  93%|█████████▎| 14/15 [1:04:47<05:03, 303.91s/it]"
     ]
    },
    {
     "name": "stdout",
     "output_type": "stream",
     "text": [
      "[I 2025-01-05 15:27:37,041] Trial 13 finished with value: 0.8299 and parameters: {'l1_h_dim': 512, 'l2_h_dim': 128, 'l3_h_dim': 96}. Best is trial 4 with value: 0.8299.\n"
     ]
    },
    {
     "name": "stderr",
     "output_type": "stream",
     "text": [
      "Best trial: 4. Best value: 0.8299: 100%|██████████| 15/15 [1:10:01<00:00, 280.10s/it]\n"
     ]
    },
    {
     "name": "stdout",
     "output_type": "stream",
     "text": [
      "[I 2025-01-05 15:32:50,987] Trial 14 finished with value: 0.8299 and parameters: {'l1_h_dim': 512, 'l2_h_dim': 192, 'l3_h_dim': 64}. Best is trial 4 with value: 0.8299.\n",
      "Best parameters: {'l1_h_dim': 512, 'l2_h_dim': 128, 'l3_h_dim': 64}\n",
      "Warstwy modelu: dict_keys(['log_reg'])\n",
      "              precision    recall  f1-score   support\n",
      "\n",
      "           0       0.74      0.76      0.75      1000\n",
      "           1       0.93      0.95      0.94      1000\n",
      "           2       0.69      0.67      0.68      1000\n",
      "           3       0.79      0.78      0.78      1000\n",
      "           4       0.68      0.70      0.69      1000\n",
      "           5       0.86      0.88      0.87      1000\n",
      "           6       0.54      0.51      0.52      1000\n",
      "           7       0.86      0.88      0.87      1000\n",
      "           8       0.91      0.90      0.90      1000\n",
      "           9       0.91      0.92      0.91      1000\n",
      "\n",
      "    accuracy                           0.79     10000\n",
      "   macro avg       0.79      0.79      0.79     10000\n",
      "weighted avg       0.79      0.79      0.79     10000\n",
      "\n",
      "Warstwy modelu: dict_keys(['rbm_L1', 'log_reg'])\n",
      "              precision    recall  f1-score   support\n",
      "\n",
      "           0       0.77      0.79      0.78      1000\n",
      "           1       0.98      0.96      0.97      1000\n",
      "           2       0.72      0.72      0.72      1000\n",
      "           3       0.84      0.84      0.84      1000\n",
      "           4       0.72      0.74      0.73      1000\n",
      "           5       0.91      0.91      0.91      1000\n",
      "           6       0.60      0.56      0.58      1000\n",
      "           7       0.91      0.91      0.91      1000\n",
      "           8       0.92      0.94      0.93      1000\n",
      "           9       0.93      0.94      0.93      1000\n",
      "\n",
      "    accuracy                           0.83     10000\n",
      "   macro avg       0.83      0.83      0.83     10000\n",
      "weighted avg       0.83      0.83      0.83     10000\n",
      "\n",
      "Warstwy modelu: dict_keys(['rbm_L1', 'rbm_L2', 'log_reg'])\n",
      "              precision    recall  f1-score   support\n",
      "\n",
      "           0       0.70      0.78      0.74      1000\n",
      "           1       0.97      0.94      0.96      1000\n",
      "           2       0.65      0.63      0.64      1000\n",
      "           3       0.79      0.82      0.81      1000\n",
      "           4       0.69      0.71      0.70      1000\n",
      "           5       0.81      0.89      0.85      1000\n",
      "           6       0.50      0.42      0.46      1000\n",
      "           7       0.86      0.81      0.83      1000\n",
      "           8       0.92      0.92      0.92      1000\n",
      "           9       0.89      0.90      0.90      1000\n",
      "\n",
      "    accuracy                           0.78     10000\n",
      "   macro avg       0.78      0.78      0.78     10000\n",
      "weighted avg       0.78      0.78      0.78     10000\n",
      "\n",
      "Warstwy modelu: dict_keys(['rbm_L1', 'rbm_L2', 'rbm_L3', 'log_reg'])\n",
      "              precision    recall  f1-score   support\n",
      "\n",
      "           0       0.71      0.77      0.74      1000\n",
      "           1       0.98      0.93      0.95      1000\n",
      "           2       0.57      0.60      0.58      1000\n",
      "           3       0.79      0.81      0.80      1000\n",
      "           4       0.58      0.59      0.59      1000\n",
      "           5       0.81      0.86      0.83      1000\n",
      "           6       0.41      0.36      0.39      1000\n",
      "           7       0.86      0.80      0.83      1000\n",
      "           8       0.89      0.89      0.89      1000\n",
      "           9       0.88      0.91      0.90      1000\n",
      "\n",
      "    accuracy                           0.75     10000\n",
      "   macro avg       0.75      0.75      0.75     10000\n",
      "weighted avg       0.75      0.75      0.75     10000\n",
      "\n"
     ]
    }
   ],
   "source": [
    "model_params = {\n",
    "    'C': 0.5,\n",
    "    'solver': solver,\n",
    "    'max_iter': 5000,\n",
    "    'batch_size': 10,\n",
    "    'learning_rate': 0.01,\n",
    "}\n",
    "\n",
    "optimize_dbn(utils.Dataset_Select.F_MNIST.value, model_params, n_trials)"
   ]
  },
  {
   "cell_type": "code",
   "execution_count": null,
   "metadata": {},
   "outputs": [],
   "source": [
    "model_params = {\n",
    "    'C': 1.0,\n",
    "    'solver': solver,\n",
    "    'max_iter': 1000,\n",
    "    'batch_size': 10,\n",
    "    'learning_rate': 0.1,\n",
    "}\n",
    "\n",
    "optimize_dbn(utils.Dataset_Select.K_MNIST.value, model_params, n_trials)"
   ]
  },
  {
   "cell_type": "code",
   "execution_count": null,
   "metadata": {},
   "outputs": [],
   "source": [
    "model_params = {\n",
    "    'C': 0.5,\n",
    "    'solver': solver,\n",
    "    'max_iter': 1000,\n",
    "    'batch_size': 20,\n",
    "    'learning_rate': 0.1,\n",
    "}\n",
    "\n",
    "optimize_dbn(utils.Dataset_Select.KUZ_49.value, model_params, n_trials)"
   ]
  }
 ],
 "metadata": {
  "kernelspec": {
   "display_name": ".venv",
   "language": "python",
   "name": "python3"
  },
  "language_info": {
   "codemirror_mode": {
    "name": "ipython",
    "version": 3
   },
   "file_extension": ".py",
   "mimetype": "text/x-python",
   "name": "python",
   "nbconvert_exporter": "python",
   "pygments_lexer": "ipython3",
   "version": "3.9.6"
  }
 },
 "nbformat": 4,
 "nbformat_minor": 2
}
