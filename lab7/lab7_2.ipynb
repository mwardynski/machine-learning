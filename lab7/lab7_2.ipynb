{
 "cells": [
  {
   "cell_type": "markdown",
   "metadata": {},
   "source": [
    "Marcin Wardyński  \n",
    "wtorek, 9:45\n",
    "\n",
    "## Laboratorium 7\n",
    "### 7.2 DBN"
   ]
  },
  {
   "cell_type": "code",
   "execution_count": 4,
   "metadata": {},
   "outputs": [],
   "source": [
    "import importlib\n",
    "import lab7_utils as utils\n",
    "importlib.reload(utils)\n",
    "\n",
    "seed = 42"
   ]
  },
  {
   "cell_type": "code",
   "execution_count": 37,
   "metadata": {},
   "outputs": [],
   "source": [
    "from sklearn.base import TransformerMixin, BaseEstimator\n",
    "\n",
    "class FrozenRBM(TransformerMixin, BaseEstimator):\n",
    "    def __init__(self, rbm):\n",
    "        self.rbm = rbm\n",
    "\n",
    "    def fit(self, X, y=None):\n",
    "        return self\n",
    "\n",
    "    def transform(self, X):\n",
    "        return self.rbm.transform(X)"
   ]
  },
  {
   "cell_type": "code",
   "execution_count": 48,
   "metadata": {},
   "outputs": [],
   "source": [
    "from sklearn.base import clone\n",
    "from sklearn.metrics import classification_report\n",
    "from sklearn.pipeline import Pipeline\n",
    "\n",
    "def wrap_rbm_snaps(rbms_snaps):\n",
    "    rbm_tuples = []\n",
    "    for i in range(len(rbms_snaps)):\n",
    "        rbm_tuples.append((f\"rbm_L{i+1}\", rbms_snaps[i]))\n",
    "\n",
    "    return rbm_tuples\n",
    "\n",
    "\n",
    "def create_dbn(hidden_sizes, rbm_base, log_reg_base, X_train, y_train):\n",
    "    rbm_snaps = []\n",
    "    log_regs = []\n",
    "\n",
    "    log_reg = clone(log_reg_base)\n",
    "    pipeline = Pipeline([(\"log_reg\", log_reg)])\n",
    "    pipeline.fit(X_train, y_train)\n",
    "    log_regs.append(log_reg)\n",
    "\n",
    "\n",
    "    for hidden_size in hidden_sizes:\n",
    "        log_reg = clone(log_reg_base)\n",
    "        rbm = clone(rbm_base)\n",
    "        rbm.n_components = hidden_size\n",
    "\n",
    "\n",
    "        pipeline_def = []\n",
    "        pipeline_def.extend(wrap_rbm_snaps(rbm_snaps))\n",
    "        pipeline_def.append((f\"rbm_L{len(rbm_snaps)+1}\", rbm))\n",
    "        pipeline_def.append((\"log_reg\", log_reg))\n",
    "       \n",
    "        pipeline = Pipeline(pipeline_def)\n",
    "        pipeline.fit(X_train, y_train)\n",
    "\n",
    "        rbm_snaps.append(FrozenRBM(rbm))\n",
    "        log_regs.append(log_reg)\n",
    "    \n",
    "    return rbm_snaps, log_regs\n"
   ]
  },
  {
   "cell_type": "code",
   "execution_count": 49,
   "metadata": {},
   "outputs": [],
   "source": [
    "from sklearn.metrics import classification_report\n",
    "\n",
    "def test_dbn(rbms, log_regs, X_test, y_test):\n",
    "    for i in range(len(rbms)+1):\n",
    "        pipeline_def = []\n",
    "        pipeline_def.extend(wrap_rbm_snaps(rbms[:i]))\n",
    "        pipeline_def.append((\"log_reg\", log_regs[i]))\n",
    "\n",
    "        pipeline = Pipeline(pipeline_def)\n",
    "        y_pred = pipeline.predict(X_test)\n",
    "\n",
    "        print(pipeline.named_steps.keys())\n",
    "        print(classification_report(y_test, y_pred))\n"
   ]
  },
  {
   "cell_type": "code",
   "execution_count": 50,
   "metadata": {},
   "outputs": [],
   "source": [
    "from sklearn.linear_model import LogisticRegression\n",
    "from sklearn.neural_network import BernoulliRBM"
   ]
  },
  {
   "cell_type": "code",
   "execution_count": null,
   "metadata": {},
   "outputs": [],
   "source": [
    "X_train, X_test, y_train, y_test = utils.get_dataset(utils.Dataset_Select.MNIST.value, 10)"
   ]
  },
  {
   "cell_type": "code",
   "execution_count": 51,
   "metadata": {},
   "outputs": [],
   "source": [
    "\n",
    "rbm_base = BernoulliRBM(learning_rate=0.01, n_iter=10, random_state=seed)\n",
    "log_reg_base = LogisticRegression(max_iter=1000, solver='lbfgs')\n",
    "\n",
    "hidden_sizes = [256, 128, 64]\n",
    "\n",
    "rbms, log_regs = create_dbn(hidden_sizes, rbm_base, log_reg_base, X_train, y_train)\n",
    "\n"
   ]
  },
  {
   "cell_type": "code",
   "execution_count": 52,
   "metadata": {},
   "outputs": [
    {
     "data": {
      "text/plain": [
       "[LogisticRegression(max_iter=1000),\n",
       " LogisticRegression(max_iter=1000),\n",
       " LogisticRegression(max_iter=1000),\n",
       " LogisticRegression(max_iter=1000)]"
      ]
     },
     "execution_count": 52,
     "metadata": {},
     "output_type": "execute_result"
    }
   ],
   "source": [
    "log_regs"
   ]
  },
  {
   "cell_type": "code",
   "execution_count": 53,
   "metadata": {},
   "outputs": [
    {
     "name": "stdout",
     "output_type": "stream",
     "text": [
      "dict_keys(['log_reg'])\n",
      "              precision    recall  f1-score   support\n",
      "\n",
      "           0       0.94      0.97      0.96       980\n",
      "           1       0.96      0.98      0.97      1135\n",
      "           2       0.92      0.89      0.90      1032\n",
      "           3       0.90      0.91      0.90      1010\n",
      "           4       0.93      0.92      0.92       982\n",
      "           5       0.89      0.86      0.87       892\n",
      "           6       0.93      0.94      0.94       958\n",
      "           7       0.93      0.91      0.92      1028\n",
      "           8       0.87      0.87      0.87       974\n",
      "           9       0.90      0.90      0.90      1009\n",
      "\n",
      "    accuracy                           0.92     10000\n",
      "   macro avg       0.92      0.92      0.92     10000\n",
      "weighted avg       0.92      0.92      0.92     10000\n",
      "\n",
      "dict_keys(['rbm_L1', 'log_reg'])\n",
      "              precision    recall  f1-score   support\n",
      "\n",
      "           0       0.97      0.98      0.98       980\n",
      "           1       0.98      0.99      0.99      1135\n",
      "           2       0.96      0.95      0.95      1032\n",
      "           3       0.93      0.95      0.94      1010\n",
      "           4       0.96      0.95      0.96       982\n",
      "           5       0.95      0.92      0.94       892\n",
      "           6       0.97      0.97      0.97       958\n",
      "           7       0.95      0.95      0.95      1028\n",
      "           8       0.93      0.94      0.93       974\n",
      "           9       0.94      0.93      0.93      1009\n",
      "\n",
      "    accuracy                           0.95     10000\n",
      "   macro avg       0.95      0.95      0.95     10000\n",
      "weighted avg       0.95      0.95      0.95     10000\n",
      "\n",
      "dict_keys(['rbm_L1', 'rbm_L2', 'log_reg'])\n",
      "              precision    recall  f1-score   support\n",
      "\n",
      "           0       0.97      0.98      0.98       980\n",
      "           1       0.98      0.99      0.98      1135\n",
      "           2       0.95      0.95      0.95      1032\n",
      "           3       0.93      0.95      0.94      1010\n",
      "           4       0.96      0.95      0.96       982\n",
      "           5       0.95      0.92      0.94       892\n",
      "           6       0.96      0.97      0.97       958\n",
      "           7       0.96      0.95      0.96      1028\n",
      "           8       0.95      0.94      0.94       974\n",
      "           9       0.94      0.93      0.94      1009\n",
      "\n",
      "    accuracy                           0.96     10000\n",
      "   macro avg       0.96      0.96      0.96     10000\n",
      "weighted avg       0.96      0.96      0.96     10000\n",
      "\n",
      "dict_keys(['rbm_L1', 'rbm_L2', 'rbm_L3', 'log_reg'])\n",
      "              precision    recall  f1-score   support\n",
      "\n",
      "           0       0.96      0.98      0.97       980\n",
      "           1       0.99      0.98      0.98      1135\n",
      "           2       0.96      0.94      0.95      1032\n",
      "           3       0.92      0.92      0.92      1010\n",
      "           4       0.93      0.92      0.93       982\n",
      "           5       0.94      0.90      0.92       892\n",
      "           6       0.95      0.96      0.96       958\n",
      "           7       0.96      0.92      0.94      1028\n",
      "           8       0.90      0.93      0.91       974\n",
      "           9       0.88      0.91      0.90      1009\n",
      "\n",
      "    accuracy                           0.94     10000\n",
      "   macro avg       0.94      0.94      0.94     10000\n",
      "weighted avg       0.94      0.94      0.94     10000\n",
      "\n"
     ]
    }
   ],
   "source": [
    "test_dbn(rbms, log_regs, X_test, y_test)"
   ]
  }
 ],
 "metadata": {
  "kernelspec": {
   "display_name": ".venv",
   "language": "python",
   "name": "python3"
  },
  "language_info": {
   "codemirror_mode": {
    "name": "ipython",
    "version": 3
   },
   "file_extension": ".py",
   "mimetype": "text/x-python",
   "name": "python",
   "nbconvert_exporter": "python",
   "pygments_lexer": "ipython3",
   "version": "3.9.6"
  }
 },
 "nbformat": 4,
 "nbformat_minor": 2
}
