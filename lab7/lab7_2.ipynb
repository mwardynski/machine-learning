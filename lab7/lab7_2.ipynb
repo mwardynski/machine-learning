{
 "cells": [
  {
   "cell_type": "markdown",
   "metadata": {},
   "source": [
    "Marcin Wardyński  \n",
    "wtorek, 9:45\n",
    "\n",
    "## Laboratorium 7\n",
    "### 7.2 DBN"
   ]
  },
  {
   "cell_type": "markdown",
   "metadata": {},
   "source": [
    "Oto kolejne funkcje pomocnicze:\n",
    "\n",
    "Wczytywanie zbiorów danych:"
   ]
  },
  {
   "cell_type": "code",
   "execution_count": 26,
   "metadata": {},
   "outputs": [],
   "source": [
    "import warnings\n",
    "warnings.filterwarnings(\"ignore\")\n",
    "\n",
    "import importlib\n",
    "import lab7_utils as utils\n",
    "importlib.reload(utils)\n",
    "\n",
    "seed = 42"
   ]
  },
  {
   "cell_type": "markdown",
   "metadata": {},
   "source": [
    "Wrapper wokół RBM, który wyłącza możliwość uczenia się. Przydatny, gdy chcemy wytrenować jedynie dołożone warstwy RBM, a zachować wagi dla tych już wytrenowanych."
   ]
  },
  {
   "cell_type": "code",
   "execution_count": 6,
   "metadata": {},
   "outputs": [],
   "source": [
    "from sklearn.base import TransformerMixin, BaseEstimator\n",
    "\n",
    "class FrozenRBM(TransformerMixin, BaseEstimator):\n",
    "    def __init__(self, rbm):\n",
    "        self.rbm = rbm\n",
    "\n",
    "    def fit(self, X, y=None):\n",
    "        return self\n",
    "\n",
    "    def transform(self, X):\n",
    "        return self.rbm.transform(X)"
   ]
  },
  {
   "cell_type": "markdown",
   "metadata": {},
   "source": [
    "Poniższe funkcje odpowiadają za szkolenie poszczególnych warst klasyfikatora DBN, każdej z osobna. Na wyjściu otrzymujemy trzy warstwy RBM, oraz cztery regresje liniowe, do użycia odpowiednio z 0, 1, 2 i 3 warstwami RBM."
   ]
  },
  {
   "cell_type": "code",
   "execution_count": 7,
   "metadata": {},
   "outputs": [],
   "source": [
    "from sklearn.base import clone\n",
    "from sklearn.pipeline import Pipeline\n",
    "\n",
    "def wrap_rbm_snapshots(rbms_snapshots):\n",
    "    rbm_tuples = []\n",
    "    for i in range(len(rbms_snapshots)):\n",
    "        rbm_tuples.append((f\"rbm_L{i+1}\", rbms_snapshots[i]))\n",
    "\n",
    "    return rbm_tuples\n",
    "\n",
    "\n",
    "def create_dbn(hidden_dims, rbm_base, log_reg_base, X_train, y_train):\n",
    "    rbm_snapshots = []\n",
    "    log_regs = []\n",
    "\n",
    "    log_reg = clone(log_reg_base)\n",
    "    pipeline = Pipeline([(\"log_reg\", log_reg)])\n",
    "    pipeline.fit(X_train, y_train)\n",
    "    log_regs.append(log_reg)\n",
    "\n",
    "\n",
    "    for hidden_dim in hidden_dims:\n",
    "        log_reg = clone(log_reg_base)\n",
    "        rbm = clone(rbm_base)\n",
    "        rbm.n_components = hidden_dim\n",
    "\n",
    "\n",
    "        pipeline_def = []\n",
    "        pipeline_def.extend(wrap_rbm_snapshots(rbm_snapshots))\n",
    "        pipeline_def.append((f\"rbm_L{len(rbm_snapshots)+1}\", rbm))\n",
    "        pipeline_def.append((\"log_reg\", log_reg))\n",
    "       \n",
    "        pipeline = Pipeline(pipeline_def)\n",
    "        pipeline.fit(X_train, y_train)\n",
    "\n",
    "        rbm_snapshots.append(FrozenRBM(rbm))\n",
    "        log_regs.append(log_reg)\n",
    "    \n",
    "    return rbm_snapshots, log_regs\n"
   ]
  },
  {
   "cell_type": "markdown",
   "metadata": {},
   "source": [
    "Poniższy kod testuje jakość klasyfikacji już wytrenowanych DBN-ów o różnej wysokości, dobierając do każdego z nich odpowiednią głowę regresji liniowej."
   ]
  },
  {
   "cell_type": "code",
   "execution_count": 8,
   "metadata": {},
   "outputs": [],
   "source": [
    "from sklearn.metrics import accuracy_score, classification_report\n",
    "\n",
    "def test_dbn(rbms, log_regs, X_test, y_test, print_report):\n",
    "    accuracies = []\n",
    "    for i in range(len(rbms)+1):\n",
    "        pipeline_def = []\n",
    "        pipeline_def.extend(wrap_rbm_snapshots(rbms[:i]))\n",
    "        pipeline_def.append((\"log_reg\", log_regs[i]))\n",
    "\n",
    "        pipeline = Pipeline(pipeline_def)\n",
    "        y_pred = pipeline.predict(X_test)\n",
    "\n",
    "        accuracy = accuracy_score(y_test, y_pred)\n",
    "        accuracies.append(accuracy)\n",
    "\n",
    "        if print_report:\n",
    "            print(f\"Warstwy modelu: {pipeline.named_steps.keys()}\")\n",
    "            print(classification_report(y_test, y_pred))\n",
    "            \n",
    "    return accuracies"
   ]
  },
  {
   "cell_type": "markdown",
   "metadata": {},
   "source": [
    "Następne dwa bloki kodu przedstawiają funkcje, które spinają cały proces ewaluacji DBN-ów w jedną całóść, oraz wykorzystują optymalizator `Optuna`, do sprawdzenia kilku relewantnych konfiguracji hiperparametrów.\n",
    "\n",
    "Konfiguracji przez Optunę podlegają jedynie wielkości poszczególnych warstw DBN, a pozostałe hiperparametry zostały przejęte z najlepszych modeli dla poszczególnych zbiorów danych z poprzedniego zadania."
   ]
  },
  {
   "cell_type": "code",
   "execution_count": 9,
   "metadata": {},
   "outputs": [],
   "source": [
    "from sklearn.linear_model import LogisticRegression\n",
    "from sklearn.neural_network import BernoulliRBM\n",
    "\n",
    "def check_dbn(dataset_name, model_params, l1_h_dim, l2_h_dim, l3_h_dim, print_report):\n",
    "    X_train, X_test, y_train, y_test = utils.get_dataset(dataset_name)\n",
    "\n",
    "    rbm_base = BernoulliRBM(learning_rate=model_params['learning_rate'], batch_size=model_params['batch_size'], random_state=seed)\n",
    "    log_reg_base = LogisticRegression(max_iter=model_params['max_iter'], solver=model_params['solver'], C=model_params['C'])\n",
    "\n",
    "    hidden_dims = [l1_h_dim, l2_h_dim, l3_h_dim]\n",
    "\n",
    "    rbms, log_regs = create_dbn(hidden_dims, rbm_base, log_reg_base, X_train, y_train)\n",
    "\n",
    "    accuracies = test_dbn(rbms, log_regs, X_test, y_test, print_report)\n",
    "\n",
    "    return max(accuracies)"
   ]
  },
  {
   "cell_type": "code",
   "execution_count": 27,
   "metadata": {},
   "outputs": [],
   "source": [
    "import optuna\n",
    "\n",
    "def objective(trial, dataset_name, model_params, l1_h_dims=[128, 256, 512]):\n",
    "\n",
    "    l1_h_dim = trial.suggest_categorical('l1_h_dim', l1_h_dims)\n",
    "    l2_h_dim = trial.suggest_categorical('l2_h_dim', [64, 128, 192])\n",
    "    l3_h_dim = trial.suggest_categorical('l3_h_dim', [32, 64, 96])\n",
    "    \n",
    "    return check_dbn(dataset_name, model_params, l1_h_dim, l2_h_dim, l3_h_dim, print_report=False)\n",
    "\n",
    "def optimize_dbn(dataset_name, model_params, n_trials, l1_h_dims):\n",
    "\n",
    "    study = optuna.create_study(direction='maximize')\n",
    "    study.optimize(lambda trial: objective(trial, dataset_name, model_params, l1_h_dims), n_trials=n_trials, show_progress_bar=True)\n",
    "\n",
    "    print(f\"Best parameters: {study.best_params}\")\n",
    "    print_best_dbn_summary(dataset_name, model_params, study.best_params)\n",
    "\n",
    "def print_best_dbn_summary(dataset_name, model_params, l_h_dims):\n",
    "    check_dbn(dataset_name, model_params, l_h_dims['l1_h_dim'], l_h_dims['l2_h_dim'], l_h_dims['l3_h_dim'], print_report=True)"
   ]
  },
  {
   "cell_type": "markdown",
   "metadata": {},
   "source": [
    "Każdy zbiór danych zostanie przebadany przy użyciu 15 konfiguracji hiperparametrów.\n",
    "\n",
    "Dodatkowo zmieniłem algorytm solvera w regresji logistycznej w porównaniu do najlepszego (`sag`), który został wyłoniony w poprzednim zadaniu, gdyż działał on bardzo wolno, a czas jego pracy jedynie w małym stopniu przekładał się na wzrost jakości klasyfikacji.\n",
    "\n",
    "*Dodatkowa uwaga:* Rozmiar największej z warstw RBM został ograniczony do 512 neuronów, stąd jeśli tylko DBN osiąga najlepszy wynik dla pojedyńczej warstwy RBM, to ten wynik może być odrobinę gorszy, niż ten z poprzedniego zadania.\n",
    "\n",
    "**Kolejna uwaga:** Przeprowadziłem eksperyment dla każdego zbioru danych i za każdym razem uzyskiwałem wynik z którego wynikało, że najlepiej sprawdza się pojedyńcza warstwa DBN. Faktycznie, przy dużym rozmiarze 512 neuronów pierwszej warstwy, pozostałe dwie warstwy o znacznie mniejszej wielkości tylko obniżają jakość klasyfikacji. Ponieważ jestem zainteresowany wynikami z bardziej wyważonej konfiguracji, przeprowadziłem dla każdego zbioru danych eksperyment jeszcze raz, tym razem ograniczając rozmiar warstwy pierwszej do 256 neuronów. Wyniki przedstawione w każdej sekcji zawierają rezultaty obydwu eksperymentów.\n",
    "\n",
    "Pomimo powtórzenia ekspyrymentu dla mniejszej warstwy pierwszej, z pierwszej części eksperymentu wyciągam wniosek, że odpowiednio duża pojedyńcza warstwa modelu DBN (a więc zwykły RBM) potrafi dać lepsze wyniki, niż model bardziej złożony o wielu warstwach."
   ]
  },
  {
   "cell_type": "code",
   "execution_count": 11,
   "metadata": {},
   "outputs": [],
   "source": [
    "n_trials = 15\n",
    "solver = 'lbfgs'"
   ]
  },
  {
   "cell_type": "markdown",
   "metadata": {},
   "source": [
    "### MNIST\n"
   ]
  },
  {
   "cell_type": "markdown",
   "metadata": {},
   "source": [
    "#### Eksperyment 1"
   ]
  },
  {
   "cell_type": "code",
   "execution_count": 29,
   "metadata": {},
   "outputs": [
    {
     "name": "stderr",
     "output_type": "stream",
     "text": [
      "[I 2025-01-06 18:39:02,129] A new study created in memory with name: no-name-95489487-ff54-4269-a254-b5c8defe86f6\n",
      "Best trial: 0. Best value: 0.9684:   7%|▋         | 1/15 [05:55<1:23:02, 355.91s/it]"
     ]
    },
    {
     "name": "stdout",
     "output_type": "stream",
     "text": [
      "[I 2025-01-06 18:44:58,034] Trial 0 finished with value: 0.9684 and parameters: {'l1_h_dim': 512, 'l2_h_dim': 128, 'l3_h_dim': 32}. Best is trial 0 with value: 0.9684.\n"
     ]
    },
    {
     "name": "stderr",
     "output_type": "stream",
     "text": [
      "Best trial: 0. Best value: 0.9684:  13%|█▎        | 2/15 [08:09<48:46, 225.08s/it]  "
     ]
    },
    {
     "name": "stdout",
     "output_type": "stream",
     "text": [
      "[I 2025-01-06 18:47:11,526] Trial 1 finished with value: 0.9538 and parameters: {'l1_h_dim': 128, 'l2_h_dim': 128, 'l3_h_dim': 96}. Best is trial 0 with value: 0.9684.\n"
     ]
    },
    {
     "name": "stderr",
     "output_type": "stream",
     "text": [
      "Best trial: 0. Best value: 0.9684:  20%|██        | 3/15 [15:27<1:04:26, 322.24s/it]"
     ]
    },
    {
     "name": "stdout",
     "output_type": "stream",
     "text": [
      "[I 2025-01-06 18:54:29,401] Trial 2 finished with value: 0.9684 and parameters: {'l1_h_dim': 512, 'l2_h_dim': 128, 'l3_h_dim': 64}. Best is trial 0 with value: 0.9684.\n"
     ]
    },
    {
     "name": "stderr",
     "output_type": "stream",
     "text": [
      "Best trial: 0. Best value: 0.9684:  27%|██▋       | 4/15 [19:35<53:41, 292.83s/it]  "
     ]
    },
    {
     "name": "stdout",
     "output_type": "stream",
     "text": [
      "[I 2025-01-06 18:58:37,133] Trial 3 finished with value: 0.9658 and parameters: {'l1_h_dim': 256, 'l2_h_dim': 192, 'l3_h_dim': 32}. Best is trial 0 with value: 0.9684.\n"
     ]
    },
    {
     "name": "stderr",
     "output_type": "stream",
     "text": [
      "Best trial: 0. Best value: 0.9684:  33%|███▎      | 5/15 [23:44<46:12, 277.29s/it]"
     ]
    },
    {
     "name": "stdout",
     "output_type": "stream",
     "text": [
      "[I 2025-01-06 19:02:46,878] Trial 4 finished with value: 0.9658 and parameters: {'l1_h_dim': 256, 'l2_h_dim': 192, 'l3_h_dim': 64}. Best is trial 0 with value: 0.9684.\n"
     ]
    },
    {
     "name": "stderr",
     "output_type": "stream",
     "text": [
      "Best trial: 0. Best value: 0.9684:  40%|████      | 6/15 [26:02<34:29, 229.99s/it]"
     ]
    },
    {
     "name": "stdout",
     "output_type": "stream",
     "text": [
      "[I 2025-01-06 19:05:05,052] Trial 5 finished with value: 0.9427 and parameters: {'l1_h_dim': 128, 'l2_h_dim': 64, 'l3_h_dim': 32}. Best is trial 0 with value: 0.9684.\n"
     ]
    },
    {
     "name": "stderr",
     "output_type": "stream",
     "text": [
      "Best trial: 0. Best value: 0.9684:  47%|████▋     | 7/15 [29:52<30:37, 229.74s/it]"
     ]
    },
    {
     "name": "stdout",
     "output_type": "stream",
     "text": [
      "[I 2025-01-06 19:08:54,194] Trial 6 finished with value: 0.96 and parameters: {'l1_h_dim': 256, 'l2_h_dim': 64, 'l3_h_dim': 32}. Best is trial 0 with value: 0.9684.\n"
     ]
    },
    {
     "name": "stderr",
     "output_type": "stream",
     "text": [
      "Best trial: 0. Best value: 0.9684:  53%|█████▎    | 8/15 [37:19<34:52, 298.86s/it]"
     ]
    },
    {
     "name": "stdout",
     "output_type": "stream",
     "text": [
      "[I 2025-01-06 19:16:21,138] Trial 7 finished with value: 0.9684 and parameters: {'l1_h_dim': 512, 'l2_h_dim': 64, 'l3_h_dim': 96}. Best is trial 0 with value: 0.9684.\n"
     ]
    },
    {
     "name": "stderr",
     "output_type": "stream",
     "text": [
      "Best trial: 0. Best value: 0.9684:  60%|██████    | 9/15 [39:49<25:15, 252.63s/it]"
     ]
    },
    {
     "name": "stdout",
     "output_type": "stream",
     "text": [
      "[I 2025-01-06 19:18:52,101] Trial 8 finished with value: 0.96 and parameters: {'l1_h_dim': 256, 'l2_h_dim': 64, 'l3_h_dim': 96}. Best is trial 0 with value: 0.9684.\n"
     ]
    },
    {
     "name": "stderr",
     "output_type": "stream",
     "text": [
      "Best trial: 0. Best value: 0.9684:  67%|██████▋   | 10/15 [42:45<19:04, 228.92s/it]"
     ]
    },
    {
     "name": "stdout",
     "output_type": "stream",
     "text": [
      "[I 2025-01-06 19:21:47,943] Trial 9 finished with value: 0.9658 and parameters: {'l1_h_dim': 256, 'l2_h_dim': 192, 'l3_h_dim': 64}. Best is trial 0 with value: 0.9684.\n"
     ]
    },
    {
     "name": "stderr",
     "output_type": "stream",
     "text": [
      "Best trial: 0. Best value: 0.9684:  73%|███████▎  | 11/15 [51:13<20:56, 314.15s/it]"
     ]
    },
    {
     "name": "stdout",
     "output_type": "stream",
     "text": [
      "[I 2025-01-06 19:30:15,355] Trial 10 finished with value: 0.9684 and parameters: {'l1_h_dim': 512, 'l2_h_dim': 128, 'l3_h_dim': 32}. Best is trial 0 with value: 0.9684.\n"
     ]
    },
    {
     "name": "stderr",
     "output_type": "stream",
     "text": [
      "Best trial: 0. Best value: 0.9684:  80%|████████  | 12/15 [58:50<17:53, 357.76s/it]"
     ]
    },
    {
     "name": "stdout",
     "output_type": "stream",
     "text": [
      "[I 2025-01-06 19:37:52,853] Trial 11 finished with value: 0.9684 and parameters: {'l1_h_dim': 512, 'l2_h_dim': 128, 'l3_h_dim': 64}. Best is trial 0 with value: 0.9684.\n"
     ]
    },
    {
     "name": "stderr",
     "output_type": "stream",
     "text": [
      "Best trial: 0. Best value: 0.9684:  87%|████████▋ | 13/15 [1:05:42<12:28, 374.19s/it]"
     ]
    },
    {
     "name": "stdout",
     "output_type": "stream",
     "text": [
      "[I 2025-01-06 19:44:44,858] Trial 12 finished with value: 0.9684 and parameters: {'l1_h_dim': 512, 'l2_h_dim': 128, 'l3_h_dim': 64}. Best is trial 0 with value: 0.9684.\n"
     ]
    },
    {
     "name": "stderr",
     "output_type": "stream",
     "text": [
      "Best trial: 0. Best value: 0.9684:  93%|█████████▎| 14/15 [1:13:43<06:46, 406.27s/it]"
     ]
    },
    {
     "name": "stdout",
     "output_type": "stream",
     "text": [
      "[I 2025-01-06 19:52:45,241] Trial 13 finished with value: 0.9684 and parameters: {'l1_h_dim': 512, 'l2_h_dim': 128, 'l3_h_dim': 64}. Best is trial 0 with value: 0.9684.\n"
     ]
    },
    {
     "name": "stderr",
     "output_type": "stream",
     "text": [
      "Best trial: 0. Best value: 0.9684: 100%|██████████| 15/15 [1:19:26<00:00, 317.78s/it]\n"
     ]
    },
    {
     "name": "stdout",
     "output_type": "stream",
     "text": [
      "[I 2025-01-06 19:58:28,752] Trial 14 finished with value: 0.9684 and parameters: {'l1_h_dim': 512, 'l2_h_dim': 128, 'l3_h_dim': 32}. Best is trial 0 with value: 0.9684.\n",
      "Best parameters: {'l1_h_dim': 512, 'l2_h_dim': 128, 'l3_h_dim': 32}\n",
      "Warstwy modelu: dict_keys(['log_reg'])\n",
      "              precision    recall  f1-score   support\n",
      "\n",
      "           0       0.94      0.97      0.95       980\n",
      "           1       0.96      0.98      0.97      1135\n",
      "           2       0.92      0.89      0.90      1032\n",
      "           3       0.90      0.91      0.90      1010\n",
      "           4       0.92      0.92      0.92       982\n",
      "           5       0.88      0.85      0.87       892\n",
      "           6       0.94      0.94      0.94       958\n",
      "           7       0.92      0.92      0.92      1028\n",
      "           8       0.87      0.87      0.87       974\n",
      "           9       0.90      0.90      0.90      1009\n",
      "\n",
      "    accuracy                           0.92     10000\n",
      "   macro avg       0.92      0.92      0.92     10000\n",
      "weighted avg       0.92      0.92      0.92     10000\n",
      "\n",
      "Warstwy modelu: dict_keys(['rbm_L1', 'log_reg'])\n",
      "              precision    recall  f1-score   support\n",
      "\n",
      "           0       0.98      0.99      0.99       980\n",
      "           1       0.99      0.99      0.99      1135\n",
      "           2       0.97      0.96      0.96      1032\n",
      "           3       0.96      0.95      0.96      1010\n",
      "           4       0.98      0.97      0.97       982\n",
      "           5       0.97      0.96      0.96       892\n",
      "           6       0.98      0.98      0.98       958\n",
      "           7       0.97      0.97      0.97      1028\n",
      "           8       0.94      0.95      0.95       974\n",
      "           9       0.96      0.95      0.96      1009\n",
      "\n",
      "    accuracy                           0.97     10000\n",
      "   macro avg       0.97      0.97      0.97     10000\n",
      "weighted avg       0.97      0.97      0.97     10000\n",
      "\n",
      "Warstwy modelu: dict_keys(['rbm_L1', 'rbm_L2', 'log_reg'])\n",
      "              precision    recall  f1-score   support\n",
      "\n",
      "           0       0.97      0.99      0.98       980\n",
      "           1       0.99      0.99      0.99      1135\n",
      "           2       0.95      0.95      0.95      1032\n",
      "           3       0.94      0.95      0.95      1010\n",
      "           4       0.96      0.96      0.96       982\n",
      "           5       0.94      0.95      0.95       892\n",
      "           6       0.97      0.97      0.97       958\n",
      "           7       0.96      0.94      0.95      1028\n",
      "           8       0.94      0.93      0.94       974\n",
      "           9       0.95      0.93      0.94      1009\n",
      "\n",
      "    accuracy                           0.96     10000\n",
      "   macro avg       0.96      0.96      0.96     10000\n",
      "weighted avg       0.96      0.96      0.96     10000\n",
      "\n",
      "Warstwy modelu: dict_keys(['rbm_L1', 'rbm_L2', 'rbm_L3', 'log_reg'])\n",
      "              precision    recall  f1-score   support\n",
      "\n",
      "           0       0.94      0.98      0.96       980\n",
      "           1       0.98      0.98      0.98      1135\n",
      "           2       0.94      0.92      0.93      1032\n",
      "           3       0.91      0.88      0.89      1010\n",
      "           4       0.92      0.93      0.92       982\n",
      "           5       0.86      0.88      0.87       892\n",
      "           6       0.94      0.96      0.95       958\n",
      "           7       0.95      0.91      0.93      1028\n",
      "           8       0.86      0.89      0.88       974\n",
      "           9       0.90      0.88      0.89      1009\n",
      "\n",
      "    accuracy                           0.92     10000\n",
      "   macro avg       0.92      0.92      0.92     10000\n",
      "weighted avg       0.92      0.92      0.92     10000\n",
      "\n"
     ]
    }
   ],
   "source": [
    "model_params = {\n",
    "    'C': 0.5,\n",
    "    'solver': solver,\n",
    "    'max_iter': 1000,\n",
    "    'batch_size': 20,\n",
    "    'learning_rate': 0.05,\n",
    "}\n",
    "\n",
    "optimize_dbn(utils.Dataset_Select.MNIST.value, model_params, n_trials, [128, 256, 512])"
   ]
  },
  {
   "cell_type": "markdown",
   "metadata": {},
   "source": [
    "Najlepiej wypada DBN o tylko jednej, acz bardzo dużej, warstwie RBM i osiąga on `accuracy=0.97`, dodawanie kolejnych warstw obniża `accuracy` do odpowiednio 0.96 i 0.95 przy dwóch i trzech warstwach. Zdecydowanie zbiór MNIST jest dość prostym zbiorem, w którym dodatkowa pojemność modelu z użyciem dodatkowych warstw niekoniecznie przynosi porządany skutek.\n",
    "\n",
    "#### Eksperyment 2"
   ]
  },
  {
   "cell_type": "code",
   "execution_count": 17,
   "metadata": {},
   "outputs": [
    {
     "name": "stderr",
     "output_type": "stream",
     "text": [
      "[I 2025-01-06 10:35:34,944] A new study created in memory with name: no-name-7f6b0300-cbfb-42e5-8d08-90ea63679719\n",
      "Best trial: 0. Best value: 0.9538:  10%|█         | 1/10 [01:00<09:07, 60.86s/it]"
     ]
    },
    {
     "name": "stdout",
     "output_type": "stream",
     "text": [
      "[I 2025-01-06 10:36:35,802] Trial 0 finished with value: 0.9538 and parameters: {'l1_h_dim': 128, 'l2_h_dim': 128, 'l3_h_dim': 96}. Best is trial 0 with value: 0.9538.\n"
     ]
    },
    {
     "name": "stderr",
     "output_type": "stream",
     "text": [
      "Best trial: 1. Best value: 0.96:  20%|██        | 2/10 [02:39<11:04, 83.12s/it]  "
     ]
    },
    {
     "name": "stdout",
     "output_type": "stream",
     "text": [
      "[I 2025-01-06 10:38:14,512] Trial 1 finished with value: 0.96 and parameters: {'l1_h_dim': 256, 'l2_h_dim': 128, 'l3_h_dim': 64}. Best is trial 1 with value: 0.96.\n"
     ]
    },
    {
     "name": "stderr",
     "output_type": "stream",
     "text": [
      "Best trial: 2. Best value: 0.9613:  30%|███       | 3/10 [03:42<08:38, 74.00s/it]"
     ]
    },
    {
     "name": "stdout",
     "output_type": "stream",
     "text": [
      "[I 2025-01-06 10:39:17,665] Trial 2 finished with value: 0.9613 and parameters: {'l1_h_dim': 128, 'l2_h_dim': 192, 'l3_h_dim': 32}. Best is trial 2 with value: 0.9613.\n"
     ]
    },
    {
     "name": "stderr",
     "output_type": "stream",
     "text": [
      "Best trial: 2. Best value: 0.9613:  40%|████      | 4/10 [04:47<07:01, 70.31s/it]"
     ]
    },
    {
     "name": "stdout",
     "output_type": "stream",
     "text": [
      "[I 2025-01-06 10:40:22,318] Trial 3 finished with value: 0.9538 and parameters: {'l1_h_dim': 128, 'l2_h_dim': 128, 'l3_h_dim': 32}. Best is trial 2 with value: 0.9613.\n"
     ]
    },
    {
     "name": "stderr",
     "output_type": "stream",
     "text": [
      "Best trial: 2. Best value: 0.9613:  50%|█████     | 5/10 [07:00<07:45, 93.12s/it]"
     ]
    },
    {
     "name": "stdout",
     "output_type": "stream",
     "text": [
      "[I 2025-01-06 10:42:35,862] Trial 4 finished with value: 0.96 and parameters: {'l1_h_dim': 256, 'l2_h_dim': 64, 'l3_h_dim': 96}. Best is trial 2 with value: 0.9613.\n"
     ]
    },
    {
     "name": "stderr",
     "output_type": "stream",
     "text": [
      "Best trial: 2. Best value: 0.9613:  60%|██████    | 6/10 [08:46<06:29, 97.28s/it]"
     ]
    },
    {
     "name": "stdout",
     "output_type": "stream",
     "text": [
      "[I 2025-01-06 10:44:21,239] Trial 5 finished with value: 0.9613 and parameters: {'l1_h_dim': 128, 'l2_h_dim': 192, 'l3_h_dim': 96}. Best is trial 2 with value: 0.9613.\n"
     ]
    },
    {
     "name": "stderr",
     "output_type": "stream",
     "text": [
      "Best trial: 2. Best value: 0.9613:  70%|███████   | 7/10 [10:25<04:53, 97.75s/it]"
     ]
    },
    {
     "name": "stdout",
     "output_type": "stream",
     "text": [
      "[I 2025-01-06 10:45:59,945] Trial 6 finished with value: 0.9613 and parameters: {'l1_h_dim': 128, 'l2_h_dim': 192, 'l3_h_dim': 96}. Best is trial 2 with value: 0.9613.\n"
     ]
    },
    {
     "name": "stderr",
     "output_type": "stream",
     "text": [
      "Best trial: 2. Best value: 0.9613:  80%|████████  | 8/10 [12:49<03:45, 112.73s/it]"
     ]
    },
    {
     "name": "stdout",
     "output_type": "stream",
     "text": [
      "[I 2025-01-06 10:48:24,744] Trial 7 finished with value: 0.96 and parameters: {'l1_h_dim': 256, 'l2_h_dim': 128, 'l3_h_dim': 64}. Best is trial 2 with value: 0.9613.\n"
     ]
    },
    {
     "name": "stderr",
     "output_type": "stream",
     "text": [
      "Best trial: 8. Best value: 0.9658:  90%|█████████ | 9/10 [15:12<02:02, 122.03s/it]"
     ]
    },
    {
     "name": "stdout",
     "output_type": "stream",
     "text": [
      "[I 2025-01-06 10:50:47,221] Trial 8 finished with value: 0.9658 and parameters: {'l1_h_dim': 256, 'l2_h_dim': 192, 'l3_h_dim': 96}. Best is trial 8 with value: 0.9658.\n"
     ]
    },
    {
     "name": "stderr",
     "output_type": "stream",
     "text": [
      "Best trial: 8. Best value: 0.9658: 100%|██████████| 10/10 [18:06<00:00, 108.67s/it]\n"
     ]
    },
    {
     "name": "stdout",
     "output_type": "stream",
     "text": [
      "[I 2025-01-06 10:53:41,621] Trial 9 finished with value: 0.9658 and parameters: {'l1_h_dim': 256, 'l2_h_dim': 192, 'l3_h_dim': 96}. Best is trial 8 with value: 0.9658.\n",
      "Best parameters: {'l1_h_dim': 256, 'l2_h_dim': 192, 'l3_h_dim': 96}\n",
      "Warstwy modelu: dict_keys(['log_reg'])\n",
      "              precision    recall  f1-score   support\n",
      "\n",
      "           0       0.94      0.97      0.95       980\n",
      "           1       0.96      0.98      0.97      1135\n",
      "           2       0.92      0.89      0.90      1032\n",
      "           3       0.90      0.91      0.90      1010\n",
      "           4       0.92      0.92      0.92       982\n",
      "           5       0.88      0.85      0.87       892\n",
      "           6       0.94      0.94      0.94       958\n",
      "           7       0.92      0.92      0.92      1028\n",
      "           8       0.87      0.87      0.87       974\n",
      "           9       0.90      0.90      0.90      1009\n",
      "\n",
      "    accuracy                           0.92     10000\n",
      "   macro avg       0.92      0.92      0.92     10000\n",
      "weighted avg       0.92      0.92      0.92     10000\n",
      "\n",
      "Warstwy modelu: dict_keys(['rbm_L1', 'log_reg'])\n",
      "              precision    recall  f1-score   support\n",
      "\n",
      "           0       0.97      0.99      0.98       980\n",
      "           1       0.99      0.99      0.99      1135\n",
      "           2       0.95      0.95      0.95      1032\n",
      "           3       0.95      0.94      0.95      1010\n",
      "           4       0.96      0.96      0.96       982\n",
      "           5       0.96      0.95      0.96       892\n",
      "           6       0.97      0.97      0.97       958\n",
      "           7       0.96      0.96      0.96      1028\n",
      "           8       0.93      0.95      0.94       974\n",
      "           9       0.95      0.95      0.95      1009\n",
      "\n",
      "    accuracy                           0.96     10000\n",
      "   macro avg       0.96      0.96      0.96     10000\n",
      "weighted avg       0.96      0.96      0.96     10000\n",
      "\n",
      "Warstwy modelu: dict_keys(['rbm_L1', 'rbm_L2', 'log_reg'])\n",
      "              precision    recall  f1-score   support\n",
      "\n",
      "           0       0.98      0.99      0.98       980\n",
      "           1       0.99      0.99      0.99      1135\n",
      "           2       0.96      0.97      0.97      1032\n",
      "           3       0.95      0.96      0.95      1010\n",
      "           4       0.97      0.96      0.97       982\n",
      "           5       0.96      0.96      0.96       892\n",
      "           6       0.97      0.98      0.98       958\n",
      "           7       0.97      0.96      0.96      1028\n",
      "           8       0.95      0.95      0.95       974\n",
      "           9       0.95      0.94      0.95      1009\n",
      "\n",
      "    accuracy                           0.97     10000\n",
      "   macro avg       0.97      0.97      0.97     10000\n",
      "weighted avg       0.97      0.97      0.97     10000\n",
      "\n",
      "Warstwy modelu: dict_keys(['rbm_L1', 'rbm_L2', 'rbm_L3', 'log_reg'])\n",
      "              precision    recall  f1-score   support\n",
      "\n",
      "           0       0.97      0.98      0.98       980\n",
      "           1       0.99      0.99      0.99      1135\n",
      "           2       0.96      0.95      0.96      1032\n",
      "           3       0.95      0.93      0.94      1010\n",
      "           4       0.97      0.96      0.96       982\n",
      "           5       0.94      0.94      0.94       892\n",
      "           6       0.97      0.98      0.97       958\n",
      "           7       0.96      0.95      0.95      1028\n",
      "           8       0.92      0.95      0.94       974\n",
      "           9       0.94      0.93      0.94      1009\n",
      "\n",
      "    accuracy                           0.96     10000\n",
      "   macro avg       0.96      0.96      0.96     10000\n",
      "weighted avg       0.96      0.96      0.96     10000\n",
      "\n"
     ]
    }
   ],
   "source": [
    "model_params = {\n",
    "    'C': 0.5,\n",
    "    'solver': solver,\n",
    "    'max_iter': 1000,\n",
    "    'batch_size': 20,\n",
    "    'learning_rate': 0.05,\n",
    "}\n",
    "\n",
    "optimize_dbn(utils.Dataset_Select.MNIST.value, model_params, 10, [128, 256])"
   ]
  },
  {
   "cell_type": "markdown",
   "metadata": {},
   "source": [
    "Zredukowanie maksymalnego rozmiaru pierwszej warstwy pozwoliło osiągnąć ciekawy wynik, gdzie to najlepsze `accuracy=0.97` osiągamy dla dwuwarstwowej DBN, natomiast jednowarstwowa i trzywarstwowa DBN dają `accuracy` o 1 punkt procentowy mniejsze."
   ]
  },
  {
   "cell_type": "markdown",
   "metadata": {},
   "source": [
    "### Fashion_MNIST\n",
    "#### Eksperyment 1"
   ]
  },
  {
   "cell_type": "code",
   "execution_count": 13,
   "metadata": {},
   "outputs": [
    {
     "name": "stderr",
     "output_type": "stream",
     "text": [
      "[I 2025-01-05 14:22:49,458] A new study created in memory with name: no-name-20a7044c-707a-4b3f-b5da-dab23c64e9ad\n",
      "Best trial: 0. Best value: 0.7932:   7%|▋         | 1/15 [01:48<25:21, 108.66s/it]"
     ]
    },
    {
     "name": "stdout",
     "output_type": "stream",
     "text": [
      "[I 2025-01-05 14:24:38,111] Trial 0 finished with value: 0.7932 and parameters: {'l1_h_dim': 128, 'l2_h_dim': 192, 'l3_h_dim': 32}. Best is trial 0 with value: 0.7932.\n"
     ]
    },
    {
     "name": "stderr",
     "output_type": "stream",
     "text": [
      "Best trial: 1. Best value: 0.8135:  13%|█▎        | 2/15 [05:28<37:40, 173.87s/it]"
     ]
    },
    {
     "name": "stdout",
     "output_type": "stream",
     "text": [
      "[I 2025-01-05 14:28:17,639] Trial 1 finished with value: 0.8135 and parameters: {'l1_h_dim': 256, 'l2_h_dim': 128, 'l3_h_dim': 64}. Best is trial 1 with value: 0.8135.\n"
     ]
    },
    {
     "name": "stderr",
     "output_type": "stream",
     "text": [
      "Best trial: 1. Best value: 0.8135:  20%|██        | 3/15 [08:54<37:42, 188.57s/it]"
     ]
    },
    {
     "name": "stdout",
     "output_type": "stream",
     "text": [
      "[I 2025-01-05 14:31:43,691] Trial 2 finished with value: 0.8135 and parameters: {'l1_h_dim': 256, 'l2_h_dim': 64, 'l3_h_dim': 64}. Best is trial 1 with value: 0.8135.\n"
     ]
    },
    {
     "name": "stderr",
     "output_type": "stream",
     "text": [
      "Best trial: 1. Best value: 0.8135:  27%|██▋       | 4/15 [10:57<29:51, 162.88s/it]"
     ]
    },
    {
     "name": "stdout",
     "output_type": "stream",
     "text": [
      "[I 2025-01-05 14:33:47,192] Trial 3 finished with value: 0.7932 and parameters: {'l1_h_dim': 128, 'l2_h_dim': 192, 'l3_h_dim': 32}. Best is trial 1 with value: 0.8135.\n"
     ]
    },
    {
     "name": "stderr",
     "output_type": "stream",
     "text": [
      "Best trial: 4. Best value: 0.8299:  33%|███▎      | 5/15 [18:03<42:55, 257.53s/it]"
     ]
    },
    {
     "name": "stdout",
     "output_type": "stream",
     "text": [
      "[I 2025-01-05 14:40:52,547] Trial 4 finished with value: 0.8299 and parameters: {'l1_h_dim': 512, 'l2_h_dim': 128, 'l3_h_dim': 64}. Best is trial 4 with value: 0.8299.\n"
     ]
    },
    {
     "name": "stderr",
     "output_type": "stream",
     "text": [
      "Best trial: 4. Best value: 0.8299:  40%|████      | 6/15 [20:48<33:56, 226.23s/it]"
     ]
    },
    {
     "name": "stdout",
     "output_type": "stream",
     "text": [
      "[I 2025-01-05 14:43:38,009] Trial 5 finished with value: 0.8135 and parameters: {'l1_h_dim': 256, 'l2_h_dim': 64, 'l3_h_dim': 96}. Best is trial 4 with value: 0.8299.\n"
     ]
    },
    {
     "name": "stderr",
     "output_type": "stream",
     "text": [
      "Best trial: 4. Best value: 0.8299:  47%|████▋     | 7/15 [27:49<38:40, 290.01s/it]"
     ]
    },
    {
     "name": "stdout",
     "output_type": "stream",
     "text": [
      "[I 2025-01-05 14:50:39,316] Trial 6 finished with value: 0.8299 and parameters: {'l1_h_dim': 512, 'l2_h_dim': 192, 'l3_h_dim': 96}. Best is trial 4 with value: 0.8299.\n"
     ]
    },
    {
     "name": "stderr",
     "output_type": "stream",
     "text": [
      "Best trial: 4. Best value: 0.8299:  53%|█████▎    | 8/15 [35:10<39:26, 338.05s/it]"
     ]
    },
    {
     "name": "stdout",
     "output_type": "stream",
     "text": [
      "[I 2025-01-05 14:58:00,236] Trial 7 finished with value: 0.8299 and parameters: {'l1_h_dim': 512, 'l2_h_dim': 64, 'l3_h_dim': 96}. Best is trial 4 with value: 0.8299.\n"
     ]
    },
    {
     "name": "stderr",
     "output_type": "stream",
     "text": [
      "Best trial: 4. Best value: 0.8299:  60%|██████    | 9/15 [41:59<36:00, 360.09s/it]"
     ]
    },
    {
     "name": "stdout",
     "output_type": "stream",
     "text": [
      "[I 2025-01-05 15:04:48,810] Trial 8 finished with value: 0.8299 and parameters: {'l1_h_dim': 512, 'l2_h_dim': 64, 'l3_h_dim': 64}. Best is trial 4 with value: 0.8299.\n"
     ]
    },
    {
     "name": "stderr",
     "output_type": "stream",
     "text": [
      "Best trial: 4. Best value: 0.8299:  67%|██████▋   | 10/15 [44:38<24:50, 298.03s/it]"
     ]
    },
    {
     "name": "stdout",
     "output_type": "stream",
     "text": [
      "[I 2025-01-05 15:07:27,874] Trial 9 finished with value: 0.8135 and parameters: {'l1_h_dim': 256, 'l2_h_dim': 64, 'l3_h_dim': 32}. Best is trial 4 with value: 0.8299.\n"
     ]
    },
    {
     "name": "stderr",
     "output_type": "stream",
     "text": [
      "Best trial: 4. Best value: 0.8299:  73%|███████▎  | 11/15 [49:34<19:49, 297.29s/it]"
     ]
    },
    {
     "name": "stdout",
     "output_type": "stream",
     "text": [
      "[I 2025-01-05 15:12:23,477] Trial 10 finished with value: 0.8299 and parameters: {'l1_h_dim': 512, 'l2_h_dim': 128, 'l3_h_dim': 64}. Best is trial 4 with value: 0.8299.\n"
     ]
    },
    {
     "name": "stderr",
     "output_type": "stream",
     "text": [
      "Best trial: 4. Best value: 0.8299:  80%|████████  | 12/15 [54:26<14:47, 295.73s/it]"
     ]
    },
    {
     "name": "stdout",
     "output_type": "stream",
     "text": [
      "[I 2025-01-05 15:17:15,626] Trial 11 finished with value: 0.8299 and parameters: {'l1_h_dim': 512, 'l2_h_dim': 128, 'l3_h_dim': 96}. Best is trial 4 with value: 0.8299.\n"
     ]
    },
    {
     "name": "stderr",
     "output_type": "stream",
     "text": [
      "Best trial: 4. Best value: 0.8299:  87%|████████▋ | 13/15 [59:31<09:57, 298.62s/it]"
     ]
    },
    {
     "name": "stdout",
     "output_type": "stream",
     "text": [
      "[I 2025-01-05 15:22:20,912] Trial 12 finished with value: 0.8299 and parameters: {'l1_h_dim': 512, 'l2_h_dim': 192, 'l3_h_dim': 96}. Best is trial 4 with value: 0.8299.\n"
     ]
    },
    {
     "name": "stderr",
     "output_type": "stream",
     "text": [
      "Best trial: 4. Best value: 0.8299:  93%|█████████▎| 14/15 [1:04:47<05:03, 303.91s/it]"
     ]
    },
    {
     "name": "stdout",
     "output_type": "stream",
     "text": [
      "[I 2025-01-05 15:27:37,041] Trial 13 finished with value: 0.8299 and parameters: {'l1_h_dim': 512, 'l2_h_dim': 128, 'l3_h_dim': 96}. Best is trial 4 with value: 0.8299.\n"
     ]
    },
    {
     "name": "stderr",
     "output_type": "stream",
     "text": [
      "Best trial: 4. Best value: 0.8299: 100%|██████████| 15/15 [1:10:01<00:00, 280.10s/it]\n"
     ]
    },
    {
     "name": "stdout",
     "output_type": "stream",
     "text": [
      "[I 2025-01-05 15:32:50,987] Trial 14 finished with value: 0.8299 and parameters: {'l1_h_dim': 512, 'l2_h_dim': 192, 'l3_h_dim': 64}. Best is trial 4 with value: 0.8299.\n",
      "Best parameters: {'l1_h_dim': 512, 'l2_h_dim': 128, 'l3_h_dim': 64}\n",
      "Warstwy modelu: dict_keys(['log_reg'])\n",
      "              precision    recall  f1-score   support\n",
      "\n",
      "           0       0.74      0.76      0.75      1000\n",
      "           1       0.93      0.95      0.94      1000\n",
      "           2       0.69      0.67      0.68      1000\n",
      "           3       0.79      0.78      0.78      1000\n",
      "           4       0.68      0.70      0.69      1000\n",
      "           5       0.86      0.88      0.87      1000\n",
      "           6       0.54      0.51      0.52      1000\n",
      "           7       0.86      0.88      0.87      1000\n",
      "           8       0.91      0.90      0.90      1000\n",
      "           9       0.91      0.92      0.91      1000\n",
      "\n",
      "    accuracy                           0.79     10000\n",
      "   macro avg       0.79      0.79      0.79     10000\n",
      "weighted avg       0.79      0.79      0.79     10000\n",
      "\n",
      "Warstwy modelu: dict_keys(['rbm_L1', 'log_reg'])\n",
      "              precision    recall  f1-score   support\n",
      "\n",
      "           0       0.77      0.79      0.78      1000\n",
      "           1       0.98      0.96      0.97      1000\n",
      "           2       0.72      0.72      0.72      1000\n",
      "           3       0.84      0.84      0.84      1000\n",
      "           4       0.72      0.74      0.73      1000\n",
      "           5       0.91      0.91      0.91      1000\n",
      "           6       0.60      0.56      0.58      1000\n",
      "           7       0.91      0.91      0.91      1000\n",
      "           8       0.92      0.94      0.93      1000\n",
      "           9       0.93      0.94      0.93      1000\n",
      "\n",
      "    accuracy                           0.83     10000\n",
      "   macro avg       0.83      0.83      0.83     10000\n",
      "weighted avg       0.83      0.83      0.83     10000\n",
      "\n",
      "Warstwy modelu: dict_keys(['rbm_L1', 'rbm_L2', 'log_reg'])\n",
      "              precision    recall  f1-score   support\n",
      "\n",
      "           0       0.70      0.78      0.74      1000\n",
      "           1       0.97      0.94      0.96      1000\n",
      "           2       0.65      0.63      0.64      1000\n",
      "           3       0.79      0.82      0.81      1000\n",
      "           4       0.69      0.71      0.70      1000\n",
      "           5       0.81      0.89      0.85      1000\n",
      "           6       0.50      0.42      0.46      1000\n",
      "           7       0.86      0.81      0.83      1000\n",
      "           8       0.92      0.92      0.92      1000\n",
      "           9       0.89      0.90      0.90      1000\n",
      "\n",
      "    accuracy                           0.78     10000\n",
      "   macro avg       0.78      0.78      0.78     10000\n",
      "weighted avg       0.78      0.78      0.78     10000\n",
      "\n",
      "Warstwy modelu: dict_keys(['rbm_L1', 'rbm_L2', 'rbm_L3', 'log_reg'])\n",
      "              precision    recall  f1-score   support\n",
      "\n",
      "           0       0.71      0.77      0.74      1000\n",
      "           1       0.98      0.93      0.95      1000\n",
      "           2       0.57      0.60      0.58      1000\n",
      "           3       0.79      0.81      0.80      1000\n",
      "           4       0.58      0.59      0.59      1000\n",
      "           5       0.81      0.86      0.83      1000\n",
      "           6       0.41      0.36      0.39      1000\n",
      "           7       0.86      0.80      0.83      1000\n",
      "           8       0.89      0.89      0.89      1000\n",
      "           9       0.88      0.91      0.90      1000\n",
      "\n",
      "    accuracy                           0.75     10000\n",
      "   macro avg       0.75      0.75      0.75     10000\n",
      "weighted avg       0.75      0.75      0.75     10000\n",
      "\n"
     ]
    }
   ],
   "source": [
    "model_params = {\n",
    "    'C': 0.5,\n",
    "    'solver': solver,\n",
    "    'max_iter': 5000,\n",
    "    'batch_size': 10,\n",
    "    'learning_rate': 0.01,\n",
    "}\n",
    "\n",
    "optimize_dbn(utils.Dataset_Select.F_MNIST.value, model_params, n_trials, [128, 256, 512])"
   ]
  },
  {
   "cell_type": "markdown",
   "metadata": {},
   "source": [
    "W tym wypadku również, bardzo duża warstwa pierwsza RBM dostarcza najlepszy wynik `accuracy=0.83`, natomiast kolejne warstwy obniżają go do 0.78 i 0.75 przy dwóch i trzech warstwach.\n",
    "\n",
    "#### Eksperyment 2"
   ]
  },
  {
   "cell_type": "code",
   "execution_count": 23,
   "metadata": {},
   "outputs": [
    {
     "name": "stderr",
     "output_type": "stream",
     "text": [
      "[I 2025-01-06 14:17:59,619] A new study created in memory with name: no-name-004d7256-c8b1-4aed-87c6-f5c488074b95\n",
      "Best trial: 0. Best value: 0.7932:  10%|█         | 1/10 [01:39<14:57, 99.74s/it]"
     ]
    },
    {
     "name": "stdout",
     "output_type": "stream",
     "text": [
      "[I 2025-01-06 14:19:39,355] Trial 0 finished with value: 0.7932 and parameters: {'l1_h_dim': 128, 'l2_h_dim': 192, 'l3_h_dim': 32}. Best is trial 0 with value: 0.7932.\n"
     ]
    },
    {
     "name": "stderr",
     "output_type": "stream",
     "text": [
      "Best trial: 0. Best value: 0.7932:  20%|██        | 2/10 [03:21<13:29, 101.14s/it]"
     ]
    },
    {
     "name": "stdout",
     "output_type": "stream",
     "text": [
      "[I 2025-01-06 14:21:21,475] Trial 1 finished with value: 0.7932 and parameters: {'l1_h_dim': 128, 'l2_h_dim': 64, 'l3_h_dim': 64}. Best is trial 0 with value: 0.7932.\n"
     ]
    },
    {
     "name": "stderr",
     "output_type": "stream",
     "text": [
      "Best trial: 2. Best value: 0.8135:  30%|███       | 3/10 [06:14<15:36, 133.84s/it]"
     ]
    },
    {
     "name": "stdout",
     "output_type": "stream",
     "text": [
      "[I 2025-01-06 14:24:14,235] Trial 2 finished with value: 0.8135 and parameters: {'l1_h_dim': 256, 'l2_h_dim': 128, 'l3_h_dim': 96}. Best is trial 2 with value: 0.8135.\n"
     ]
    },
    {
     "name": "stderr",
     "output_type": "stream",
     "text": [
      "Best trial: 2. Best value: 0.8135:  40%|████      | 4/10 [09:02<14:42, 147.14s/it]"
     ]
    },
    {
     "name": "stdout",
     "output_type": "stream",
     "text": [
      "[I 2025-01-06 14:27:01,769] Trial 3 finished with value: 0.8135 and parameters: {'l1_h_dim': 256, 'l2_h_dim': 128, 'l3_h_dim': 32}. Best is trial 2 with value: 0.8135.\n"
     ]
    },
    {
     "name": "stderr",
     "output_type": "stream",
     "text": [
      "Best trial: 2. Best value: 0.8135:  50%|█████     | 5/10 [12:39<14:21, 172.32s/it]"
     ]
    },
    {
     "name": "stdout",
     "output_type": "stream",
     "text": [
      "[I 2025-01-06 14:30:38,716] Trial 4 finished with value: 0.8135 and parameters: {'l1_h_dim': 256, 'l2_h_dim': 128, 'l3_h_dim': 96}. Best is trial 2 with value: 0.8135.\n"
     ]
    },
    {
     "name": "stderr",
     "output_type": "stream",
     "text": [
      "Best trial: 2. Best value: 0.8135:  60%|██████    | 6/10 [16:52<13:19, 199.81s/it]"
     ]
    },
    {
     "name": "stdout",
     "output_type": "stream",
     "text": [
      "[I 2025-01-06 14:34:51,884] Trial 5 finished with value: 0.8135 and parameters: {'l1_h_dim': 256, 'l2_h_dim': 192, 'l3_h_dim': 96}. Best is trial 2 with value: 0.8135.\n"
     ]
    },
    {
     "name": "stderr",
     "output_type": "stream",
     "text": [
      "Best trial: 2. Best value: 0.8135:  70%|███████   | 7/10 [19:14<09:02, 180.98s/it]"
     ]
    },
    {
     "name": "stdout",
     "output_type": "stream",
     "text": [
      "[I 2025-01-06 14:37:14,107] Trial 6 finished with value: 0.7932 and parameters: {'l1_h_dim': 128, 'l2_h_dim': 128, 'l3_h_dim': 96}. Best is trial 2 with value: 0.8135.\n"
     ]
    },
    {
     "name": "stderr",
     "output_type": "stream",
     "text": [
      "Best trial: 2. Best value: 0.8135:  80%|████████  | 8/10 [21:33<05:34, 167.49s/it]"
     ]
    },
    {
     "name": "stdout",
     "output_type": "stream",
     "text": [
      "[I 2025-01-06 14:39:32,719] Trial 7 finished with value: 0.7932 and parameters: {'l1_h_dim': 128, 'l2_h_dim': 64, 'l3_h_dim': 64}. Best is trial 2 with value: 0.8135.\n"
     ]
    },
    {
     "name": "stderr",
     "output_type": "stream",
     "text": [
      "Best trial: 2. Best value: 0.8135:  90%|█████████ | 9/10 [25:18<03:05, 185.51s/it]"
     ]
    },
    {
     "name": "stdout",
     "output_type": "stream",
     "text": [
      "[I 2025-01-06 14:43:17,833] Trial 8 finished with value: 0.8135 and parameters: {'l1_h_dim': 256, 'l2_h_dim': 64, 'l3_h_dim': 96}. Best is trial 2 with value: 0.8135.\n"
     ]
    },
    {
     "name": "stderr",
     "output_type": "stream",
     "text": [
      "Best trial: 2. Best value: 0.8135: 100%|██████████| 10/10 [29:16<00:00, 175.61s/it]\n"
     ]
    },
    {
     "name": "stdout",
     "output_type": "stream",
     "text": [
      "[I 2025-01-06 14:47:15,701] Trial 9 finished with value: 0.8135 and parameters: {'l1_h_dim': 256, 'l2_h_dim': 192, 'l3_h_dim': 96}. Best is trial 2 with value: 0.8135.\n",
      "Best parameters: {'l1_h_dim': 256, 'l2_h_dim': 128, 'l3_h_dim': 96}\n",
      "Warstwy modelu: dict_keys(['log_reg'])\n",
      "              precision    recall  f1-score   support\n",
      "\n",
      "           0       0.74      0.76      0.75      1000\n",
      "           1       0.93      0.95      0.94      1000\n",
      "           2       0.69      0.67      0.68      1000\n",
      "           3       0.79      0.78      0.78      1000\n",
      "           4       0.68      0.70      0.69      1000\n",
      "           5       0.86      0.88      0.87      1000\n",
      "           6       0.54      0.51      0.52      1000\n",
      "           7       0.86      0.88      0.87      1000\n",
      "           8       0.91      0.90      0.90      1000\n",
      "           9       0.91      0.92      0.91      1000\n",
      "\n",
      "    accuracy                           0.79     10000\n",
      "   macro avg       0.79      0.79      0.79     10000\n",
      "weighted avg       0.79      0.79      0.79     10000\n",
      "\n",
      "Warstwy modelu: dict_keys(['rbm_L1', 'log_reg'])\n",
      "              precision    recall  f1-score   support\n",
      "\n",
      "           0       0.76      0.78      0.77      1000\n",
      "           1       0.97      0.95      0.96      1000\n",
      "           2       0.69      0.71      0.70      1000\n",
      "           3       0.83      0.84      0.83      1000\n",
      "           4       0.69      0.72      0.71      1000\n",
      "           5       0.89      0.90      0.90      1000\n",
      "           6       0.56      0.48      0.52      1000\n",
      "           7       0.89      0.89      0.89      1000\n",
      "           8       0.91      0.94      0.92      1000\n",
      "           9       0.93      0.92      0.92      1000\n",
      "\n",
      "    accuracy                           0.81     10000\n",
      "   macro avg       0.81      0.81      0.81     10000\n",
      "weighted avg       0.81      0.81      0.81     10000\n",
      "\n",
      "Warstwy modelu: dict_keys(['rbm_L1', 'rbm_L2', 'log_reg'])\n",
      "              precision    recall  f1-score   support\n",
      "\n",
      "           0       0.72      0.77      0.74      1000\n",
      "           1       0.97      0.94      0.96      1000\n",
      "           2       0.64      0.66      0.65      1000\n",
      "           3       0.81      0.82      0.82      1000\n",
      "           4       0.68      0.69      0.68      1000\n",
      "           5       0.83      0.88      0.86      1000\n",
      "           6       0.49      0.44      0.46      1000\n",
      "           7       0.87      0.82      0.84      1000\n",
      "           8       0.91      0.91      0.91      1000\n",
      "           9       0.89      0.91      0.90      1000\n",
      "\n",
      "    accuracy                           0.78     10000\n",
      "   macro avg       0.78      0.78      0.78     10000\n",
      "weighted avg       0.78      0.78      0.78     10000\n",
      "\n",
      "Warstwy modelu: dict_keys(['rbm_L1', 'rbm_L2', 'rbm_L3', 'log_reg'])\n",
      "              precision    recall  f1-score   support\n",
      "\n",
      "           0       0.71      0.77      0.74      1000\n",
      "           1       0.97      0.94      0.96      1000\n",
      "           2       0.55      0.61      0.58      1000\n",
      "           3       0.82      0.81      0.82      1000\n",
      "           4       0.59      0.59      0.59      1000\n",
      "           5       0.82      0.88      0.85      1000\n",
      "           6       0.44      0.36      0.39      1000\n",
      "           7       0.88      0.82      0.85      1000\n",
      "           8       0.90      0.91      0.90      1000\n",
      "           9       0.90      0.90      0.90      1000\n",
      "\n",
      "    accuracy                           0.76     10000\n",
      "   macro avg       0.76      0.76      0.76     10000\n",
      "weighted avg       0.76      0.76      0.76     10000\n",
      "\n"
     ]
    }
   ],
   "source": [
    "model_params = {\n",
    "    'C': 0.5,\n",
    "    'solver': solver,\n",
    "    'max_iter': 5000,\n",
    "    'batch_size': 10,\n",
    "    'learning_rate': 0.01,\n",
    "}\n",
    "\n",
    "optimize_dbn(utils.Dataset_Select.F_MNIST.value, model_params, 10, [128, 256])"
   ]
  },
  {
   "cell_type": "markdown",
   "metadata": {},
   "source": [
    "W tym wypadku, zmniejszenie rozmiaru warstwy pierwszej pogorszyło tylko `accuracy` na 0.81 w przypadku DBN jednowarstwowego, natomiast modele dwu i trój-warstwowe osiągnęły odpowiednio 0.78 oraz 0.76 `accuracy`."
   ]
  },
  {
   "cell_type": "markdown",
   "metadata": {},
   "source": [
    "### Kuzushiji-MNIST\n",
    "#### Eksperyment 1"
   ]
  },
  {
   "cell_type": "code",
   "execution_count": 21,
   "metadata": {},
   "outputs": [
    {
     "name": "stderr",
     "output_type": "stream",
     "text": [
      "[I 2025-01-06 12:27:09,047] A new study created in memory with name: no-name-e78ea10e-ce16-41b3-ad7a-c50758f47cc7\n",
      "Best trial: 0. Best value: 0.7994:   7%|▋         | 1/15 [01:23<19:25, 83.27s/it]"
     ]
    },
    {
     "name": "stdout",
     "output_type": "stream",
     "text": [
      "[I 2025-01-06 12:28:32,319] Trial 0 finished with value: 0.7994 and parameters: {'l1_h_dim': 128, 'l2_h_dim': 192, 'l3_h_dim': 64}. Best is trial 0 with value: 0.7994.\n"
     ]
    },
    {
     "name": "stderr",
     "output_type": "stream",
     "text": [
      "Best trial: 1. Best value: 0.8191:  13%|█▎        | 2/15 [04:04<27:55, 128.86s/it]"
     ]
    },
    {
     "name": "stdout",
     "output_type": "stream",
     "text": [
      "[I 2025-01-06 12:31:13,095] Trial 1 finished with value: 0.8191 and parameters: {'l1_h_dim': 256, 'l2_h_dim': 64, 'l3_h_dim': 32}. Best is trial 1 with value: 0.8191.\n"
     ]
    },
    {
     "name": "stderr",
     "output_type": "stream",
     "text": [
      "2025-01-06 12:31:20.689561: I tensorflow/core/framework/local_rendezvous.cc:405] Local rendezvous is aborting with status: OUT_OF_RANGE: End of sequence\n",
      "Best trial: 1. Best value: 0.8191:  20%|██        | 3/15 [06:16<26:06, 130.55s/it]"
     ]
    },
    {
     "name": "stdout",
     "output_type": "stream",
     "text": [
      "[I 2025-01-06 12:33:25,648] Trial 2 finished with value: 0.777 and parameters: {'l1_h_dim': 128, 'l2_h_dim': 128, 'l3_h_dim': 96}. Best is trial 1 with value: 0.8191.\n"
     ]
    },
    {
     "name": "stderr",
     "output_type": "stream",
     "text": [
      "Best trial: 3. Best value: 0.8584:  27%|██▋       | 4/15 [14:40<50:58, 278.01s/it]"
     ]
    },
    {
     "name": "stdout",
     "output_type": "stream",
     "text": [
      "[I 2025-01-06 12:41:49,720] Trial 3 finished with value: 0.8584 and parameters: {'l1_h_dim': 512, 'l2_h_dim': 192, 'l3_h_dim': 32}. Best is trial 3 with value: 0.8584.\n"
     ]
    },
    {
     "name": "stderr",
     "output_type": "stream",
     "text": [
      "Best trial: 3. Best value: 0.8584:  33%|███▎      | 5/15 [22:41<58:30, 351.04s/it]"
     ]
    },
    {
     "name": "stdout",
     "output_type": "stream",
     "text": [
      "[I 2025-01-06 12:49:50,231] Trial 4 finished with value: 0.8584 and parameters: {'l1_h_dim': 512, 'l2_h_dim': 192, 'l3_h_dim': 96}. Best is trial 3 with value: 0.8584.\n"
     ]
    },
    {
     "name": "stderr",
     "output_type": "stream",
     "text": [
      "Best trial: 3. Best value: 0.8584:  40%|████      | 6/15 [25:08<42:14, 281.65s/it]"
     ]
    },
    {
     "name": "stdout",
     "output_type": "stream",
     "text": [
      "[I 2025-01-06 12:52:17,189] Trial 5 finished with value: 0.777 and parameters: {'l1_h_dim': 128, 'l2_h_dim': 128, 'l3_h_dim': 96}. Best is trial 3 with value: 0.8584.\n"
     ]
    },
    {
     "name": "stderr",
     "output_type": "stream",
     "text": [
      "Best trial: 3. Best value: 0.8584:  47%|████▋     | 7/15 [29:01<35:27, 265.95s/it]"
     ]
    },
    {
     "name": "stdout",
     "output_type": "stream",
     "text": [
      "[I 2025-01-06 12:56:10,820] Trial 6 finished with value: 0.8191 and parameters: {'l1_h_dim': 256, 'l2_h_dim': 128, 'l3_h_dim': 96}. Best is trial 3 with value: 0.8584.\n"
     ]
    },
    {
     "name": "stderr",
     "output_type": "stream",
     "text": [
      "Best trial: 3. Best value: 0.8584:  53%|█████▎    | 8/15 [31:01<25:35, 219.31s/it]"
     ]
    },
    {
     "name": "stdout",
     "output_type": "stream",
     "text": [
      "[I 2025-01-06 12:58:10,272] Trial 7 finished with value: 0.777 and parameters: {'l1_h_dim': 128, 'l2_h_dim': 128, 'l3_h_dim': 64}. Best is trial 3 with value: 0.8584.\n"
     ]
    },
    {
     "name": "stderr",
     "output_type": "stream",
     "text": [
      "Best trial: 3. Best value: 0.8584:  60%|██████    | 9/15 [38:19<28:47, 287.87s/it]"
     ]
    },
    {
     "name": "stdout",
     "output_type": "stream",
     "text": [
      "[I 2025-01-06 13:05:28,899] Trial 8 finished with value: 0.8584 and parameters: {'l1_h_dim': 512, 'l2_h_dim': 64, 'l3_h_dim': 64}. Best is trial 3 with value: 0.8584.\n"
     ]
    },
    {
     "name": "stderr",
     "output_type": "stream",
     "text": [
      "Best trial: 3. Best value: 0.8584:  67%|██████▋   | 10/15 [40:32<19:59, 239.98s/it]"
     ]
    },
    {
     "name": "stdout",
     "output_type": "stream",
     "text": [
      "[I 2025-01-06 13:07:41,625] Trial 9 finished with value: 0.7994 and parameters: {'l1_h_dim': 128, 'l2_h_dim': 192, 'l3_h_dim': 96}. Best is trial 3 with value: 0.8584.\n"
     ]
    },
    {
     "name": "stderr",
     "output_type": "stream",
     "text": [
      "Best trial: 3. Best value: 0.8584:  73%|███████▎  | 11/15 [49:27<22:01, 330.33s/it]"
     ]
    },
    {
     "name": "stdout",
     "output_type": "stream",
     "text": [
      "[I 2025-01-06 13:16:36,831] Trial 10 finished with value: 0.8584 and parameters: {'l1_h_dim': 512, 'l2_h_dim': 192, 'l3_h_dim': 32}. Best is trial 3 with value: 0.8584.\n"
     ]
    },
    {
     "name": "stderr",
     "output_type": "stream",
     "text": [
      "Best trial: 3. Best value: 0.8584:  80%|████████  | 12/15 [56:48<18:11, 363.81s/it]"
     ]
    },
    {
     "name": "stdout",
     "output_type": "stream",
     "text": [
      "[I 2025-01-06 13:23:57,218] Trial 11 finished with value: 0.8584 and parameters: {'l1_h_dim': 512, 'l2_h_dim': 192, 'l3_h_dim': 32}. Best is trial 3 with value: 0.8584.\n"
     ]
    },
    {
     "name": "stderr",
     "output_type": "stream",
     "text": [
      "Best trial: 3. Best value: 0.8584:  87%|████████▋ | 13/15 [1:03:49<12:42, 381.09s/it]"
     ]
    },
    {
     "name": "stdout",
     "output_type": "stream",
     "text": [
      "[I 2025-01-06 13:30:58,054] Trial 12 finished with value: 0.8584 and parameters: {'l1_h_dim': 512, 'l2_h_dim': 192, 'l3_h_dim': 32}. Best is trial 3 with value: 0.8584.\n"
     ]
    },
    {
     "name": "stderr",
     "output_type": "stream",
     "text": [
      "Best trial: 3. Best value: 0.8584:  93%|█████████▎| 14/15 [1:12:30<07:03, 423.34s/it]"
     ]
    },
    {
     "name": "stdout",
     "output_type": "stream",
     "text": [
      "[I 2025-01-06 13:39:39,049] Trial 13 finished with value: 0.8584 and parameters: {'l1_h_dim': 512, 'l2_h_dim': 192, 'l3_h_dim': 96}. Best is trial 3 with value: 0.8584.\n"
     ]
    },
    {
     "name": "stderr",
     "output_type": "stream",
     "text": [
      "Best trial: 3. Best value: 0.8584: 100%|██████████| 15/15 [1:18:39<00:00, 314.62s/it]\n"
     ]
    },
    {
     "name": "stdout",
     "output_type": "stream",
     "text": [
      "[I 2025-01-06 13:45:48,395] Trial 14 finished with value: 0.8584 and parameters: {'l1_h_dim': 512, 'l2_h_dim': 192, 'l3_h_dim': 32}. Best is trial 3 with value: 0.8584.\n",
      "Best parameters: {'l1_h_dim': 512, 'l2_h_dim': 192, 'l3_h_dim': 32}\n",
      "Warstwy modelu: dict_keys(['log_reg'])\n",
      "              precision    recall  f1-score   support\n",
      "\n",
      "           0       0.85      0.75      0.80      1000\n",
      "           1       0.64      0.67      0.65      1000\n",
      "           2       0.51      0.63      0.56      1000\n",
      "           3       0.79      0.76      0.77      1000\n",
      "           4       0.64      0.64      0.64      1000\n",
      "           5       0.74      0.70      0.72      1000\n",
      "           6       0.67      0.71      0.69      1000\n",
      "           7       0.74      0.56      0.64      1000\n",
      "           8       0.62      0.74      0.68      1000\n",
      "           9       0.70      0.64      0.67      1000\n",
      "\n",
      "    accuracy                           0.68     10000\n",
      "   macro avg       0.69      0.68      0.68     10000\n",
      "weighted avg       0.69      0.68      0.68     10000\n",
      "\n",
      "Warstwy modelu: dict_keys(['rbm_L1', 'log_reg'])\n",
      "              precision    recall  f1-score   support\n",
      "\n",
      "           0       0.89      0.88      0.89      1000\n",
      "           1       0.85      0.85      0.85      1000\n",
      "           2       0.79      0.80      0.80      1000\n",
      "           3       0.87      0.91      0.89      1000\n",
      "           4       0.82      0.83      0.83      1000\n",
      "           5       0.93      0.84      0.88      1000\n",
      "           6       0.80      0.91      0.85      1000\n",
      "           7       0.91      0.86      0.88      1000\n",
      "           8       0.84      0.85      0.85      1000\n",
      "           9       0.90      0.84      0.87      1000\n",
      "\n",
      "    accuracy                           0.86     10000\n",
      "   macro avg       0.86      0.86      0.86     10000\n",
      "weighted avg       0.86      0.86      0.86     10000\n",
      "\n",
      "Warstwy modelu: dict_keys(['rbm_L1', 'rbm_L2', 'log_reg'])\n",
      "              precision    recall  f1-score   support\n",
      "\n",
      "           0       0.89      0.87      0.88      1000\n",
      "           1       0.86      0.85      0.86      1000\n",
      "           2       0.77      0.80      0.78      1000\n",
      "           3       0.84      0.90      0.87      1000\n",
      "           4       0.81      0.82      0.81      1000\n",
      "           5       0.93      0.82      0.87      1000\n",
      "           6       0.78      0.89      0.83      1000\n",
      "           7       0.87      0.82      0.85      1000\n",
      "           8       0.83      0.85      0.84      1000\n",
      "           9       0.91      0.83      0.87      1000\n",
      "\n",
      "    accuracy                           0.85     10000\n",
      "   macro avg       0.85      0.85      0.85     10000\n",
      "weighted avg       0.85      0.85      0.85     10000\n",
      "\n",
      "Warstwy modelu: dict_keys(['rbm_L1', 'rbm_L2', 'rbm_L3', 'log_reg'])\n",
      "              precision    recall  f1-score   support\n",
      "\n",
      "           0       0.86      0.76      0.81      1000\n",
      "           1       0.71      0.73      0.72      1000\n",
      "           2       0.63      0.65      0.64      1000\n",
      "           3       0.79      0.84      0.81      1000\n",
      "           4       0.71      0.74      0.72      1000\n",
      "           5       0.87      0.74      0.80      1000\n",
      "           6       0.65      0.82      0.72      1000\n",
      "           7       0.81      0.71      0.76      1000\n",
      "           8       0.72      0.78      0.75      1000\n",
      "           9       0.84      0.72      0.78      1000\n",
      "\n",
      "    accuracy                           0.75     10000\n",
      "   macro avg       0.76      0.75      0.75     10000\n",
      "weighted avg       0.76      0.75      0.75     10000\n",
      "\n"
     ]
    }
   ],
   "source": [
    "model_params = {\n",
    "    'C': 1.0,\n",
    "    'solver': solver,\n",
    "    'max_iter': 1000,\n",
    "    'batch_size': 10,\n",
    "    'learning_rate': 0.1,\n",
    "}\n",
    "\n",
    "optimize_dbn(utils.Dataset_Select.K_MNIST.value, model_params, n_trials, [128, 256, 512])"
   ]
  },
  {
   "cell_type": "markdown",
   "metadata": {},
   "source": [
    "Wciąż pojedyńcza warstwa o największym rozmiarze daje najlepszą klasyfikację z `accuracy=0.86`.\n",
    "\n",
    "Na przykładzie tego i poprzedniego zbioru danych widać, że nawet przy bardziej skomplikowanym zbiorze danych, niż MNIST, dostatecznie duża, pojedyńcza warstwa RBM potrafi być najlepszym ekstraktorem cech.\n",
    "\n",
    "#### Eksperyment 2"
   ]
  },
  {
   "cell_type": "code",
   "execution_count": 22,
   "metadata": {},
   "outputs": [
    {
     "name": "stderr",
     "output_type": "stream",
     "text": [
      "[I 2025-01-06 13:54:05,487] A new study created in memory with name: no-name-d34e0c3c-cdcb-4758-9bff-7d1023d64bfa\n",
      "Best trial: 0. Best value: 0.7994:  10%|█         | 1/10 [01:55<17:20, 115.57s/it]"
     ]
    },
    {
     "name": "stdout",
     "output_type": "stream",
     "text": [
      "[I 2025-01-06 13:56:01,057] Trial 0 finished with value: 0.7994 and parameters: {'l1_h_dim': 128, 'l2_h_dim': 192, 'l3_h_dim': 32}. Best is trial 0 with value: 0.7994.\n"
     ]
    },
    {
     "name": "stderr",
     "output_type": "stream",
     "text": [
      "Best trial: 1. Best value: 0.8191:  20%|██        | 2/10 [05:32<23:20, 175.11s/it]"
     ]
    },
    {
     "name": "stdout",
     "output_type": "stream",
     "text": [
      "[I 2025-01-06 13:59:37,843] Trial 1 finished with value: 0.8191 and parameters: {'l1_h_dim': 256, 'l2_h_dim': 64, 'l3_h_dim': 32}. Best is trial 1 with value: 0.8191.\n"
     ]
    },
    {
     "name": "stderr",
     "output_type": "stream",
     "text": [
      "Best trial: 1. Best value: 0.8191:  30%|███       | 3/10 [08:51<21:41, 185.93s/it]"
     ]
    },
    {
     "name": "stdout",
     "output_type": "stream",
     "text": [
      "[I 2025-01-06 14:02:56,659] Trial 2 finished with value: 0.8191 and parameters: {'l1_h_dim': 256, 'l2_h_dim': 64, 'l3_h_dim': 96}. Best is trial 1 with value: 0.8191.\n"
     ]
    },
    {
     "name": "stderr",
     "output_type": "stream",
     "text": [
      "Best trial: 1. Best value: 0.8191:  40%|████      | 4/10 [10:50<15:56, 159.45s/it]"
     ]
    },
    {
     "name": "stdout",
     "output_type": "stream",
     "text": [
      "[I 2025-01-06 14:04:55,512] Trial 3 finished with value: 0.7994 and parameters: {'l1_h_dim': 128, 'l2_h_dim': 192, 'l3_h_dim': 96}. Best is trial 1 with value: 0.8191.\n"
     ]
    },
    {
     "name": "stderr",
     "output_type": "stream",
     "text": [
      "Best trial: 4. Best value: 0.8294:  50%|█████     | 5/10 [13:34<13:26, 161.28s/it]"
     ]
    },
    {
     "name": "stdout",
     "output_type": "stream",
     "text": [
      "[I 2025-01-06 14:07:40,048] Trial 4 finished with value: 0.8294 and parameters: {'l1_h_dim': 256, 'l2_h_dim': 192, 'l3_h_dim': 96}. Best is trial 4 with value: 0.8294.\n"
     ]
    },
    {
     "name": "stderr",
     "output_type": "stream",
     "text": [
      "Best trial: 4. Best value: 0.8294:  60%|██████    | 6/10 [15:40<09:56, 149.11s/it]"
     ]
    },
    {
     "name": "stdout",
     "output_type": "stream",
     "text": [
      "[I 2025-01-06 14:09:45,524] Trial 5 finished with value: 0.8191 and parameters: {'l1_h_dim': 256, 'l2_h_dim': 128, 'l3_h_dim': 32}. Best is trial 4 with value: 0.8294.\n"
     ]
    },
    {
     "name": "stderr",
     "output_type": "stream",
     "text": [
      "Best trial: 4. Best value: 0.8294:  70%|███████   | 7/10 [16:52<06:12, 124.06s/it]"
     ]
    },
    {
     "name": "stdout",
     "output_type": "stream",
     "text": [
      "[I 2025-01-06 14:10:58,012] Trial 6 finished with value: 0.777 and parameters: {'l1_h_dim': 128, 'l2_h_dim': 128, 'l3_h_dim': 32}. Best is trial 4 with value: 0.8294.\n"
     ]
    },
    {
     "name": "stderr",
     "output_type": "stream",
     "text": [
      "Best trial: 4. Best value: 0.8294:  80%|████████  | 8/10 [18:06<03:36, 108.22s/it]"
     ]
    },
    {
     "name": "stdout",
     "output_type": "stream",
     "text": [
      "[I 2025-01-06 14:12:12,309] Trial 7 finished with value: 0.7994 and parameters: {'l1_h_dim': 128, 'l2_h_dim': 192, 'l3_h_dim': 64}. Best is trial 4 with value: 0.8294.\n"
     ]
    },
    {
     "name": "stderr",
     "output_type": "stream",
     "text": [
      "Best trial: 4. Best value: 0.8294:  90%|█████████ | 9/10 [20:22<01:56, 116.80s/it]"
     ]
    },
    {
     "name": "stdout",
     "output_type": "stream",
     "text": [
      "[I 2025-01-06 14:14:27,966] Trial 8 finished with value: 0.8191 and parameters: {'l1_h_dim': 256, 'l2_h_dim': 128, 'l3_h_dim': 64}. Best is trial 4 with value: 0.8294.\n"
     ]
    },
    {
     "name": "stderr",
     "output_type": "stream",
     "text": [
      "Best trial: 4. Best value: 0.8294: 100%|██████████| 10/10 [21:34<00:00, 129.47s/it]\n"
     ]
    },
    {
     "name": "stdout",
     "output_type": "stream",
     "text": [
      "[I 2025-01-06 14:15:40,195] Trial 9 finished with value: 0.777 and parameters: {'l1_h_dim': 128, 'l2_h_dim': 128, 'l3_h_dim': 32}. Best is trial 4 with value: 0.8294.\n",
      "Best parameters: {'l1_h_dim': 256, 'l2_h_dim': 192, 'l3_h_dim': 96}\n",
      "Warstwy modelu: dict_keys(['log_reg'])\n",
      "              precision    recall  f1-score   support\n",
      "\n",
      "           0       0.85      0.75      0.80      1000\n",
      "           1       0.64      0.67      0.65      1000\n",
      "           2       0.51      0.63      0.56      1000\n",
      "           3       0.79      0.76      0.77      1000\n",
      "           4       0.64      0.64      0.64      1000\n",
      "           5       0.74      0.70      0.72      1000\n",
      "           6       0.67      0.71      0.69      1000\n",
      "           7       0.74      0.56      0.64      1000\n",
      "           8       0.62      0.74      0.68      1000\n",
      "           9       0.70      0.64      0.67      1000\n",
      "\n",
      "    accuracy                           0.68     10000\n",
      "   macro avg       0.69      0.68      0.68     10000\n",
      "weighted avg       0.69      0.68      0.68     10000\n",
      "\n",
      "Warstwy modelu: dict_keys(['rbm_L1', 'log_reg'])\n",
      "              precision    recall  f1-score   support\n",
      "\n",
      "           0       0.87      0.83      0.85      1000\n",
      "           1       0.80      0.82      0.81      1000\n",
      "           2       0.73      0.76      0.75      1000\n",
      "           3       0.87      0.89      0.88      1000\n",
      "           4       0.76      0.78      0.77      1000\n",
      "           5       0.92      0.81      0.86      1000\n",
      "           6       0.76      0.85      0.80      1000\n",
      "           7       0.87      0.81      0.84      1000\n",
      "           8       0.78      0.81      0.80      1000\n",
      "           9       0.86      0.81      0.84      1000\n",
      "\n",
      "    accuracy                           0.82     10000\n",
      "   macro avg       0.82      0.82      0.82     10000\n",
      "weighted avg       0.82      0.82      0.82     10000\n",
      "\n",
      "Warstwy modelu: dict_keys(['rbm_L1', 'rbm_L2', 'log_reg'])\n",
      "              precision    recall  f1-score   support\n",
      "\n",
      "           0       0.89      0.86      0.88      1000\n",
      "           1       0.81      0.82      0.82      1000\n",
      "           2       0.73      0.77      0.75      1000\n",
      "           3       0.83      0.91      0.87      1000\n",
      "           4       0.80      0.78      0.79      1000\n",
      "           5       0.90      0.81      0.86      1000\n",
      "           6       0.79      0.87      0.83      1000\n",
      "           7       0.89      0.81      0.85      1000\n",
      "           8       0.80      0.83      0.82      1000\n",
      "           9       0.88      0.83      0.85      1000\n",
      "\n",
      "    accuracy                           0.83     10000\n",
      "   macro avg       0.83      0.83      0.83     10000\n",
      "weighted avg       0.83      0.83      0.83     10000\n",
      "\n",
      "Warstwy modelu: dict_keys(['rbm_L1', 'rbm_L2', 'rbm_L3', 'log_reg'])\n",
      "              precision    recall  f1-score   support\n",
      "\n",
      "           0       0.86      0.83      0.85      1000\n",
      "           1       0.78      0.81      0.80      1000\n",
      "           2       0.74      0.74      0.74      1000\n",
      "           3       0.83      0.90      0.86      1000\n",
      "           4       0.75      0.76      0.76      1000\n",
      "           5       0.89      0.78      0.83      1000\n",
      "           6       0.75      0.89      0.81      1000\n",
      "           7       0.85      0.78      0.82      1000\n",
      "           8       0.80      0.81      0.80      1000\n",
      "           9       0.88      0.78      0.82      1000\n",
      "\n",
      "    accuracy                           0.81     10000\n",
      "   macro avg       0.81      0.81      0.81     10000\n",
      "weighted avg       0.81      0.81      0.81     10000\n",
      "\n"
     ]
    }
   ],
   "source": [
    "model_params = {\n",
    "    'C': 1.0,\n",
    "    'solver': solver,\n",
    "    'max_iter': 1000,\n",
    "    'batch_size': 10,\n",
    "    'learning_rate': 0.1,\n",
    "}\n",
    "\n",
    "optimize_dbn(utils.Dataset_Select.K_MNIST.value, model_params, 10, [128, 256])"
   ]
  },
  {
   "cell_type": "markdown",
   "metadata": {},
   "source": [
    "Kuzushiji-MNIST dał podobny rezultat do normalnego MNIST-a, gdzie to DBN o dwóch warstwach osiąga najlepsze `accuracy=0.83`. Jednowarstwowy DBN osiągnął `accuracy=0.82`, natomiast trójwarstwowy `accuracy=0.81`"
   ]
  },
  {
   "cell_type": "markdown",
   "metadata": {},
   "source": [
    "### Kuzushiji-49\n",
    "#### Eksperyment 1"
   ]
  },
  {
   "cell_type": "code",
   "execution_count": 15,
   "metadata": {},
   "outputs": [
    {
     "name": "stderr",
     "output_type": "stream",
     "text": [
      "[I 2025-01-05 19:04:22,772] A new study created in memory with name: no-name-bdf9d0c7-2a7a-469a-b851-7f97545c689a\n",
      "Best trial: 0. Best value: 0.779753:   7%|▋         | 1/15 [12:13<2:51:11, 733.69s/it]"
     ]
    },
    {
     "name": "stdout",
     "output_type": "stream",
     "text": [
      "[I 2025-01-05 19:16:36,458] Trial 0 finished with value: 0.7797529843418944 and parameters: {'l1_h_dim': 256, 'l2_h_dim': 64, 'l3_h_dim': 32}. Best is trial 0 with value: 0.7797529843418944.\n"
     ]
    },
    {
     "name": "stderr",
     "output_type": "stream",
     "text": [
      "Best trial: 0. Best value: 0.779753:  13%|█▎        | 2/15 [21:40<2:17:40, 635.45s/it]"
     ]
    },
    {
     "name": "stdout",
     "output_type": "stream",
     "text": [
      "[I 2025-01-05 19:26:03,138] Trial 1 finished with value: 0.7797529843418944 and parameters: {'l1_h_dim': 256, 'l2_h_dim': 128, 'l3_h_dim': 96}. Best is trial 0 with value: 0.7797529843418944.\n"
     ]
    },
    {
     "name": "stderr",
     "output_type": "stream",
     "text": [
      "Best trial: 0. Best value: 0.779753:  20%|██        | 3/15 [28:06<1:44:19, 521.66s/it]"
     ]
    },
    {
     "name": "stdout",
     "output_type": "stream",
     "text": [
      "[I 2025-01-05 19:32:29,392] Trial 2 finished with value: 0.7513048421270219 and parameters: {'l1_h_dim': 128, 'l2_h_dim': 192, 'l3_h_dim': 96}. Best is trial 0 with value: 0.7797529843418944.\n"
     ]
    },
    {
     "name": "stderr",
     "output_type": "stream",
     "text": [
      "Best trial: 0. Best value: 0.779753:  27%|██▋       | 4/15 [33:45<1:22:24, 449.53s/it]"
     ]
    },
    {
     "name": "stdout",
     "output_type": "stream",
     "text": [
      "[I 2025-01-05 19:38:08,356] Trial 3 finished with value: 0.7032711487778409 and parameters: {'l1_h_dim': 128, 'l2_h_dim': 64, 'l3_h_dim': 32}. Best is trial 0 with value: 0.7797529843418944.\n"
     ]
    },
    {
     "name": "stderr",
     "output_type": "stream",
     "text": [
      "Best trial: 0. Best value: 0.779753:  33%|███▎      | 5/15 [44:39<1:27:12, 523.29s/it]"
     ]
    },
    {
     "name": "stdout",
     "output_type": "stream",
     "text": [
      "[I 2025-01-05 19:49:02,398] Trial 4 finished with value: 0.7797529843418944 and parameters: {'l1_h_dim': 256, 'l2_h_dim': 128, 'l3_h_dim': 32}. Best is trial 0 with value: 0.7797529843418944.\n"
     ]
    },
    {
     "name": "stderr",
     "output_type": "stream",
     "text": [
      "Best trial: 5. Best value: 0.84161:  40%|████      | 6/15 [1:03:07<1:48:19, 722.20s/it] "
     ]
    },
    {
     "name": "stdout",
     "output_type": "stream",
     "text": [
      "[I 2025-01-05 20:07:30,743] Trial 5 finished with value: 0.8416102527001189 and parameters: {'l1_h_dim': 512, 'l2_h_dim': 64, 'l3_h_dim': 64}. Best is trial 5 with value: 0.8416102527001189.\n"
     ]
    },
    {
     "name": "stderr",
     "output_type": "stream",
     "text": [
      "Best trial: 5. Best value: 0.84161:  47%|████▋     | 7/15 [1:20:36<1:50:30, 828.86s/it]"
     ]
    },
    {
     "name": "stdout",
     "output_type": "stream",
     "text": [
      "[I 2025-01-05 20:24:59,179] Trial 6 finished with value: 0.8416102527001189 and parameters: {'l1_h_dim': 512, 'l2_h_dim': 64, 'l3_h_dim': 96}. Best is trial 5 with value: 0.8416102527001189.\n"
     ]
    },
    {
     "name": "stderr",
     "output_type": "stream",
     "text": [
      "Best trial: 5. Best value: 0.84161:  53%|█████▎    | 8/15 [1:40:33<1:50:21, 945.95s/it]"
     ]
    },
    {
     "name": "stdout",
     "output_type": "stream",
     "text": [
      "[I 2025-01-05 20:44:55,851] Trial 7 finished with value: 0.8416102527001189 and parameters: {'l1_h_dim': 512, 'l2_h_dim': 192, 'l3_h_dim': 64}. Best is trial 5 with value: 0.8416102527001189.\n"
     ]
    },
    {
     "name": "stderr",
     "output_type": "stream",
     "text": [
      "Best trial: 5. Best value: 0.84161:  60%|██████    | 9/15 [1:48:16<1:19:29, 794.96s/it]"
     ]
    },
    {
     "name": "stdout",
     "output_type": "stream",
     "text": [
      "[I 2025-01-05 20:52:38,802] Trial 8 finished with value: 0.7032711487778409 and parameters: {'l1_h_dim': 128, 'l2_h_dim': 64, 'l3_h_dim': 32}. Best is trial 5 with value: 0.8416102527001189.\n"
     ]
    },
    {
     "name": "stderr",
     "output_type": "stream",
     "text": [
      "Best trial: 5. Best value: 0.84161:  67%|██████▋   | 10/15 [2:07:30<1:15:29, 905.80s/it]"
     ]
    },
    {
     "name": "stdout",
     "output_type": "stream",
     "text": [
      "[I 2025-01-05 21:11:52,813] Trial 9 finished with value: 0.8416102527001189 and parameters: {'l1_h_dim': 512, 'l2_h_dim': 128, 'l3_h_dim': 96}. Best is trial 5 with value: 0.8416102527001189.\n"
     ]
    },
    {
     "name": "stderr",
     "output_type": "stream",
     "text": [
      "Best trial: 5. Best value: 0.84161:  73%|███████▎  | 11/15 [2:24:43<1:02:59, 944.78s/it]"
     ]
    },
    {
     "name": "stdout",
     "output_type": "stream",
     "text": [
      "[I 2025-01-05 21:29:05,968] Trial 10 finished with value: 0.8416102527001189 and parameters: {'l1_h_dim': 512, 'l2_h_dim': 64, 'l3_h_dim': 64}. Best is trial 5 with value: 0.8416102527001189.\n"
     ]
    },
    {
     "name": "stderr",
     "output_type": "stream",
     "text": [
      "Best trial: 5. Best value: 0.84161:  80%|████████  | 12/15 [2:39:14<46:07, 922.53s/it]  "
     ]
    },
    {
     "name": "stdout",
     "output_type": "stream",
     "text": [
      "[I 2025-01-05 21:43:37,627] Trial 11 finished with value: 0.8416102527001189 and parameters: {'l1_h_dim': 512, 'l2_h_dim': 64, 'l3_h_dim': 64}. Best is trial 5 with value: 0.8416102527001189.\n"
     ]
    },
    {
     "name": "stderr",
     "output_type": "stream",
     "text": [
      "Best trial: 5. Best value: 0.84161:  87%|████████▋ | 13/15 [2:55:14<31:07, 933.69s/it]"
     ]
    },
    {
     "name": "stdout",
     "output_type": "stream",
     "text": [
      "[I 2025-01-05 21:59:36,973] Trial 12 finished with value: 0.8416102527001189 and parameters: {'l1_h_dim': 512, 'l2_h_dim': 64, 'l3_h_dim': 96}. Best is trial 5 with value: 0.8416102527001189.\n"
     ]
    },
    {
     "name": "stderr",
     "output_type": "stream",
     "text": [
      "Best trial: 5. Best value: 0.84161:  93%|█████████▎| 14/15 [3:08:22<14:49, 889.69s/it]"
     ]
    },
    {
     "name": "stdout",
     "output_type": "stream",
     "text": [
      "[I 2025-01-05 22:12:45,009] Trial 13 finished with value: 0.8416102527001189 and parameters: {'l1_h_dim': 512, 'l2_h_dim': 64, 'l3_h_dim': 64}. Best is trial 5 with value: 0.8416102527001189.\n"
     ]
    },
    {
     "name": "stderr",
     "output_type": "stream",
     "text": [
      "Best trial: 5. Best value: 0.84161: 100%|██████████| 15/15 [3:22:47<00:00, 811.20s/it]\n"
     ]
    },
    {
     "name": "stdout",
     "output_type": "stream",
     "text": [
      "[I 2025-01-05 22:27:10,734] Trial 14 finished with value: 0.8416102527001189 and parameters: {'l1_h_dim': 512, 'l2_h_dim': 64, 'l3_h_dim': 96}. Best is trial 5 with value: 0.8416102527001189.\n",
      "Best parameters: {'l1_h_dim': 512, 'l2_h_dim': 64, 'l3_h_dim': 64}\n",
      "Warstwy modelu: dict_keys(['log_reg'])\n",
      "              precision    recall  f1-score   support\n",
      "\n",
      "           0       0.66      0.65      0.65       995\n",
      "           1       0.81      0.85      0.83       962\n",
      "          10       0.76      0.71      0.74      1052\n",
      "          11       0.66      0.75      0.70       970\n",
      "          12       0.51      0.47      0.49       960\n",
      "          13       0.75      0.72      0.74       669\n",
      "          14       0.68      0.69      0.69       629\n",
      "          15       0.55      0.48      0.51      1012\n",
      "          16       0.71      0.76      0.73       425\n",
      "          17       0.67      0.73      0.70       953\n",
      "          18       0.75      0.82      0.78       976\n",
      "          19       0.62      0.70      0.66      1046\n",
      "           2       0.66      0.85      0.74      1020\n",
      "          20       0.62      0.57      0.59      1066\n",
      "          21       0.64      0.55      0.59       954\n",
      "          22       0.65      0.64      0.65       321\n",
      "          23       0.57      0.49      0.53       394\n",
      "          24       0.66      0.64      0.65      1005\n",
      "          25       0.65      0.59      0.62      1003\n",
      "          26       0.79      0.80      0.80       861\n",
      "          27       0.78      0.77      0.78       976\n",
      "          28       0.87      0.90      0.89      1000\n",
      "          29       0.53      0.38      0.44       284\n",
      "           3       0.67      0.62      0.65       138\n",
      "          30       0.56      0.58      0.57       975\n",
      "          31       0.61      0.52      0.56       521\n",
      "          32       0.75      0.68      0.71       308\n",
      "          33       0.69      0.62      0.65       567\n",
      "          34       0.58      0.57      0.58      1067\n",
      "          35       0.74      0.73      0.74      1011\n",
      "          36       0.57      0.45      0.50       251\n",
      "          37       0.77      0.84      0.80      1006\n",
      "          38       0.50      0.61      0.55      1052\n",
      "          39       0.50      0.55      0.52      1013\n",
      "           4       0.79      0.81      0.80       980\n",
      "          40       0.54      0.49      0.51      1001\n",
      "          41       0.60      0.62      0.61       981\n",
      "          42       0.62      0.59      0.60       397\n",
      "          43       0.63      0.55      0.59       416\n",
      "          44       0.63      0.47      0.54        78\n",
      "          45       0.78      0.53      0.63        60\n",
      "          46       0.72      0.71      0.71      1020\n",
      "          47       0.81      0.87      0.84      1004\n",
      "          48       0.49      0.45      0.47       553\n",
      "           5       0.51      0.40      0.45       990\n",
      "           6       0.60      0.57      0.59      1071\n",
      "           7       0.65      0.78      0.71       959\n",
      "           8       0.55      0.54      0.54       754\n",
      "           9       0.67      0.67      0.67       996\n",
      "\n",
      "    accuracy                           0.66     38702\n",
      "   macro avg       0.66      0.64      0.64     38702\n",
      "weighted avg       0.66      0.66      0.66     38702\n",
      "\n",
      "Warstwy modelu: dict_keys(['rbm_L1', 'log_reg'])\n",
      "              precision    recall  f1-score   support\n",
      "\n",
      "           0       0.85      0.88      0.86       995\n",
      "           1       0.94      0.94      0.94       962\n",
      "          10       0.88      0.85      0.86      1052\n",
      "          11       0.87      0.88      0.87       970\n",
      "          12       0.77      0.79      0.78       960\n",
      "          13       0.87      0.89      0.88       669\n",
      "          14       0.82      0.81      0.82       629\n",
      "          15       0.80      0.77      0.78      1012\n",
      "          16       0.87      0.89      0.88       425\n",
      "          17       0.84      0.85      0.84       953\n",
      "          18       0.91      0.89      0.90       976\n",
      "          19       0.83      0.84      0.84      1046\n",
      "           2       0.86      0.90      0.88      1020\n",
      "          20       0.79      0.79      0.79      1066\n",
      "          21       0.80      0.78      0.79       954\n",
      "          22       0.80      0.82      0.81       321\n",
      "          23       0.78      0.80      0.79       394\n",
      "          24       0.87      0.85      0.86      1005\n",
      "          25       0.89      0.83      0.86      1003\n",
      "          26       0.91      0.93      0.92       861\n",
      "          27       0.89      0.89      0.89       976\n",
      "          28       0.94      0.95      0.95      1000\n",
      "          29       0.70      0.67      0.69       284\n",
      "           3       0.81      0.71      0.76       138\n",
      "          30       0.75      0.78      0.77       975\n",
      "          31       0.76      0.72      0.74       521\n",
      "          32       0.92      0.83      0.87       308\n",
      "          33       0.79      0.81      0.80       567\n",
      "          34       0.83      0.83      0.83      1067\n",
      "          35       0.87      0.92      0.89      1011\n",
      "          36       0.78      0.82      0.80       251\n",
      "          37       0.91      0.91      0.91      1006\n",
      "          38       0.80      0.82      0.81      1052\n",
      "          39       0.81      0.80      0.81      1013\n",
      "           4       0.89      0.91      0.90       980\n",
      "          40       0.77      0.75      0.76      1001\n",
      "          41       0.84      0.87      0.85       981\n",
      "          42       0.81      0.79      0.80       397\n",
      "          43       0.82      0.79      0.80       416\n",
      "          44       0.89      0.69      0.78        78\n",
      "          45       0.75      0.73      0.74        60\n",
      "          46       0.91      0.88      0.90      1020\n",
      "          47       0.95      0.96      0.95      1004\n",
      "          48       0.80      0.77      0.79       553\n",
      "           5       0.74      0.71      0.72       990\n",
      "           6       0.78      0.79      0.79      1071\n",
      "           7       0.86      0.88      0.87       959\n",
      "           8       0.73      0.76      0.75       754\n",
      "           9       0.84      0.84      0.84       996\n",
      "\n",
      "    accuracy                           0.84     38702\n",
      "   macro avg       0.83      0.83      0.83     38702\n",
      "weighted avg       0.84      0.84      0.84     38702\n",
      "\n",
      "Warstwy modelu: dict_keys(['rbm_L1', 'rbm_L2', 'log_reg'])\n",
      "              precision    recall  f1-score   support\n",
      "\n",
      "           0       0.63      0.67      0.65       995\n",
      "           1       0.82      0.86      0.84       962\n",
      "          10       0.77      0.74      0.75      1052\n",
      "          11       0.77      0.74      0.76       970\n",
      "          12       0.47      0.47      0.47       960\n",
      "          13       0.76      0.78      0.77       669\n",
      "          14       0.67      0.67      0.67       629\n",
      "          15       0.58      0.51      0.54      1012\n",
      "          16       0.71      0.77      0.74       425\n",
      "          17       0.62      0.71      0.66       953\n",
      "          18       0.78      0.83      0.81       976\n",
      "          19       0.64      0.69      0.66      1046\n",
      "           2       0.68      0.81      0.74      1020\n",
      "          20       0.55      0.59      0.57      1066\n",
      "          21       0.59      0.57      0.58       954\n",
      "          22       0.66      0.64      0.65       321\n",
      "          23       0.53      0.46      0.49       394\n",
      "          24       0.65      0.68      0.67      1005\n",
      "          25       0.77      0.62      0.69      1003\n",
      "          26       0.81      0.84      0.83       861\n",
      "          27       0.80      0.80      0.80       976\n",
      "          28       0.91      0.91      0.91      1000\n",
      "          29       0.48      0.37      0.42       284\n",
      "           3       0.66      0.56      0.60       138\n",
      "          30       0.57      0.62      0.60       975\n",
      "          31       0.60      0.47      0.53       521\n",
      "          32       0.81      0.75      0.78       308\n",
      "          33       0.70      0.67      0.69       567\n",
      "          34       0.60      0.56      0.58      1067\n",
      "          35       0.79      0.82      0.81      1011\n",
      "          36       0.62      0.55      0.59       251\n",
      "          37       0.78      0.84      0.81      1006\n",
      "          38       0.57      0.66      0.61      1052\n",
      "          39       0.53      0.51      0.52      1013\n",
      "           4       0.79      0.83      0.81       980\n",
      "          40       0.48      0.43      0.45      1001\n",
      "          41       0.62      0.67      0.65       981\n",
      "          42       0.61      0.61      0.61       397\n",
      "          43       0.72      0.56      0.63       416\n",
      "          44       0.75      0.35      0.47        78\n",
      "          45       0.61      0.57      0.59        60\n",
      "          46       0.74      0.76      0.75      1020\n",
      "          47       0.87      0.90      0.88      1004\n",
      "          48       0.54      0.41      0.46       553\n",
      "           5       0.47      0.39      0.43       990\n",
      "           6       0.60      0.59      0.59      1071\n",
      "           7       0.70      0.79      0.75       959\n",
      "           8       0.56      0.56      0.56       754\n",
      "           9       0.71      0.69      0.70       996\n",
      "\n",
      "    accuracy                           0.67     38702\n",
      "   macro avg       0.67      0.65      0.66     38702\n",
      "weighted avg       0.67      0.67      0.67     38702\n",
      "\n",
      "Warstwy modelu: dict_keys(['rbm_L1', 'rbm_L2', 'rbm_L3', 'log_reg'])\n",
      "              precision    recall  f1-score   support\n",
      "\n",
      "           0       0.58      0.75      0.65       995\n",
      "           1       0.87      0.83      0.85       962\n",
      "          10       0.74      0.70      0.72      1052\n",
      "          11       0.77      0.74      0.75       970\n",
      "          12       0.51      0.51      0.51       960\n",
      "          13       0.76      0.79      0.78       669\n",
      "          14       0.67      0.62      0.65       629\n",
      "          15       0.59      0.49      0.54      1012\n",
      "          16       0.62      0.68      0.65       425\n",
      "          17       0.68      0.73      0.70       953\n",
      "          18       0.74      0.79      0.76       976\n",
      "          19       0.64      0.64      0.64      1046\n",
      "           2       0.65      0.81      0.72      1020\n",
      "          20       0.48      0.57      0.52      1066\n",
      "          21       0.55      0.51      0.53       954\n",
      "          22       0.49      0.59      0.53       321\n",
      "          23       0.37      0.37      0.37       394\n",
      "          24       0.65      0.60      0.62      1005\n",
      "          25       0.80      0.62      0.70      1003\n",
      "          26       0.82      0.83      0.82       861\n",
      "          27       0.83      0.79      0.81       976\n",
      "          28       0.95      0.91      0.93      1000\n",
      "          29       0.49      0.26      0.34       284\n",
      "           3       0.51      0.43      0.47       138\n",
      "          30       0.47      0.64      0.55       975\n",
      "          31       0.63      0.36      0.46       521\n",
      "          32       0.81      0.69      0.74       308\n",
      "          33       0.52      0.51      0.51       567\n",
      "          34       0.43      0.47      0.45      1067\n",
      "          35       0.73      0.83      0.78      1011\n",
      "          36       0.38      0.48      0.42       251\n",
      "          37       0.71      0.79      0.75      1006\n",
      "          38       0.62      0.58      0.60      1052\n",
      "          39       0.49      0.46      0.47      1013\n",
      "           4       0.75      0.82      0.78       980\n",
      "          40       0.49      0.39      0.43      1001\n",
      "          41       0.57      0.71      0.64       981\n",
      "          42       0.64      0.52      0.58       397\n",
      "          43       0.67      0.49      0.57       416\n",
      "          44       0.83      0.06      0.12        78\n",
      "          45       0.41      0.23      0.30        60\n",
      "          46       0.71      0.76      0.73      1020\n",
      "          47       0.86      0.88      0.87      1004\n",
      "          48       0.54      0.37      0.44       553\n",
      "           5       0.54      0.43      0.48       990\n",
      "           6       0.55      0.58      0.56      1071\n",
      "           7       0.68      0.75      0.71       959\n",
      "           8       0.54      0.50      0.52       754\n",
      "           9       0.72      0.67      0.69       996\n",
      "\n",
      "    accuracy                           0.65     38702\n",
      "   macro avg       0.63      0.60      0.61     38702\n",
      "weighted avg       0.65      0.65      0.64     38702\n",
      "\n"
     ]
    }
   ],
   "source": [
    "model_params = {\n",
    "    'C': 0.5,\n",
    "    'solver': solver,\n",
    "    'max_iter': 1000,\n",
    "    'batch_size': 20,\n",
    "    'learning_rate': 0.1,\n",
    "}\n",
    "\n",
    "optimize_dbn(utils.Dataset_Select.KUZ_49.value, model_params, n_trials, [128, 256, 512])"
   ]
  },
  {
   "cell_type": "markdown",
   "metadata": {},
   "source": [
    "#### Eksperyment 2"
   ]
  },
  {
   "cell_type": "code",
   "execution_count": 25,
   "metadata": {},
   "outputs": [
    {
     "name": "stderr",
     "output_type": "stream",
     "text": [
      "[I 2025-01-06 15:08:24,045] A new study created in memory with name: no-name-1cfe4611-dbc4-4bda-8c87-004959fc7082\n",
      "Best trial: 0. Best value: 0.709007:  10%|█         | 1/10 [07:18<1:05:44, 438.25s/it]"
     ]
    },
    {
     "name": "stdout",
     "output_type": "stream",
     "text": [
      "[I 2025-01-06 15:15:42,295] Trial 0 finished with value: 0.709007286445145 and parameters: {'l1_h_dim': 128, 'l2_h_dim': 128, 'l3_h_dim': 32}. Best is trial 0 with value: 0.709007286445145.\n"
     ]
    },
    {
     "name": "stderr",
     "output_type": "stream",
     "text": [
      "Best trial: 0. Best value: 0.709007:  20%|██        | 2/10 [16:12<1:05:58, 494.76s/it]"
     ]
    },
    {
     "name": "stdout",
     "output_type": "stream",
     "text": [
      "[I 2025-01-06 15:24:36,618] Trial 1 finished with value: 0.709007286445145 and parameters: {'l1_h_dim': 128, 'l2_h_dim': 128, 'l3_h_dim': 32}. Best is trial 0 with value: 0.709007286445145.\n"
     ]
    },
    {
     "name": "stderr",
     "output_type": "stream",
     "text": [
      "Best trial: 0. Best value: 0.709007:  30%|███       | 3/10 [22:53<52:42, 451.85s/it]  "
     ]
    },
    {
     "name": "stdout",
     "output_type": "stream",
     "text": [
      "[I 2025-01-06 15:31:17,397] Trial 2 finished with value: 0.7032711487778409 and parameters: {'l1_h_dim': 128, 'l2_h_dim': 64, 'l3_h_dim': 96}. Best is trial 0 with value: 0.709007286445145.\n"
     ]
    },
    {
     "name": "stderr",
     "output_type": "stream",
     "text": [
      "Best trial: 0. Best value: 0.709007:  40%|████      | 4/10 [31:04<46:43, 467.25s/it]"
     ]
    },
    {
     "name": "stdout",
     "output_type": "stream",
     "text": [
      "[I 2025-01-06 15:39:28,253] Trial 3 finished with value: 0.7032711487778409 and parameters: {'l1_h_dim': 128, 'l2_h_dim': 64, 'l3_h_dim': 32}. Best is trial 0 with value: 0.709007286445145.\n"
     ]
    },
    {
     "name": "stderr",
     "output_type": "stream",
     "text": [
      "Best trial: 0. Best value: 0.709007:  50%|█████     | 5/10 [38:41<38:38, 463.67s/it]"
     ]
    },
    {
     "name": "stdout",
     "output_type": "stream",
     "text": [
      "[I 2025-01-06 15:47:05,586] Trial 4 finished with value: 0.709007286445145 and parameters: {'l1_h_dim': 128, 'l2_h_dim': 128, 'l3_h_dim': 64}. Best is trial 0 with value: 0.709007286445145.\n"
     ]
    },
    {
     "name": "stderr",
     "output_type": "stream",
     "text": [
      "Best trial: 5. Best value: 0.779753:  60%|██████    | 6/10 [49:04<34:31, 517.79s/it]"
     ]
    },
    {
     "name": "stdout",
     "output_type": "stream",
     "text": [
      "[I 2025-01-06 15:57:28,411] Trial 5 finished with value: 0.7797529843418944 and parameters: {'l1_h_dim': 256, 'l2_h_dim': 192, 'l3_h_dim': 32}. Best is trial 5 with value: 0.7797529843418944.\n"
     ]
    },
    {
     "name": "stderr",
     "output_type": "stream",
     "text": [
      "Best trial: 5. Best value: 0.779753:  70%|███████   | 7/10 [1:00:17<28:25, 568.57s/it]"
     ]
    },
    {
     "name": "stdout",
     "output_type": "stream",
     "text": [
      "[I 2025-01-06 16:08:41,530] Trial 6 finished with value: 0.7797529843418944 and parameters: {'l1_h_dim': 256, 'l2_h_dim': 192, 'l3_h_dim': 32}. Best is trial 5 with value: 0.7797529843418944.\n"
     ]
    },
    {
     "name": "stderr",
     "output_type": "stream",
     "text": [
      "Best trial: 5. Best value: 0.779753:  80%|████████  | 8/10 [1:10:15<19:15, 577.87s/it]"
     ]
    },
    {
     "name": "stdout",
     "output_type": "stream",
     "text": [
      "[I 2025-01-06 16:18:39,316] Trial 7 finished with value: 0.7797529843418944 and parameters: {'l1_h_dim': 256, 'l2_h_dim': 64, 'l3_h_dim': 64}. Best is trial 5 with value: 0.7797529843418944.\n"
     ]
    },
    {
     "name": "stderr",
     "output_type": "stream",
     "text": [
      "Best trial: 5. Best value: 0.779753:  90%|█████████ | 9/10 [1:15:44<08:20, 500.24s/it]"
     ]
    },
    {
     "name": "stdout",
     "output_type": "stream",
     "text": [
      "[I 2025-01-06 16:24:08,880] Trial 8 finished with value: 0.7032711487778409 and parameters: {'l1_h_dim': 128, 'l2_h_dim': 64, 'l3_h_dim': 64}. Best is trial 5 with value: 0.7797529843418944.\n"
     ]
    },
    {
     "name": "stderr",
     "output_type": "stream",
     "text": [
      "Best trial: 5. Best value: 0.779753: 100%|██████████| 10/10 [1:21:59<00:00, 491.94s/it]\n"
     ]
    },
    {
     "name": "stdout",
     "output_type": "stream",
     "text": [
      "[I 2025-01-06 16:30:23,409] Trial 9 finished with value: 0.7513048421270219 and parameters: {'l1_h_dim': 128, 'l2_h_dim': 192, 'l3_h_dim': 64}. Best is trial 5 with value: 0.7797529843418944.\n",
      "Best parameters: {'l1_h_dim': 256, 'l2_h_dim': 192, 'l3_h_dim': 32}\n",
      "Warstwy modelu: dict_keys(['log_reg'])\n",
      "              precision    recall  f1-score   support\n",
      "\n",
      "           0       0.66      0.65      0.65       995\n",
      "           1       0.81      0.85      0.83       962\n",
      "          10       0.76      0.71      0.74      1052\n",
      "          11       0.66      0.75      0.70       970\n",
      "          12       0.51      0.47      0.49       960\n",
      "          13       0.75      0.72      0.74       669\n",
      "          14       0.68      0.69      0.69       629\n",
      "          15       0.55      0.48      0.51      1012\n",
      "          16       0.71      0.76      0.73       425\n",
      "          17       0.67      0.73      0.70       953\n",
      "          18       0.75      0.82      0.78       976\n",
      "          19       0.62      0.70      0.66      1046\n",
      "           2       0.66      0.85      0.74      1020\n",
      "          20       0.62      0.57      0.59      1066\n",
      "          21       0.64      0.55      0.59       954\n",
      "          22       0.65      0.64      0.65       321\n",
      "          23       0.57      0.49      0.53       394\n",
      "          24       0.66      0.64      0.65      1005\n",
      "          25       0.65      0.59      0.62      1003\n",
      "          26       0.79      0.80      0.80       861\n",
      "          27       0.78      0.77      0.78       976\n",
      "          28       0.87      0.90      0.89      1000\n",
      "          29       0.53      0.38      0.44       284\n",
      "           3       0.67      0.62      0.65       138\n",
      "          30       0.56      0.58      0.57       975\n",
      "          31       0.61      0.52      0.56       521\n",
      "          32       0.75      0.68      0.71       308\n",
      "          33       0.69      0.62      0.65       567\n",
      "          34       0.58      0.57      0.58      1067\n",
      "          35       0.74      0.73      0.74      1011\n",
      "          36       0.57      0.45      0.50       251\n",
      "          37       0.77      0.84      0.80      1006\n",
      "          38       0.50      0.61      0.55      1052\n",
      "          39       0.50      0.55      0.52      1013\n",
      "           4       0.79      0.81      0.80       980\n",
      "          40       0.54      0.49      0.51      1001\n",
      "          41       0.60      0.62      0.61       981\n",
      "          42       0.62      0.59      0.60       397\n",
      "          43       0.63      0.55      0.59       416\n",
      "          44       0.63      0.47      0.54        78\n",
      "          45       0.78      0.53      0.63        60\n",
      "          46       0.72      0.71      0.71      1020\n",
      "          47       0.81      0.87      0.84      1004\n",
      "          48       0.49      0.45      0.47       553\n",
      "           5       0.51      0.40      0.45       990\n",
      "           6       0.60      0.57      0.59      1071\n",
      "           7       0.65      0.78      0.71       959\n",
      "           8       0.55      0.54      0.54       754\n",
      "           9       0.67      0.67      0.67       996\n",
      "\n",
      "    accuracy                           0.66     38702\n",
      "   macro avg       0.66      0.64      0.64     38702\n",
      "weighted avg       0.66      0.66      0.66     38702\n",
      "\n",
      "Warstwy modelu: dict_keys(['rbm_L1', 'log_reg'])\n",
      "              precision    recall  f1-score   support\n",
      "\n",
      "           0       0.78      0.82      0.80       995\n",
      "           1       0.91      0.91      0.91       962\n",
      "          10       0.80      0.81      0.81      1052\n",
      "          11       0.82      0.82      0.82       970\n",
      "          12       0.67      0.65      0.66       960\n",
      "          13       0.83      0.84      0.84       669\n",
      "          14       0.78      0.76      0.77       629\n",
      "          15       0.71      0.63      0.67      1012\n",
      "          16       0.82      0.85      0.84       425\n",
      "          17       0.77      0.80      0.79       953\n",
      "          18       0.83      0.86      0.85       976\n",
      "          19       0.78      0.78      0.78      1046\n",
      "           2       0.80      0.88      0.84      1020\n",
      "          20       0.69      0.67      0.68      1066\n",
      "          21       0.77      0.71      0.74       954\n",
      "          22       0.74      0.74      0.74       321\n",
      "          23       0.67      0.71      0.69       394\n",
      "          24       0.79      0.78      0.79      1005\n",
      "          25       0.86      0.78      0.81      1003\n",
      "          26       0.87      0.89      0.88       861\n",
      "          27       0.85      0.85      0.85       976\n",
      "          28       0.94      0.94      0.94      1000\n",
      "          29       0.58      0.51      0.55       284\n",
      "           3       0.75      0.70      0.73       138\n",
      "          30       0.68      0.72      0.70       975\n",
      "          31       0.73      0.65      0.69       521\n",
      "          32       0.83      0.79      0.81       308\n",
      "          33       0.73      0.76      0.74       567\n",
      "          34       0.73      0.72      0.73      1067\n",
      "          35       0.81      0.87      0.84      1011\n",
      "          36       0.73      0.75      0.74       251\n",
      "          37       0.87      0.89      0.88      1006\n",
      "          38       0.73      0.77      0.75      1052\n",
      "          39       0.72      0.70      0.71      1013\n",
      "           4       0.86      0.86      0.86       980\n",
      "          40       0.66      0.66      0.66      1001\n",
      "          41       0.77      0.80      0.78       981\n",
      "          42       0.76      0.77      0.76       397\n",
      "          43       0.80      0.69      0.74       416\n",
      "          44       0.81      0.62      0.70        78\n",
      "          45       0.76      0.62      0.68        60\n",
      "          46       0.83      0.85      0.84      1020\n",
      "          47       0.93      0.95      0.94      1004\n",
      "          48       0.70      0.73      0.72       553\n",
      "           5       0.67      0.59      0.63       990\n",
      "           6       0.73      0.72      0.73      1071\n",
      "           7       0.82      0.84      0.83       959\n",
      "           8       0.63      0.66      0.65       754\n",
      "           9       0.79      0.78      0.79       996\n",
      "\n",
      "    accuracy                           0.78     38702\n",
      "   macro avg       0.77      0.76      0.77     38702\n",
      "weighted avg       0.78      0.78      0.78     38702\n",
      "\n",
      "Warstwy modelu: dict_keys(['rbm_L1', 'rbm_L2', 'log_reg'])\n",
      "              precision    recall  f1-score   support\n",
      "\n",
      "           0       0.77      0.80      0.79       995\n",
      "           1       0.88      0.92      0.90       962\n",
      "          10       0.83      0.79      0.81      1052\n",
      "          11       0.81      0.81      0.81       970\n",
      "          12       0.66      0.64      0.65       960\n",
      "          13       0.83      0.85      0.84       669\n",
      "          14       0.74      0.72      0.73       629\n",
      "          15       0.70      0.65      0.68      1012\n",
      "          16       0.84      0.86      0.85       425\n",
      "          17       0.74      0.80      0.77       953\n",
      "          18       0.86      0.85      0.86       976\n",
      "          19       0.74      0.75      0.75      1046\n",
      "           2       0.79      0.84      0.81      1020\n",
      "          20       0.72      0.71      0.72      1066\n",
      "          21       0.75      0.70      0.72       954\n",
      "          22       0.78      0.75      0.76       321\n",
      "          23       0.68      0.67      0.68       394\n",
      "          24       0.81      0.81      0.81      1005\n",
      "          25       0.85      0.75      0.80      1003\n",
      "          26       0.86      0.89      0.88       861\n",
      "          27       0.87      0.86      0.87       976\n",
      "          28       0.94      0.94      0.94      1000\n",
      "          29       0.65      0.54      0.59       284\n",
      "           3       0.74      0.70      0.72       138\n",
      "          30       0.65      0.68      0.66       975\n",
      "          31       0.70      0.65      0.67       521\n",
      "          32       0.85      0.77      0.81       308\n",
      "          33       0.74      0.73      0.73       567\n",
      "          34       0.74      0.70      0.72      1067\n",
      "          35       0.86      0.88      0.87      1011\n",
      "          36       0.73      0.75      0.74       251\n",
      "          37       0.83      0.89      0.86      1006\n",
      "          38       0.70      0.76      0.73      1052\n",
      "          39       0.65      0.69      0.67      1013\n",
      "           4       0.87      0.87      0.87       980\n",
      "          40       0.67      0.66      0.66      1001\n",
      "          41       0.76      0.80      0.78       981\n",
      "          42       0.74      0.76      0.75       397\n",
      "          43       0.74      0.69      0.72       416\n",
      "          44       0.73      0.47      0.57        78\n",
      "          45       0.65      0.57      0.61        60\n",
      "          46       0.86      0.86      0.86      1020\n",
      "          47       0.95      0.95      0.95      1004\n",
      "          48       0.69      0.67      0.68       553\n",
      "           5       0.65      0.58      0.61       990\n",
      "           6       0.71      0.73      0.72      1071\n",
      "           7       0.81      0.86      0.83       959\n",
      "           8       0.63      0.66      0.65       754\n",
      "           9       0.78      0.76      0.77       996\n",
      "\n",
      "    accuracy                           0.77     38702\n",
      "   macro avg       0.77      0.76      0.76     38702\n",
      "weighted avg       0.77      0.77      0.77     38702\n",
      "\n",
      "Warstwy modelu: dict_keys(['rbm_L1', 'rbm_L2', 'rbm_L3', 'log_reg'])\n",
      "              precision    recall  f1-score   support\n",
      "\n",
      "           0       0.46      0.59      0.52       995\n",
      "           1       0.81      0.80      0.80       962\n",
      "          10       0.63      0.68      0.66      1052\n",
      "          11       0.77      0.72      0.74       970\n",
      "          12       0.44      0.44      0.44       960\n",
      "          13       0.73      0.80      0.77       669\n",
      "          14       0.56      0.56      0.56       629\n",
      "          15       0.50      0.36      0.42      1012\n",
      "          16       0.59      0.69      0.64       425\n",
      "          17       0.61      0.69      0.65       953\n",
      "          18       0.71      0.77      0.74       976\n",
      "          19       0.57      0.67      0.62      1046\n",
      "           2       0.66      0.78      0.71      1020\n",
      "          20       0.47      0.51      0.49      1066\n",
      "          21       0.49      0.49      0.49       954\n",
      "          22       0.53      0.58      0.55       321\n",
      "          23       0.29      0.30      0.30       394\n",
      "          24       0.50      0.52      0.51      1005\n",
      "          25       0.78      0.61      0.68      1003\n",
      "          26       0.73      0.81      0.77       861\n",
      "          27       0.76      0.79      0.78       976\n",
      "          28       0.94      0.90      0.92      1000\n",
      "          29       0.65      0.28      0.39       284\n",
      "           3       0.62      0.40      0.48       138\n",
      "          30       0.49      0.52      0.51       975\n",
      "          31       0.48      0.27      0.35       521\n",
      "          32       0.71      0.70      0.71       308\n",
      "          33       0.46      0.40      0.42       567\n",
      "          34       0.50      0.46      0.48      1067\n",
      "          35       0.72      0.79      0.75      1011\n",
      "          36       0.35      0.35      0.35       251\n",
      "          37       0.73      0.77      0.75      1006\n",
      "          38       0.54      0.56      0.55      1052\n",
      "          39       0.50      0.46      0.48      1013\n",
      "           4       0.68      0.78      0.73       980\n",
      "          40       0.41      0.35      0.38      1001\n",
      "          41       0.50      0.60      0.54       981\n",
      "          42       0.59      0.49      0.54       397\n",
      "          43       0.62      0.45      0.52       416\n",
      "          44       0.67      0.05      0.10        78\n",
      "          45       0.40      0.35      0.38        60\n",
      "          46       0.63      0.69      0.66      1020\n",
      "          47       0.84      0.90      0.87      1004\n",
      "          48       0.48      0.38      0.42       553\n",
      "           5       0.44      0.33      0.37       990\n",
      "           6       0.50      0.51      0.51      1071\n",
      "           7       0.67      0.71      0.69       959\n",
      "           8       0.51      0.48      0.49       754\n",
      "           9       0.69      0.62      0.65       996\n",
      "\n",
      "    accuracy                           0.60     38702\n",
      "   macro avg       0.59      0.57      0.57     38702\n",
      "weighted avg       0.60      0.60      0.60     38702\n",
      "\n"
     ]
    }
   ],
   "source": [
    "model_params = {\n",
    "    'C': 0.5,\n",
    "    'solver': solver,\n",
    "    'max_iter': 1000,\n",
    "    'batch_size': 20,\n",
    "    'learning_rate': 0.1,\n",
    "}\n",
    "\n",
    "optimize_dbn(utils.Dataset_Select.KUZ_49.value, model_params, 10, [128, 256])"
   ]
  },
  {
   "cell_type": "markdown",
   "metadata": {},
   "source": [
    "Kuzushiji-49 przy klasyfikacji DBN dostarcza wyniki zbliżone do Fashion-MNIST, gdzie to DBN jednowarstwowy jest najlepszym klasyfikatorem o `accuracy=0.78`. Przewyższa on minimalnie DBN dwuwarstwowy o `accuracy=0.77`. Natomiast ciekawy wynik otrzymujemy dla trójwarstwowego DBN, który to z `accuracy=0.60`, jest o 6 punktów procentowych gorszy od baseline-u. \n",
    "\n",
    "Zachowanie to można powiązać z faktem, w jaki skonfigurowaliśmy Optunę, a mianowicie optymalizator wybiera zestaw DBN, który wśród trzech badanych wysokości DBN dostarcza najwyższą metrykę `accuracy`. W naszym wypadku najlepszy wynik osiągamy dla jednowarstwowego DBN-a i akurat tak się złożyło, że w tym zestawie warstw, ostatnia )trzecia) warstwa ma tylko 32 neurony, czyli o 17 mniej, niż jest klas. Taka redukcja wymiarowości przeprowadzona w niewłaściwy sposób, może właśnie doprowadzić do utraty jakości wyników, a w szczególności przy użyciu regresji logistycznej jako głowy klasyfikatora, gdyż jak wykazałem w ćwiczeniu 7.1, a później jeszcze potwierdziłem w ćwiczeniu 7.4 dla autoenkoderów, regresja logistyczna działa lepiej wraz ze wzrostem zmiennych wejściowych."
   ]
  },
  {
   "cell_type": "markdown",
   "metadata": {},
   "source": [
    "### Generalne wnioski\n",
    "\n",
    "Jak widać na przykładzie powyższych wyników, wystarczająco duże sieci jednowarstwowe potrafią osiągnąć bardzo dobre, a nawet najlepsze wyniki, ale stwierdzenie to tyczy się jedynie przebadanych zbiorów danych.\n",
    "\n",
    "Hierarchiczne wydobywanie cech może mieć zastosowanie, gdy z cech niskopoziomowych możemy zbudować cechy wysokopoziomowe, dając prosty przykład, niech cechy niskopoziome przedstawiają najprostsze kształty, jak linie proste lub łuki, tak w kolejnej warstwie, mogłyby się one składać w bardziej skomplikowane kształty, jak np figury geometryczne lub znaki."
   ]
  }
 ],
 "metadata": {
  "kernelspec": {
   "display_name": ".venv",
   "language": "python",
   "name": "python3"
  },
  "language_info": {
   "codemirror_mode": {
    "name": "ipython",
    "version": 3
   },
   "file_extension": ".py",
   "mimetype": "text/x-python",
   "name": "python",
   "nbconvert_exporter": "python",
   "pygments_lexer": "ipython3",
   "version": "3.9.6"
  }
 },
 "nbformat": 4,
 "nbformat_minor": 2
}
