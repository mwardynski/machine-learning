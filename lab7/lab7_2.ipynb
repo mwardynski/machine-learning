{
 "cells": [
  {
   "cell_type": "markdown",
   "metadata": {},
   "source": [
    "Marcin Wardyński  \n",
    "wtorek, 9:45\n",
    "\n",
    "## Laboratorium 7\n",
    "### 7.2 DBN"
   ]
  },
  {
   "cell_type": "code",
   "execution_count": 3,
   "metadata": {},
   "outputs": [],
   "source": [
    "import warnings\n",
    "warnings.filterwarnings(\"ignore\")\n",
    "\n",
    "import importlib\n",
    "import lab7_utils as utils\n",
    "importlib.reload(utils)\n",
    "\n",
    "seed = 42"
   ]
  },
  {
   "cell_type": "code",
   "execution_count": 6,
   "metadata": {},
   "outputs": [],
   "source": [
    "from sklearn.base import TransformerMixin, BaseEstimator\n",
    "\n",
    "class FrozenRBM(TransformerMixin, BaseEstimator):\n",
    "    def __init__(self, rbm):\n",
    "        self.rbm = rbm\n",
    "\n",
    "    def fit(self, X, y=None):\n",
    "        return self\n",
    "\n",
    "    def transform(self, X):\n",
    "        return self.rbm.transform(X)"
   ]
  },
  {
   "cell_type": "code",
   "execution_count": 7,
   "metadata": {},
   "outputs": [],
   "source": [
    "from sklearn.base import clone\n",
    "from sklearn.pipeline import Pipeline\n",
    "\n",
    "def wrap_rbm_snapshots(rbms_snaps):\n",
    "    rbm_tuples = []\n",
    "    for i in range(len(rbms_snaps)):\n",
    "        rbm_tuples.append((f\"rbm_L{i+1}\", rbms_snaps[i]))\n",
    "\n",
    "    return rbm_tuples\n",
    "\n",
    "\n",
    "def create_dbn(hidden_dims, rbm_base, log_reg_base, X_train, y_train):\n",
    "    rbm_snapshots = []\n",
    "    log_regs = []\n",
    "\n",
    "    log_reg = clone(log_reg_base)\n",
    "    pipeline = Pipeline([(\"log_reg\", log_reg)])\n",
    "    pipeline.fit(X_train, y_train)\n",
    "    log_regs.append(log_reg)\n",
    "\n",
    "\n",
    "    for hidden_dim in hidden_dims:\n",
    "        log_reg = clone(log_reg_base)\n",
    "        rbm = clone(rbm_base)\n",
    "        rbm.n_components = hidden_dim\n",
    "\n",
    "\n",
    "        pipeline_def = []\n",
    "        pipeline_def.extend(wrap_rbm_snapshots(rbm_snapshots))\n",
    "        pipeline_def.append((f\"rbm_L{len(rbm_snapshots)+1}\", rbm))\n",
    "        pipeline_def.append((\"log_reg\", log_reg))\n",
    "       \n",
    "        pipeline = Pipeline(pipeline_def)\n",
    "        pipeline.fit(X_train, y_train)\n",
    "\n",
    "        rbm_snapshots.append(FrozenRBM(rbm))\n",
    "        log_regs.append(log_reg)\n",
    "    \n",
    "    return rbm_snapshots, log_regs\n"
   ]
  },
  {
   "cell_type": "code",
   "execution_count": 8,
   "metadata": {},
   "outputs": [],
   "source": [
    "from sklearn.metrics import accuracy_score, classification_report\n",
    "\n",
    "def test_dbn(rbms, log_regs, X_test, y_test, print_report):\n",
    "    accuracies = []\n",
    "    for i in range(len(rbms)+1):\n",
    "        pipeline_def = []\n",
    "        pipeline_def.extend(wrap_rbm_snapshots(rbms[:i]))\n",
    "        pipeline_def.append((\"log_reg\", log_regs[i]))\n",
    "\n",
    "        pipeline = Pipeline(pipeline_def)\n",
    "        y_pred = pipeline.predict(X_test)\n",
    "\n",
    "        accuracy = accuracy_score(y_test, y_pred)\n",
    "        accuracies.append(accuracy)\n",
    "\n",
    "        if print_report:\n",
    "            print(f\"Warstwy modelu: {pipeline.named_steps.keys()}\")\n",
    "            print(classification_report(y_test, y_pred))\n",
    "            \n",
    "    return accuracies"
   ]
  },
  {
   "cell_type": "code",
   "execution_count": 9,
   "metadata": {},
   "outputs": [],
   "source": [
    "from sklearn.linear_model import LogisticRegression\n",
    "from sklearn.neural_network import BernoulliRBM\n",
    "\n",
    "def check_dbn(dataset_name, model_params, l1_h_dim, l2_h_dim, l3_h_dim, print_report):\n",
    "    X_train, X_test, y_train, y_test = utils.get_dataset(dataset_name)\n",
    "\n",
    "    rbm_base = BernoulliRBM(learning_rate=model_params['learning_rate'], batch_size=model_params['batch_size'], random_state=seed)\n",
    "    log_reg_base = LogisticRegression(max_iter=model_params['max_iter'], solver=model_params['solver'], C=model_params['C'])\n",
    "\n",
    "    hidden_dims = [l1_h_dim, l2_h_dim, l3_h_dim]\n",
    "\n",
    "    rbms, log_regs = create_dbn(hidden_dims, rbm_base, log_reg_base, X_train, y_train)\n",
    "\n",
    "    accuracies = test_dbn(rbms, log_regs, X_test, y_test, print_report)\n",
    "\n",
    "    return max(accuracies)"
   ]
  },
  {
   "cell_type": "code",
   "execution_count": 10,
   "metadata": {},
   "outputs": [],
   "source": [
    "import optuna\n",
    "\n",
    "def objective(trial, dataset_name, model_params):\n",
    "\n",
    "    l1_h_dim = trial.suggest_categorical('l1_h_dim', [128, 256, 512])\n",
    "    l2_h_dim = trial.suggest_categorical('l2_h_dim', [64, 128, 192])\n",
    "    l3_h_dim = trial.suggest_categorical('l3_h_dim', [32, 64, 96])\n",
    "    \n",
    "    return check_dbn(dataset_name, model_params, l1_h_dim, l2_h_dim, l3_h_dim, print_report=False)\n",
    "\n",
    "def optimize_dbn(dataset_name, model_params, n_trials):\n",
    "\n",
    "    study = optuna.create_study(direction='maximize')\n",
    "    study.optimize(lambda trial: objective(trial, dataset_name, model_params), n_trials=n_trials, show_progress_bar=True)\n",
    "\n",
    "    print(f\"Best parameters: {study.best_params}\")\n",
    "    print_best_dbn_summary(dataset_name, model_params, study.best_params)\n",
    "\n",
    "def print_best_dbn_summary(dataset_name, model_params, l_h_dims):\n",
    "    check_dbn(dataset_name, model_params, l_h_dims['l1_h_dim'], l_h_dims['l2_h_dim'], l_h_dims['l3_h_dim'], print_report=True)"
   ]
  },
  {
   "cell_type": "code",
   "execution_count": 11,
   "metadata": {},
   "outputs": [],
   "source": [
    "n_trials = 15\n",
    "solver = 'lbfgs'"
   ]
  },
  {
   "cell_type": "code",
   "execution_count": 74,
   "metadata": {},
   "outputs": [
    {
     "name": "stderr",
     "output_type": "stream",
     "text": [
      "[I 2025-01-05 13:39:47,819] A new study created in memory with name: no-name-e94cd863-4a09-45f7-aa21-4a22387e7d59\n",
      "Best trial: 0. Best value: 0.9684:   7%|▋         | 1/15 [03:37<50:44, 217.48s/it]"
     ]
    },
    {
     "name": "stdout",
     "output_type": "stream",
     "text": [
      "[I 2025-01-05 13:43:25,342] Trial 0 finished with value: 0.9684 and parameters: {'l1_h_dim': 512, 'l2_h_dim': 192, 'l3_h_dim': 64}. Best is trial 0 with value: 0.9684.\n"
     ]
    },
    {
     "name": "stderr",
     "output_type": "stream",
     "text": [
      "Best trial: 0. Best value: 0.9684:  13%|█▎        | 2/15 [05:35<34:27, 159.03s/it]"
     ]
    },
    {
     "name": "stdout",
     "output_type": "stream",
     "text": [
      "[I 2025-01-05 13:45:23,459] Trial 1 finished with value: 0.9658 and parameters: {'l1_h_dim': 256, 'l2_h_dim': 192, 'l3_h_dim': 96}. Best is trial 0 with value: 0.9684.\n"
     ]
    },
    {
     "name": "stderr",
     "output_type": "stream",
     "text": [
      "Best trial: 0. Best value: 0.9684:  20%|██        | 3/15 [06:42<23:23, 116.95s/it]"
     ]
    },
    {
     "name": "stdout",
     "output_type": "stream",
     "text": [
      "[I 2025-01-05 13:46:30,340] Trial 2 finished with value: 0.9538 and parameters: {'l1_h_dim': 128, 'l2_h_dim': 128, 'l3_h_dim': 96}. Best is trial 0 with value: 0.9684.\n"
     ]
    },
    {
     "name": "stderr",
     "output_type": "stream",
     "text": [
      "Best trial: 0. Best value: 0.9684:  27%|██▋       | 4/15 [07:50<17:53, 97.59s/it] "
     ]
    },
    {
     "name": "stdout",
     "output_type": "stream",
     "text": [
      "[I 2025-01-05 13:47:38,235] Trial 3 finished with value: 0.9538 and parameters: {'l1_h_dim': 128, 'l2_h_dim': 128, 'l3_h_dim': 96}. Best is trial 0 with value: 0.9684.\n"
     ]
    },
    {
     "name": "stderr",
     "output_type": "stream",
     "text": [
      "Best trial: 0. Best value: 0.9684:  33%|███▎      | 5/15 [11:15<22:44, 136.49s/it]"
     ]
    },
    {
     "name": "stdout",
     "output_type": "stream",
     "text": [
      "[I 2025-01-05 13:51:03,695] Trial 4 finished with value: 0.9684 and parameters: {'l1_h_dim': 512, 'l2_h_dim': 192, 'l3_h_dim': 96}. Best is trial 0 with value: 0.9684.\n"
     ]
    },
    {
     "name": "stderr",
     "output_type": "stream",
     "text": [
      "Best trial: 0. Best value: 0.9684:  40%|████      | 6/15 [13:08<19:14, 128.31s/it]"
     ]
    },
    {
     "name": "stdout",
     "output_type": "stream",
     "text": [
      "[I 2025-01-05 13:52:56,128] Trial 5 finished with value: 0.96 and parameters: {'l1_h_dim': 256, 'l2_h_dim': 128, 'l3_h_dim': 64}. Best is trial 0 with value: 0.9684.\n"
     ]
    },
    {
     "name": "stderr",
     "output_type": "stream",
     "text": [
      "Best trial: 0. Best value: 0.9684:  47%|████▋     | 7/15 [15:11<16:53, 126.68s/it]"
     ]
    },
    {
     "name": "stdout",
     "output_type": "stream",
     "text": [
      "[I 2025-01-05 13:54:59,448] Trial 6 finished with value: 0.9658 and parameters: {'l1_h_dim': 256, 'l2_h_dim': 192, 'l3_h_dim': 32}. Best is trial 0 with value: 0.9684.\n"
     ]
    },
    {
     "name": "stderr",
     "output_type": "stream",
     "text": [
      "Best trial: 0. Best value: 0.9684:  53%|█████▎    | 8/15 [16:22<12:42, 108.90s/it]"
     ]
    },
    {
     "name": "stdout",
     "output_type": "stream",
     "text": [
      "[I 2025-01-05 13:56:10,298] Trial 7 finished with value: 0.9613 and parameters: {'l1_h_dim': 128, 'l2_h_dim': 192, 'l3_h_dim': 64}. Best is trial 0 with value: 0.9684.\n"
     ]
    },
    {
     "name": "stderr",
     "output_type": "stream",
     "text": [
      "Best trial: 0. Best value: 0.9684:  60%|██████    | 9/15 [17:30<09:36, 96.17s/it] "
     ]
    },
    {
     "name": "stdout",
     "output_type": "stream",
     "text": [
      "[I 2025-01-05 13:57:18,453] Trial 8 finished with value: 0.9538 and parameters: {'l1_h_dim': 128, 'l2_h_dim': 128, 'l3_h_dim': 32}. Best is trial 0 with value: 0.9684.\n"
     ]
    }
   ],
   "source": [
    "model_params = {\n",
    "    'C': 0.5,\n",
    "    'solver': solver,\n",
    "    'max_iter': 1000,\n",
    "    'batch_size': 20,\n",
    "    'learning_rate': 0.05,\n",
    "}\n",
    "\n",
    "optimize_dbn(utils.Dataset_Select.MNIST.value, model_params, n_trials)"
   ]
  },
  {
   "cell_type": "code",
   "execution_count": null,
   "metadata": {},
   "outputs": [],
   "source": [
    "model_params = {\n",
    "    'C': 0.5,\n",
    "    'solver': solver,\n",
    "    'max_iter': 5000,\n",
    "    'batch_size': 10,\n",
    "    'learning_rate': 0.01,\n",
    "}\n",
    "\n",
    "optimize_dbn(utils.Dataset_Select.F_MNIST.value, model_params, n_trials)"
   ]
  },
  {
   "cell_type": "code",
   "execution_count": null,
   "metadata": {},
   "outputs": [],
   "source": [
    "model_params = {\n",
    "    'C': 1.0,\n",
    "    'solver': solver,\n",
    "    'max_iter': 1000,\n",
    "    'batch_size': 10,\n",
    "    'learning_rate': 0.1,\n",
    "}\n",
    "\n",
    "optimize_dbn(utils.Dataset_Select.K_MNIST.value, model_params, n_trials)"
   ]
  },
  {
   "cell_type": "code",
   "execution_count": null,
   "metadata": {},
   "outputs": [],
   "source": [
    "model_params = {\n",
    "    'C': 0.5,\n",
    "    'solver': solver,\n",
    "    'max_iter': 1000,\n",
    "    'batch_size': 20,\n",
    "    'learning_rate': 0.1,\n",
    "}\n",
    "\n",
    "optimize_dbn(utils.Dataset_Select.KUZ_49.value, model_params, n_trials)"
   ]
  }
 ],
 "metadata": {
  "kernelspec": {
   "display_name": ".venv",
   "language": "python",
   "name": "python3"
  },
  "language_info": {
   "codemirror_mode": {
    "name": "ipython",
    "version": 3
   },
   "file_extension": ".py",
   "mimetype": "text/x-python",
   "name": "python",
   "nbconvert_exporter": "python",
   "pygments_lexer": "ipython3",
   "version": "3.9.6"
  }
 },
 "nbformat": 4,
 "nbformat_minor": 2
}
