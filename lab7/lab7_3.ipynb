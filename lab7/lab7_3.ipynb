{
 "cells": [
  {
   "cell_type": "markdown",
   "metadata": {},
   "source": [
    "Marcin Wardyński  \n",
    "wtorek, 9:45\n",
    "\n",
    "## Laboratorium 7\n",
    "### 7.3 RBM - własna implementacja"
   ]
  },
  {
   "cell_type": "code",
   "execution_count": 3,
   "metadata": {},
   "outputs": [
    {
     "name": "stderr",
     "output_type": "stream",
     "text": [
      "/Users/mwardynski/Documents/ds/_semestr_9/uczenie_maszynowe/labs/.venv/lib/python3.9/site-packages/urllib3/__init__.py:35: NotOpenSSLWarning: urllib3 v2 only supports OpenSSL 1.1.1+, currently the 'ssl' module is compiled with 'LibreSSL 2.8.3'. See: https://github.com/urllib3/urllib3/issues/3020\n",
      "  warnings.warn(\n",
      "/Users/mwardynski/Documents/ds/_semestr_9/uczenie_maszynowe/labs/.venv/lib/python3.9/site-packages/tqdm/auto.py:21: TqdmWarning: IProgress not found. Please update jupyter and ipywidgets. See https://ipywidgets.readthedocs.io/en/stable/user_install.html\n",
      "  from .autonotebook import tqdm as notebook_tqdm\n"
     ]
    },
    {
     "data": {
      "text/plain": [
       "<module 'lab7_utils' from '/Users/mwardynski/Documents/ds/_semestr_9/uczenie_maszynowe/labs/lab7/lab7_utils.py'>"
      ]
     },
     "execution_count": 3,
     "metadata": {},
     "output_type": "execute_result"
    }
   ],
   "source": [
    "import importlib\n",
    "import lab7_utils as utils\n",
    "importlib.reload(utils)"
   ]
  },
  {
   "cell_type": "code",
   "execution_count": 32,
   "metadata": {},
   "outputs": [],
   "source": [
    "import numpy as np\n",
    "import matplotlib.pyplot as plt\n",
    "from skimage.metrics import structural_similarity as ssim\n",
    "import os\n",
    "import imageio\n",
    "\n",
    "class RBM:\n",
    "    def __init__(self, visible_dim, hidden_dim):\n",
    "        self.visible_dim = visible_dim\n",
    "        self.hidden_dim = hidden_dim\n",
    "        # Initialize weights and biases\n",
    "        self.weights = np.random.normal(0, 0.01, (visible_dim, hidden_dim))\n",
    "        self.visible_bias = np.zeros(visible_dim)\n",
    "        self.hidden_bias = np.zeros(hidden_dim)\n",
    "\n",
    "    def sigmoid(self, x):\n",
    "        return 1 / (1 + np.exp(-x))\n",
    "\n",
    "    def fit(self, X, epochs=10, batch_dim=50, lr=0.1, output_dir=\"weights_plots\"):\n",
    "        num_samples = X.shape[0]\n",
    "        \n",
    "        if not os.path.exists(output_dir):\n",
    "            os.makedirs(output_dir)\n",
    "\n",
    "        for epoch in range(epochs):\n",
    "            np.random.shuffle(X)  # Shuffle the data\n",
    "            \n",
    "            for batch_start in range(0, num_samples, batch_dim):\n",
    "                batch = X[batch_start:batch_start + batch_dim]\n",
    "\n",
    "                # Wake phase: Compute probabilities of hidden layer given visible\n",
    "                hidden_probs = self.sigmoid(np.dot(batch, self.weights) + self.hidden_bias)\n",
    "                hidden_states = (hidden_probs > np.random.rand(*hidden_probs.shape)).astype(float)\n",
    "\n",
    "                # Dream phase: Reconstruct visible from hidden\n",
    "                visible_recon_probs = self.sigmoid(np.dot(hidden_states, self.weights.T) + self.visible_bias)\n",
    "                visible_recon_states = (visible_recon_probs > np.random.rand(*visible_recon_probs.shape)).astype(float)\n",
    "\n",
    "                # Recalculate hidden probabilities from reconstructed visible\n",
    "                hidden_recon_probs = self.sigmoid(np.dot(visible_recon_states, self.weights) + self.hidden_bias)\n",
    "\n",
    "                # Contrastive Divergence\n",
    "                positive_gradient = np.dot(batch.T, hidden_probs)\n",
    "                negative_gradient = np.dot(visible_recon_states.T, hidden_recon_probs)\n",
    "\n",
    "                self.weights += lr * (positive_gradient - negative_gradient) / batch_dim\n",
    "                self.visible_bias += lr * np.mean(batch - visible_recon_states, axis=0)\n",
    "                self.hidden_bias += lr * np.mean(hidden_probs - hidden_recon_probs, axis=0)\n",
    "\n",
    "            # Save weight visualization for the current epoch\n",
    "            self.plot_weights(step=epoch + 1, output_dir=output_dir)\n",
    "\n",
    "            # Calculate reconstruction error\n",
    "            error = np.mean((X - self.sigmoid(np.dot(self.sigmoid(np.dot(X, self.weights) + self.hidden_bias), self.weights.T) + self.visible_bias)) ** 2)\n",
    "            print(f\"Epoch {epoch + 1}/{epochs}, Reconstruction Error: {error:.4f}\")\n",
    "\n",
    "        # Create a GIF from saved plots\n",
    "        self.create_gif(output_dir)\n",
    "\n",
    "    def reconstruct(self, X):\n",
    "        hidden_probs = self.sigmoid(np.dot(X, self.weights) + self.hidden_bias)\n",
    "        reconstructed = self.sigmoid(np.dot(hidden_probs, self.weights.T) + self.visible_bias)\n",
    "        return reconstructed\n",
    "\n",
    "    def plot_weights(self, step=0, output_dir=\"weights_plots\"):\n",
    "        plt.figure(figsize=(10, 10))\n",
    "        for i in range(min(100, self.hidden_dim)):\n",
    "            plt.subplot(10, 10, i + 1)\n",
    "            plt.imshow(self.weights[:, i].reshape(int(np.sqrt(self.visible_dim)), -1), cmap='gray')\n",
    "            plt.axis('off')\n",
    "        plt.suptitle(f'Weight Visualization (Step {step})')\n",
    "        plt.savefig(f\"{output_dir}/weights_epoch_{step:03d}.png\")\n",
    "        plt.close()\n",
    "\n",
    "    def plot_reconstruction(self, original, reconstructed):\n",
    "        num_images = min(10, original.shape[0])\n",
    "        plt.figure(figsize=(20, 4))\n",
    "\n",
    "        for i in range(num_images):\n",
    "            # Plot original\n",
    "            plt.subplot(2, num_images, i + 1)\n",
    "            plt.imshow(original[i].reshape(int(np.sqrt(self.visible_dim)), -1), cmap='gray')\n",
    "            plt.title(\"Original\")\n",
    "            plt.axis('off')\n",
    "\n",
    "            # Plot reconstructed\n",
    "            plt.subplot(2, num_images, i + 1 + num_images)\n",
    "            plt.imshow(reconstructed[i].reshape(int(np.sqrt(self.visible_dim)), -1), cmap='gray')\n",
    "            plt.title(\"Reconstructed\")\n",
    "            plt.axis('off')\n",
    "\n",
    "        plt.suptitle(\"Original and Reconstructed Images\")\n",
    "        plt.show()\n",
    "\n",
    "    def compute_ssim(self, original, reconstructed):\n",
    "        data_range = 1.0\n",
    "        num_images = original.shape[0]\n",
    "        ssim_values = []\n",
    "        for i in range(num_images):\n",
    "            orig_img = original[i].reshape(int(np.sqrt(self.visible_dim)), -1)\n",
    "            recon_img = reconstructed[i].reshape(int(np.sqrt(self.visible_dim)), -1)\n",
    "            ssim_values.append(ssim(im1=orig_img, im2=recon_img, data_range=data_range))\n",
    "        return np.mean(ssim_values)\n",
    "\n",
    "    def create_gif(self, output_dir):\n",
    "        images = []\n",
    "        for filename in sorted(os.listdir(output_dir)):\n",
    "            if filename.endswith(\".png\"):\n",
    "                file_path = os.path.join(output_dir, filename)\n",
    "                images.append(imageio.imread(file_path))\n",
    "        gif_path = os.path.join(output_dir, \"weights_visualization.gif\")\n",
    "        imageio.mimsave(gif_path, images, duration=0.5)\n",
    "        print(f\"GIF saved at {gif_path}\")\n"
   ]
  },
  {
   "cell_type": "code",
   "execution_count": 33,
   "metadata": {},
   "outputs": [],
   "source": [
    "X_train, X_test, y_train, y_test = utils.get_dataset(dataset_name=utils.Dataset_Select.F_MNIST.value, print_sample_number=0)"
   ]
  },
  {
   "cell_type": "code",
   "execution_count": 34,
   "metadata": {},
   "outputs": [
    {
     "name": "stdout",
     "output_type": "stream",
     "text": [
      "Epoch 1/10, Reconstruction Error: 0.0598\n",
      "Epoch 2/10, Reconstruction Error: 0.0493\n",
      "Epoch 3/10, Reconstruction Error: 0.0451\n",
      "Epoch 4/10, Reconstruction Error: 0.0427\n",
      "Epoch 5/10, Reconstruction Error: 0.0413\n",
      "Epoch 6/10, Reconstruction Error: 0.0403\n",
      "Epoch 7/10, Reconstruction Error: 0.0396\n",
      "Epoch 8/10, Reconstruction Error: 0.0390\n",
      "Epoch 9/10, Reconstruction Error: 0.0385\n",
      "Epoch 10/10, Reconstruction Error: 0.0382\n"
     ]
    },
    {
     "name": "stderr",
     "output_type": "stream",
     "text": [
      "/var/folders/cd/rgg857vd6xggr1p8_8d98kzr0000gn/T/ipykernel_5623/699840368.py:110: DeprecationWarning: Starting with ImageIO v3 the behavior of this function will switch to that of iio.v3.imread. To keep the current behavior (and make this warning disappear) use `import imageio.v2 as imageio` or call `imageio.v2.imread` directly.\n",
      "  images.append(imageio.imread(file_path))\n"
     ]
    },
    {
     "name": "stdout",
     "output_type": "stream",
     "text": [
      "GIF saved at weights_plots/weights_visualization.gif\n"
     ]
    }
   ],
   "source": [
    "import numpy as np\n",
    "\n",
    "# Generate synthetic data (e.g., binary images)\n",
    "num_samples = 1000\n",
    "visible_dim = 28 * 28  # For example, 28x28 pixel images\n",
    "hidden_dim = 128\n",
    "\n",
    "\n",
    "# Initialize and train the RBM\n",
    "rbm = RBM(visible_dim=visible_dim, hidden_dim=hidden_dim)\n",
    "rbm.fit(X_train)\n",
    "\n",
    "# Reconstruct some data\n",
    "sample = X_train[:10]\n",
    "reconstructed_sample = rbm.reconstruct(sample)"
   ]
  },
  {
   "cell_type": "markdown",
   "metadata": {},
   "source": [
    "```\n",
    "Epoch 1/10, Reconstruction Error: 0.0598\n",
    "Epoch 2/10, Reconstruction Error: 0.0493\n",
    "Epoch 3/10, Reconstruction Error: 0.0451\n",
    "Epoch 4/10, Reconstruction Error: 0.0427\n",
    "Epoch 5/10, Reconstruction Error: 0.0413\n",
    "Epoch 6/10, Reconstruction Error: 0.0403\n",
    "Epoch 7/10, Reconstruction Error: 0.0396\n",
    "Epoch 8/10, Reconstruction Error: 0.0390\n",
    "Epoch 9/10, Reconstruction Error: 0.0385\n",
    "Epoch 10/10, Reconstruction Error: 0.0382\n",
    "/var/folders/cd/rgg857vd6xggr1p8_8d98kzr0000gn/T/ipykernel_5623/699840368.py:110: DeprecationWarning: Starting with ImageIO v3 the behavior of this function will switch to that of iio.v3.imread. To keep the current behavior (and make this warning disappear) use `import imageio.v2 as imageio` or call `imageio.v2.imread` directly.\n",
    "  images.append(imageio.imread(file_path))\n",
    "GIF saved at weights_plots/weights_visualization.gif\n",
    "```"
   ]
  },
  {
   "cell_type": "code",
   "execution_count": 35,
   "metadata": {},
   "outputs": [
    {
     "name": "stderr",
     "output_type": "stream",
     "text": [
      "/var/folders/cd/rgg857vd6xggr1p8_8d98kzr0000gn/T/ipykernel_5623/699840368.py:110: DeprecationWarning: Starting with ImageIO v3 the behavior of this function will switch to that of iio.v3.imread. To keep the current behavior (and make this warning disappear) use `import imageio.v2 as imageio` or call `imageio.v2.imread` directly.\n",
      "  images.append(imageio.imread(file_path))\n"
     ]
    },
    {
     "name": "stdout",
     "output_type": "stream",
     "text": [
      "GIF saved at weights_plots/weights_visualization.gif\n"
     ]
    }
   ],
   "source": [
    "rbm.create_gif(\"weights_plots\")"
   ]
  },
  {
   "cell_type": "code",
   "execution_count": 36,
   "metadata": {},
   "outputs": [
    {
     "data": {
      "image/png": "[encoded data removed]",
      "text/plain": [
       "<Figure size 2000x400 with 20 Axes>"
      ]
     },
     "metadata": {},
     "output_type": "display_data"
    },
    {
     "data": {
      "text/plain": [
       "np.float64(0.6506044114907185)"
      ]
     },
     "execution_count": 36,
     "metadata": {},
     "output_type": "execute_result"
    }
   ],
   "source": [
    "\n",
    "rbm.plot_reconstruction(sample, reconstructed_sample)\n",
    "rbm.compute_ssim(sample, reconstructed_sample)"
   ]
  }
 ],
 "metadata": {
  "kernelspec": {
   "display_name": ".venv",
   "language": "python",
   "name": "python3"
  },
  "language_info": {
   "codemirror_mode": {
    "name": "ipython",
    "version": 3
   },
   "file_extension": ".py",
   "mimetype": "text/x-python",
   "name": "python",
   "nbconvert_exporter": "python",
   "pygments_lexer": "ipython3",
   "version": "3.9.6"
  }
 },
 "nbformat": 4,
 "nbformat_minor": 2
}
